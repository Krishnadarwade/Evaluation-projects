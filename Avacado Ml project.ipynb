{
 "cells": [
  {
   "cell_type": "code",
   "execution_count": 1,
   "id": "0776c483",
   "metadata": {},
   "outputs": [],
   "source": [
    "import pandas as pd\n",
    "import seaborn as sns\n",
    "import warnings\n",
    "warnings.filterwarnings('ignore')\n",
    "import matplotlib.pyplot as plt\n",
    "import numpy as np\n",
    "from scipy.stats import zscore"
   ]
  },
  {
   "cell_type": "code",
   "execution_count": 2,
   "id": "fa438461",
   "metadata": {},
   "outputs": [
    {
     "data": {
      "text/html": [
       "<div>\n",
       "<style scoped>\n",
       "    .dataframe tbody tr th:only-of-type {\n",
       "        vertical-align: middle;\n",
       "    }\n",
       "\n",
       "    .dataframe tbody tr th {\n",
       "        vertical-align: top;\n",
       "    }\n",
       "\n",
       "    .dataframe thead th {\n",
       "        text-align: right;\n",
       "    }\n",
       "</style>\n",
       "<table border=\"1\" class=\"dataframe\">\n",
       "  <thead>\n",
       "    <tr style=\"text-align: right;\">\n",
       "      <th></th>\n",
       "      <th>Unnamed: 0</th>\n",
       "      <th>Date</th>\n",
       "      <th>AveragePrice</th>\n",
       "      <th>Total Volume</th>\n",
       "      <th>4046</th>\n",
       "      <th>4225</th>\n",
       "      <th>4770</th>\n",
       "      <th>Total Bags</th>\n",
       "      <th>Small Bags</th>\n",
       "      <th>Large Bags</th>\n",
       "      <th>XLarge Bags</th>\n",
       "      <th>type</th>\n",
       "      <th>year</th>\n",
       "      <th>region</th>\n",
       "    </tr>\n",
       "  </thead>\n",
       "  <tbody>\n",
       "    <tr>\n",
       "      <th>0</th>\n",
       "      <td>0.0</td>\n",
       "      <td>27-12-2015</td>\n",
       "      <td>1.33</td>\n",
       "      <td>64236.62</td>\n",
       "      <td>1036.74</td>\n",
       "      <td>54454.85</td>\n",
       "      <td>48.16</td>\n",
       "      <td>8696.87</td>\n",
       "      <td>8603.62</td>\n",
       "      <td>93.25</td>\n",
       "      <td>0.0</td>\n",
       "      <td>conventional</td>\n",
       "      <td>2015.0</td>\n",
       "      <td>Albany</td>\n",
       "    </tr>\n",
       "    <tr>\n",
       "      <th>1</th>\n",
       "      <td>1.0</td>\n",
       "      <td>20-12-2015</td>\n",
       "      <td>1.35</td>\n",
       "      <td>54876.98</td>\n",
       "      <td>674.28</td>\n",
       "      <td>44638.81</td>\n",
       "      <td>58.33</td>\n",
       "      <td>9505.56</td>\n",
       "      <td>9408.07</td>\n",
       "      <td>97.49</td>\n",
       "      <td>0.0</td>\n",
       "      <td>conventional</td>\n",
       "      <td>2015.0</td>\n",
       "      <td>Albany</td>\n",
       "    </tr>\n",
       "    <tr>\n",
       "      <th>2</th>\n",
       "      <td>2.0</td>\n",
       "      <td>13-12-2015</td>\n",
       "      <td>0.93</td>\n",
       "      <td>118220.22</td>\n",
       "      <td>794.70</td>\n",
       "      <td>109149.67</td>\n",
       "      <td>130.50</td>\n",
       "      <td>8145.35</td>\n",
       "      <td>8042.21</td>\n",
       "      <td>103.14</td>\n",
       "      <td>0.0</td>\n",
       "      <td>conventional</td>\n",
       "      <td>2015.0</td>\n",
       "      <td>Albany</td>\n",
       "    </tr>\n",
       "    <tr>\n",
       "      <th>3</th>\n",
       "      <td>3.0</td>\n",
       "      <td>06-12-2015</td>\n",
       "      <td>1.08</td>\n",
       "      <td>78992.15</td>\n",
       "      <td>1132.00</td>\n",
       "      <td>71976.41</td>\n",
       "      <td>72.58</td>\n",
       "      <td>5811.16</td>\n",
       "      <td>5677.40</td>\n",
       "      <td>133.76</td>\n",
       "      <td>0.0</td>\n",
       "      <td>conventional</td>\n",
       "      <td>2015.0</td>\n",
       "      <td>Albany</td>\n",
       "    </tr>\n",
       "    <tr>\n",
       "      <th>4</th>\n",
       "      <td>4.0</td>\n",
       "      <td>29-11-2015</td>\n",
       "      <td>1.28</td>\n",
       "      <td>51039.60</td>\n",
       "      <td>941.48</td>\n",
       "      <td>43838.39</td>\n",
       "      <td>75.78</td>\n",
       "      <td>6183.95</td>\n",
       "      <td>5986.26</td>\n",
       "      <td>197.69</td>\n",
       "      <td>0.0</td>\n",
       "      <td>conventional</td>\n",
       "      <td>2015.0</td>\n",
       "      <td>Albany</td>\n",
       "    </tr>\n",
       "    <tr>\n",
       "      <th>...</th>\n",
       "      <td>...</td>\n",
       "      <td>...</td>\n",
       "      <td>...</td>\n",
       "      <td>...</td>\n",
       "      <td>...</td>\n",
       "      <td>...</td>\n",
       "      <td>...</td>\n",
       "      <td>...</td>\n",
       "      <td>...</td>\n",
       "      <td>...</td>\n",
       "      <td>...</td>\n",
       "      <td>...</td>\n",
       "      <td>...</td>\n",
       "      <td>...</td>\n",
       "    </tr>\n",
       "    <tr>\n",
       "      <th>16463</th>\n",
       "      <td>NaN</td>\n",
       "      <td>NaN</td>\n",
       "      <td>NaN</td>\n",
       "      <td>NaN</td>\n",
       "      <td>NaN</td>\n",
       "      <td>NaN</td>\n",
       "      <td>NaN</td>\n",
       "      <td>NaN</td>\n",
       "      <td>NaN</td>\n",
       "      <td>NaN</td>\n",
       "      <td>NaN</td>\n",
       "      <td>NaN</td>\n",
       "      <td>NaN</td>\n",
       "      <td>NaN</td>\n",
       "    </tr>\n",
       "    <tr>\n",
       "      <th>16464</th>\n",
       "      <td>NaN</td>\n",
       "      <td>NaN</td>\n",
       "      <td>NaN</td>\n",
       "      <td>NaN</td>\n",
       "      <td>NaN</td>\n",
       "      <td>NaN</td>\n",
       "      <td>NaN</td>\n",
       "      <td>NaN</td>\n",
       "      <td>NaN</td>\n",
       "      <td>NaN</td>\n",
       "      <td>NaN</td>\n",
       "      <td>NaN</td>\n",
       "      <td>NaN</td>\n",
       "      <td>NaN</td>\n",
       "    </tr>\n",
       "    <tr>\n",
       "      <th>16465</th>\n",
       "      <td>NaN</td>\n",
       "      <td>NaN</td>\n",
       "      <td>NaN</td>\n",
       "      <td>NaN</td>\n",
       "      <td>NaN</td>\n",
       "      <td>NaN</td>\n",
       "      <td>NaN</td>\n",
       "      <td>NaN</td>\n",
       "      <td>NaN</td>\n",
       "      <td>NaN</td>\n",
       "      <td>NaN</td>\n",
       "      <td>NaN</td>\n",
       "      <td>NaN</td>\n",
       "      <td>NaN</td>\n",
       "    </tr>\n",
       "    <tr>\n",
       "      <th>16466</th>\n",
       "      <td>NaN</td>\n",
       "      <td>NaN</td>\n",
       "      <td>NaN</td>\n",
       "      <td>NaN</td>\n",
       "      <td>NaN</td>\n",
       "      <td>NaN</td>\n",
       "      <td>NaN</td>\n",
       "      <td>NaN</td>\n",
       "      <td>NaN</td>\n",
       "      <td>NaN</td>\n",
       "      <td>NaN</td>\n",
       "      <td>NaN</td>\n",
       "      <td>NaN</td>\n",
       "      <td>NaN</td>\n",
       "    </tr>\n",
       "    <tr>\n",
       "      <th>16467</th>\n",
       "      <td>NaN</td>\n",
       "      <td>NaN</td>\n",
       "      <td>NaN</td>\n",
       "      <td>NaN</td>\n",
       "      <td>NaN</td>\n",
       "      <td>NaN</td>\n",
       "      <td>NaN</td>\n",
       "      <td>NaN</td>\n",
       "      <td>NaN</td>\n",
       "      <td>NaN</td>\n",
       "      <td>NaN</td>\n",
       "      <td>NaN</td>\n",
       "      <td>NaN</td>\n",
       "      <td>NaN</td>\n",
       "    </tr>\n",
       "  </tbody>\n",
       "</table>\n",
       "<p>16468 rows × 14 columns</p>\n",
       "</div>"
      ],
      "text/plain": [
       "       Unnamed: 0        Date  AveragePrice  Total Volume     4046       4225  \\\n",
       "0             0.0  27-12-2015          1.33      64236.62  1036.74   54454.85   \n",
       "1             1.0  20-12-2015          1.35      54876.98   674.28   44638.81   \n",
       "2             2.0  13-12-2015          0.93     118220.22   794.70  109149.67   \n",
       "3             3.0  06-12-2015          1.08      78992.15  1132.00   71976.41   \n",
       "4             4.0  29-11-2015          1.28      51039.60   941.48   43838.39   \n",
       "...           ...         ...           ...           ...      ...        ...   \n",
       "16463         NaN         NaN           NaN           NaN      NaN        NaN   \n",
       "16464         NaN         NaN           NaN           NaN      NaN        NaN   \n",
       "16465         NaN         NaN           NaN           NaN      NaN        NaN   \n",
       "16466         NaN         NaN           NaN           NaN      NaN        NaN   \n",
       "16467         NaN         NaN           NaN           NaN      NaN        NaN   \n",
       "\n",
       "         4770  Total Bags  Small Bags  Large Bags  XLarge Bags          type  \\\n",
       "0       48.16     8696.87     8603.62       93.25          0.0  conventional   \n",
       "1       58.33     9505.56     9408.07       97.49          0.0  conventional   \n",
       "2      130.50     8145.35     8042.21      103.14          0.0  conventional   \n",
       "3       72.58     5811.16     5677.40      133.76          0.0  conventional   \n",
       "4       75.78     6183.95     5986.26      197.69          0.0  conventional   \n",
       "...       ...         ...         ...         ...          ...           ...   \n",
       "16463     NaN         NaN         NaN         NaN          NaN           NaN   \n",
       "16464     NaN         NaN         NaN         NaN          NaN           NaN   \n",
       "16465     NaN         NaN         NaN         NaN          NaN           NaN   \n",
       "16466     NaN         NaN         NaN         NaN          NaN           NaN   \n",
       "16467     NaN         NaN         NaN         NaN          NaN           NaN   \n",
       "\n",
       "         year  region  \n",
       "0      2015.0  Albany  \n",
       "1      2015.0  Albany  \n",
       "2      2015.0  Albany  \n",
       "3      2015.0  Albany  \n",
       "4      2015.0  Albany  \n",
       "...       ...     ...  \n",
       "16463     NaN     NaN  \n",
       "16464     NaN     NaN  \n",
       "16465     NaN     NaN  \n",
       "16466     NaN     NaN  \n",
       "16467     NaN     NaN  \n",
       "\n",
       "[16468 rows x 14 columns]"
      ]
     },
     "execution_count": 2,
     "metadata": {},
     "output_type": "execute_result"
    }
   ],
   "source": [
    "df=pd.read_csv('https://raw.githubusercontent.com/dsrscientist/Data-Science-ML-Capstone-Projects/master/avocado.csv')\n",
    "df"
   ]
  },
  {
   "cell_type": "markdown",
   "id": "8ebfbfe6",
   "metadata": {},
   "source": [
    "Let's know about our dataset before proceeding further\n",
    "\n",
    "Unnamed- it's just a column having serial numbers as an index which we wil remove as this will not conribute in our data prediction.\n",
    "\n",
    "Date - The date of the observation about Avacado sale.\n",
    "\n",
    "AveragePrice - the average price of a single avocado.\n",
    "\n",
    "Total volume- This column defines total volume or we can say quantity of Avacado sold at that particular date.\n",
    "\n",
    "4046 - Total number of avocados with PLU 4046 sold.\n",
    "\n",
    "4225 - Total number of avocados with PLU 4225 sold.\n",
    "\n",
    "4770 - Total number of avocados with PLU 4770 sold.\n",
    "\n",
    "Total bags- it's number of total bags of small, large and extra large bags of Avacado sold.\n",
    "\n",
    "Small bags- It's number of small bags containing Avacado sold.\n",
    "\n",
    "Large bags- It's number of Large bags containing Avacado sold.\n",
    "\n",
    "Extra large bags- It's number of Extra large bags containing Avacado sold.\n",
    "\n",
    "Type - It defines type of an Avacado whether it's a  conventional or organic one.\n",
    "\n",
    "year - The year of sale when sale has been happened. \n",
    "\n",
    "Region - This column defies the city or region of the observation where sale has been happened."
   ]
  },
  {
   "cell_type": "code",
   "execution_count": 103,
   "id": "feb08d19",
   "metadata": {},
   "outputs": [
    {
     "data": {
      "text/html": [
       "<div>\n",
       "<style scoped>\n",
       "    .dataframe tbody tr th:only-of-type {\n",
       "        vertical-align: middle;\n",
       "    }\n",
       "\n",
       "    .dataframe tbody tr th {\n",
       "        vertical-align: top;\n",
       "    }\n",
       "\n",
       "    .dataframe thead th {\n",
       "        text-align: right;\n",
       "    }\n",
       "</style>\n",
       "<table border=\"1\" class=\"dataframe\">\n",
       "  <thead>\n",
       "    <tr style=\"text-align: right;\">\n",
       "      <th></th>\n",
       "      <th>Unnamed: 0</th>\n",
       "      <th>Date</th>\n",
       "      <th>AveragePrice</th>\n",
       "      <th>Total Volume</th>\n",
       "      <th>4046</th>\n",
       "      <th>4225</th>\n",
       "      <th>4770</th>\n",
       "      <th>Total Bags</th>\n",
       "      <th>Small Bags</th>\n",
       "      <th>Large Bags</th>\n",
       "      <th>XLarge Bags</th>\n",
       "      <th>type</th>\n",
       "      <th>year</th>\n",
       "      <th>region</th>\n",
       "    </tr>\n",
       "  </thead>\n",
       "  <tbody>\n",
       "    <tr>\n",
       "      <th>0</th>\n",
       "      <td>0.0</td>\n",
       "      <td>27-12-2015</td>\n",
       "      <td>1.33</td>\n",
       "      <td>64236.62</td>\n",
       "      <td>1036.74</td>\n",
       "      <td>54454.85</td>\n",
       "      <td>48.16</td>\n",
       "      <td>8696.87</td>\n",
       "      <td>8603.62</td>\n",
       "      <td>93.25</td>\n",
       "      <td>0.0</td>\n",
       "      <td>conventional</td>\n",
       "      <td>2015.0</td>\n",
       "      <td>Albany</td>\n",
       "    </tr>\n",
       "    <tr>\n",
       "      <th>1</th>\n",
       "      <td>1.0</td>\n",
       "      <td>20-12-2015</td>\n",
       "      <td>1.35</td>\n",
       "      <td>54876.98</td>\n",
       "      <td>674.28</td>\n",
       "      <td>44638.81</td>\n",
       "      <td>58.33</td>\n",
       "      <td>9505.56</td>\n",
       "      <td>9408.07</td>\n",
       "      <td>97.49</td>\n",
       "      <td>0.0</td>\n",
       "      <td>conventional</td>\n",
       "      <td>2015.0</td>\n",
       "      <td>Albany</td>\n",
       "    </tr>\n",
       "    <tr>\n",
       "      <th>2</th>\n",
       "      <td>2.0</td>\n",
       "      <td>13-12-2015</td>\n",
       "      <td>0.93</td>\n",
       "      <td>118220.22</td>\n",
       "      <td>794.70</td>\n",
       "      <td>109149.67</td>\n",
       "      <td>130.50</td>\n",
       "      <td>8145.35</td>\n",
       "      <td>8042.21</td>\n",
       "      <td>103.14</td>\n",
       "      <td>0.0</td>\n",
       "      <td>conventional</td>\n",
       "      <td>2015.0</td>\n",
       "      <td>Albany</td>\n",
       "    </tr>\n",
       "    <tr>\n",
       "      <th>3</th>\n",
       "      <td>3.0</td>\n",
       "      <td>06-12-2015</td>\n",
       "      <td>1.08</td>\n",
       "      <td>78992.15</td>\n",
       "      <td>1132.00</td>\n",
       "      <td>71976.41</td>\n",
       "      <td>72.58</td>\n",
       "      <td>5811.16</td>\n",
       "      <td>5677.40</td>\n",
       "      <td>133.76</td>\n",
       "      <td>0.0</td>\n",
       "      <td>conventional</td>\n",
       "      <td>2015.0</td>\n",
       "      <td>Albany</td>\n",
       "    </tr>\n",
       "    <tr>\n",
       "      <th>4</th>\n",
       "      <td>4.0</td>\n",
       "      <td>29-11-2015</td>\n",
       "      <td>1.28</td>\n",
       "      <td>51039.60</td>\n",
       "      <td>941.48</td>\n",
       "      <td>43838.39</td>\n",
       "      <td>75.78</td>\n",
       "      <td>6183.95</td>\n",
       "      <td>5986.26</td>\n",
       "      <td>197.69</td>\n",
       "      <td>0.0</td>\n",
       "      <td>conventional</td>\n",
       "      <td>2015.0</td>\n",
       "      <td>Albany</td>\n",
       "    </tr>\n",
       "  </tbody>\n",
       "</table>\n",
       "</div>"
      ],
      "text/plain": [
       "   Unnamed: 0        Date  AveragePrice  Total Volume     4046       4225  \\\n",
       "0         0.0  27-12-2015          1.33      64236.62  1036.74   54454.85   \n",
       "1         1.0  20-12-2015          1.35      54876.98   674.28   44638.81   \n",
       "2         2.0  13-12-2015          0.93     118220.22   794.70  109149.67   \n",
       "3         3.0  06-12-2015          1.08      78992.15  1132.00   71976.41   \n",
       "4         4.0  29-11-2015          1.28      51039.60   941.48   43838.39   \n",
       "\n",
       "     4770  Total Bags  Small Bags  Large Bags  XLarge Bags          type  \\\n",
       "0   48.16     8696.87     8603.62       93.25          0.0  conventional   \n",
       "1   58.33     9505.56     9408.07       97.49          0.0  conventional   \n",
       "2  130.50     8145.35     8042.21      103.14          0.0  conventional   \n",
       "3   72.58     5811.16     5677.40      133.76          0.0  conventional   \n",
       "4   75.78     6183.95     5986.26      197.69          0.0  conventional   \n",
       "\n",
       "     year  region  \n",
       "0  2015.0  Albany  \n",
       "1  2015.0  Albany  \n",
       "2  2015.0  Albany  \n",
       "3  2015.0  Albany  \n",
       "4  2015.0  Albany  "
      ]
     },
     "execution_count": 103,
     "metadata": {},
     "output_type": "execute_result"
    }
   ],
   "source": [
    "df.head()"
   ]
  },
  {
   "cell_type": "markdown",
   "id": "c6a38e83",
   "metadata": {},
   "source": [
    "With the above we can see first 5 rows of our dataset, by which we can see that in which region avacado has been sold more also the price affecting factors of Avacado."
   ]
  },
  {
   "cell_type": "code",
   "execution_count": 104,
   "id": "c3b73cd5",
   "metadata": {},
   "outputs": [
    {
     "data": {
      "text/html": [
       "<div>\n",
       "<style scoped>\n",
       "    .dataframe tbody tr th:only-of-type {\n",
       "        vertical-align: middle;\n",
       "    }\n",
       "\n",
       "    .dataframe tbody tr th {\n",
       "        vertical-align: top;\n",
       "    }\n",
       "\n",
       "    .dataframe thead th {\n",
       "        text-align: right;\n",
       "    }\n",
       "</style>\n",
       "<table border=\"1\" class=\"dataframe\">\n",
       "  <thead>\n",
       "    <tr style=\"text-align: right;\">\n",
       "      <th></th>\n",
       "      <th>Unnamed: 0</th>\n",
       "      <th>Date</th>\n",
       "      <th>AveragePrice</th>\n",
       "      <th>Total Volume</th>\n",
       "      <th>4046</th>\n",
       "      <th>4225</th>\n",
       "      <th>4770</th>\n",
       "      <th>Total Bags</th>\n",
       "      <th>Small Bags</th>\n",
       "      <th>Large Bags</th>\n",
       "      <th>XLarge Bags</th>\n",
       "      <th>type</th>\n",
       "      <th>year</th>\n",
       "      <th>region</th>\n",
       "    </tr>\n",
       "  </thead>\n",
       "  <tbody>\n",
       "    <tr>\n",
       "      <th>16463</th>\n",
       "      <td>NaN</td>\n",
       "      <td>NaN</td>\n",
       "      <td>NaN</td>\n",
       "      <td>NaN</td>\n",
       "      <td>NaN</td>\n",
       "      <td>NaN</td>\n",
       "      <td>NaN</td>\n",
       "      <td>NaN</td>\n",
       "      <td>NaN</td>\n",
       "      <td>NaN</td>\n",
       "      <td>NaN</td>\n",
       "      <td>NaN</td>\n",
       "      <td>NaN</td>\n",
       "      <td>NaN</td>\n",
       "    </tr>\n",
       "    <tr>\n",
       "      <th>16464</th>\n",
       "      <td>NaN</td>\n",
       "      <td>NaN</td>\n",
       "      <td>NaN</td>\n",
       "      <td>NaN</td>\n",
       "      <td>NaN</td>\n",
       "      <td>NaN</td>\n",
       "      <td>NaN</td>\n",
       "      <td>NaN</td>\n",
       "      <td>NaN</td>\n",
       "      <td>NaN</td>\n",
       "      <td>NaN</td>\n",
       "      <td>NaN</td>\n",
       "      <td>NaN</td>\n",
       "      <td>NaN</td>\n",
       "    </tr>\n",
       "    <tr>\n",
       "      <th>16465</th>\n",
       "      <td>NaN</td>\n",
       "      <td>NaN</td>\n",
       "      <td>NaN</td>\n",
       "      <td>NaN</td>\n",
       "      <td>NaN</td>\n",
       "      <td>NaN</td>\n",
       "      <td>NaN</td>\n",
       "      <td>NaN</td>\n",
       "      <td>NaN</td>\n",
       "      <td>NaN</td>\n",
       "      <td>NaN</td>\n",
       "      <td>NaN</td>\n",
       "      <td>NaN</td>\n",
       "      <td>NaN</td>\n",
       "    </tr>\n",
       "    <tr>\n",
       "      <th>16466</th>\n",
       "      <td>NaN</td>\n",
       "      <td>NaN</td>\n",
       "      <td>NaN</td>\n",
       "      <td>NaN</td>\n",
       "      <td>NaN</td>\n",
       "      <td>NaN</td>\n",
       "      <td>NaN</td>\n",
       "      <td>NaN</td>\n",
       "      <td>NaN</td>\n",
       "      <td>NaN</td>\n",
       "      <td>NaN</td>\n",
       "      <td>NaN</td>\n",
       "      <td>NaN</td>\n",
       "      <td>NaN</td>\n",
       "    </tr>\n",
       "    <tr>\n",
       "      <th>16467</th>\n",
       "      <td>NaN</td>\n",
       "      <td>NaN</td>\n",
       "      <td>NaN</td>\n",
       "      <td>NaN</td>\n",
       "      <td>NaN</td>\n",
       "      <td>NaN</td>\n",
       "      <td>NaN</td>\n",
       "      <td>NaN</td>\n",
       "      <td>NaN</td>\n",
       "      <td>NaN</td>\n",
       "      <td>NaN</td>\n",
       "      <td>NaN</td>\n",
       "      <td>NaN</td>\n",
       "      <td>NaN</td>\n",
       "    </tr>\n",
       "  </tbody>\n",
       "</table>\n",
       "</div>"
      ],
      "text/plain": [
       "       Unnamed: 0 Date  AveragePrice  Total Volume  4046  4225  4770  \\\n",
       "16463         NaN  NaN           NaN           NaN   NaN   NaN   NaN   \n",
       "16464         NaN  NaN           NaN           NaN   NaN   NaN   NaN   \n",
       "16465         NaN  NaN           NaN           NaN   NaN   NaN   NaN   \n",
       "16466         NaN  NaN           NaN           NaN   NaN   NaN   NaN   \n",
       "16467         NaN  NaN           NaN           NaN   NaN   NaN   NaN   \n",
       "\n",
       "       Total Bags  Small Bags  Large Bags  XLarge Bags type  year region  \n",
       "16463         NaN         NaN         NaN          NaN  NaN   NaN    NaN  \n",
       "16464         NaN         NaN         NaN          NaN  NaN   NaN    NaN  \n",
       "16465         NaN         NaN         NaN          NaN  NaN   NaN    NaN  \n",
       "16466         NaN         NaN         NaN          NaN  NaN   NaN    NaN  \n",
       "16467         NaN         NaN         NaN          NaN  NaN   NaN    NaN  "
      ]
     },
     "execution_count": 104,
     "metadata": {},
     "output_type": "execute_result"
    }
   ],
   "source": [
    "df.tail()"
   ]
  },
  {
   "cell_type": "markdown",
   "id": "6019d23a",
   "metadata": {},
   "source": [
    "With the above we can see last 5 rows of our dataset, by which we can see that most of the last rows are having null values which we have to deal with and we'll do it further."
   ]
  },
  {
   "cell_type": "code",
   "execution_count": 7,
   "id": "e178b00f",
   "metadata": {},
   "outputs": [
    {
     "data": {
      "text/plain": [
       "(16468, 14)"
      ]
     },
     "execution_count": 7,
     "metadata": {},
     "output_type": "execute_result"
    }
   ],
   "source": [
    "df.shape"
   ]
  },
  {
   "cell_type": "markdown",
   "id": "5e7a3062",
   "metadata": {},
   "source": [
    "By the above function we can see that we are having 16468 rows and 14 columns  in our dataset."
   ]
  },
  {
   "cell_type": "code",
   "execution_count": 8,
   "id": "cb5ff1b5",
   "metadata": {},
   "outputs": [
    {
     "data": {
      "text/plain": [
       "Index(['Unnamed: 0', 'Date', 'AveragePrice', 'Total Volume', '4046', '4225',\n",
       "       '4770', 'Total Bags', 'Small Bags', 'Large Bags', 'XLarge Bags', 'type',\n",
       "       'year', 'region'],\n",
       "      dtype='object')"
      ]
     },
     "execution_count": 8,
     "metadata": {},
     "output_type": "execute_result"
    }
   ],
   "source": [
    "df.columns"
   ]
  },
  {
   "cell_type": "markdown",
   "id": "4d54761f",
   "metadata": {},
   "source": [
    "\n",
    "Here are the column name of our dataset in which all the columns may not be helpful for us, we'll see further by our analys."
   ]
  },
  {
   "cell_type": "code",
   "execution_count": 34,
   "id": "69d54247",
   "metadata": {},
   "outputs": [
    {
     "data": {
      "text/plain": [
       "Unnamed: 0      float64\n",
       "Date             object\n",
       "AveragePrice    float64\n",
       "Total Volume    float64\n",
       "4046            float64\n",
       "4225            float64\n",
       "4770            float64\n",
       "Total Bags      float64\n",
       "Small Bags      float64\n",
       "Large Bags      float64\n",
       "XLarge Bags     float64\n",
       "type             object\n",
       "year            float64\n",
       "region           object\n",
       "dtype: object"
      ]
     },
     "execution_count": 34,
     "metadata": {},
     "output_type": "execute_result"
    }
   ],
   "source": [
    "df.dtypes"
   ]
  },
  {
   "cell_type": "markdown",
   "id": "fe9d800a",
   "metadata": {},
   "source": [
    "Here we can see that most of our columns are having float datatype which can work with machine learning model however we need t deal with date column as it is showing object datatype and we need to change it to date data type also we'll treat object datatypes columns."
   ]
  },
  {
   "cell_type": "code",
   "execution_count": 3,
   "id": "c862c946",
   "metadata": {},
   "outputs": [],
   "source": [
    "df['Date'] = pd.to_datetime(df['Date'], format='%d-%m-%Y')"
   ]
  },
  {
   "cell_type": "code",
   "execution_count": 4,
   "id": "6e0d2141",
   "metadata": {},
   "outputs": [
    {
     "data": {
      "text/plain": [
       "Unnamed: 0             float64\n",
       "Date            datetime64[ns]\n",
       "AveragePrice           float64\n",
       "Total Volume           float64\n",
       "4046                   float64\n",
       "4225                   float64\n",
       "4770                   float64\n",
       "Total Bags             float64\n",
       "Small Bags             float64\n",
       "Large Bags             float64\n",
       "XLarge Bags            float64\n",
       "type                    object\n",
       "year                   float64\n",
       "region                  object\n",
       "dtype: object"
      ]
     },
     "execution_count": 4,
     "metadata": {},
     "output_type": "execute_result"
    }
   ],
   "source": [
    "df.dtypes"
   ]
  },
  {
   "cell_type": "markdown",
   "id": "d813bce7",
   "metadata": {},
   "source": [
    "Great! now we have all the columns ready to work with by which we can proceed further for analysis and model. "
   ]
  },
  {
   "cell_type": "code",
   "execution_count": 5,
   "id": "6f6bb725",
   "metadata": {},
   "outputs": [
    {
     "data": {
      "text/plain": [
       "Unnamed: 0      14951\n",
       "Date            14951\n",
       "AveragePrice    14951\n",
       "Total Volume    14951\n",
       "4046            14951\n",
       "4225            14951\n",
       "4770            14951\n",
       "Total Bags      14951\n",
       "Small Bags      14951\n",
       "Large Bags      14951\n",
       "XLarge Bags     14951\n",
       "type            14951\n",
       "year            14951\n",
       "region          14951\n",
       "dtype: int64"
      ]
     },
     "execution_count": 5,
     "metadata": {},
     "output_type": "execute_result"
    }
   ],
   "source": [
    "#let's quickly check null values now as we have seen many in tail function.\n",
    "df.isnull().sum()"
   ]
  },
  {
   "cell_type": "markdown",
   "id": "2a1a769b",
   "metadata": {},
   "source": [
    "As we can see we have huge number of null values in our data also the number of null values are also same this means we have to compromise and lose huge amount of data as it will not be helpfulfor us for prediction at all so let's remove this null rows."
   ]
  },
  {
   "cell_type": "code",
   "execution_count": 3,
   "id": "4ca45207",
   "metadata": {},
   "outputs": [],
   "source": [
    "#By below method we are only removing rows having null value in it's every column.\n",
    "df = df.dropna(how='all')"
   ]
  },
  {
   "cell_type": "code",
   "execution_count": 4,
   "id": "348b500b",
   "metadata": {},
   "outputs": [
    {
     "data": {
      "text/plain": [
       "Unnamed: 0      0\n",
       "Date            0\n",
       "AveragePrice    0\n",
       "Total Volume    0\n",
       "4046            0\n",
       "4225            0\n",
       "4770            0\n",
       "Total Bags      0\n",
       "Small Bags      0\n",
       "Large Bags      0\n",
       "XLarge Bags     0\n",
       "type            0\n",
       "year            0\n",
       "region          0\n",
       "dtype: int64"
      ]
     },
     "execution_count": 4,
     "metadata": {},
     "output_type": "execute_result"
    }
   ],
   "source": [
    "df.isnull().sum()"
   ]
  },
  {
   "cell_type": "markdown",
   "id": "e85664df",
   "metadata": {},
   "source": [
    "And it's done we've succesfully treated all the null values in one go let's proceed further and remove unnamed column as it is not contributing in prediction of our data."
   ]
  },
  {
   "cell_type": "code",
   "execution_count": 5,
   "id": "a6f8e2b4",
   "metadata": {},
   "outputs": [],
   "source": [
    "df.drop(columns=['Unnamed: 0'], inplace=True)"
   ]
  },
  {
   "cell_type": "code",
   "execution_count": 41,
   "id": "3039c63c",
   "metadata": {},
   "outputs": [
    {
     "data": {
      "text/plain": [
       "<Axes: >"
      ]
     },
     "execution_count": 41,
     "metadata": {},
     "output_type": "execute_result"
    },
    {
     "data": {
      "image/png": "[encoded data removed]",
      "text/plain": [
       "<Figure size 640x480 with 2 Axes>"
      ]
     },
     "metadata": {},
     "output_type": "display_data"
    }
   ],
   "source": [
    "#let's also check heatmap of null values after treatment\n",
    "sns.heatmap(df.isnull())"
   ]
  },
  {
   "cell_type": "code",
   "execution_count": 7,
   "id": "aaf6747d",
   "metadata": {},
   "outputs": [],
   "source": [
    "#Now let's change our object columns into nuymeric to proceed further.\n",
    "from sklearn.preprocessing import LabelEncoder\n",
    "label_encoder = LabelEncoder()"
   ]
  },
  {
   "cell_type": "code",
   "execution_count": 8,
   "id": "9b0f9b50",
   "metadata": {},
   "outputs": [],
   "source": [
    "df['type'] = label_encoder.fit_transform(df['type'])"
   ]
  },
  {
   "cell_type": "code",
   "execution_count": 9,
   "id": "8d422518",
   "metadata": {},
   "outputs": [],
   "source": [
    "df['region'] = label_encoder.fit_transform(df['region'])"
   ]
  },
  {
   "cell_type": "code",
   "execution_count": 10,
   "id": "5f64880c",
   "metadata": {},
   "outputs": [
    {
     "name": "stdout",
     "output_type": "stream",
     "text": [
      "<class 'pandas.core.frame.DataFrame'>\n",
      "Int64Index: 1517 entries, 0 to 1516\n",
      "Data columns (total 13 columns):\n",
      " #   Column        Non-Null Count  Dtype  \n",
      "---  ------        --------------  -----  \n",
      " 0   Date          1517 non-null   object \n",
      " 1   AveragePrice  1517 non-null   float64\n",
      " 2   Total Volume  1517 non-null   float64\n",
      " 3   4046          1517 non-null   float64\n",
      " 4   4225          1517 non-null   float64\n",
      " 5   4770          1517 non-null   float64\n",
      " 6   Total Bags    1517 non-null   float64\n",
      " 7   Small Bags    1517 non-null   float64\n",
      " 8   Large Bags    1517 non-null   float64\n",
      " 9   XLarge Bags   1517 non-null   float64\n",
      " 10  type          1517 non-null   int32  \n",
      " 11  year          1517 non-null   float64\n",
      " 12  region        1517 non-null   int32  \n",
      "dtypes: float64(10), int32(2), object(1)\n",
      "memory usage: 154.1+ KB\n"
     ]
    }
   ],
   "source": [
    "df.info()"
   ]
  },
  {
   "cell_type": "markdown",
   "id": "de78758b",
   "metadata": {},
   "source": [
    "We can see now we have successfully sorted all the the columns it's datatypes and null values present in our data, now let's analys it further."
   ]
  },
  {
   "cell_type": "code",
   "execution_count": 48,
   "id": "a03e63ae",
   "metadata": {},
   "outputs": [
    {
     "data": {
      "text/html": [
       "<div>\n",
       "<style scoped>\n",
       "    .dataframe tbody tr th:only-of-type {\n",
       "        vertical-align: middle;\n",
       "    }\n",
       "\n",
       "    .dataframe tbody tr th {\n",
       "        vertical-align: top;\n",
       "    }\n",
       "\n",
       "    .dataframe thead th {\n",
       "        text-align: right;\n",
       "    }\n",
       "</style>\n",
       "<table border=\"1\" class=\"dataframe\">\n",
       "  <thead>\n",
       "    <tr style=\"text-align: right;\">\n",
       "      <th></th>\n",
       "      <th>Unique values</th>\n",
       "    </tr>\n",
       "  </thead>\n",
       "  <tbody>\n",
       "    <tr>\n",
       "      <th>Date</th>\n",
       "      <td>104</td>\n",
       "    </tr>\n",
       "    <tr>\n",
       "      <th>AveragePrice</th>\n",
       "      <td>113</td>\n",
       "    </tr>\n",
       "    <tr>\n",
       "      <th>Total Volume</th>\n",
       "      <td>1517</td>\n",
       "    </tr>\n",
       "    <tr>\n",
       "      <th>4046</th>\n",
       "      <td>1517</td>\n",
       "    </tr>\n",
       "    <tr>\n",
       "      <th>4225</th>\n",
       "      <td>1517</td>\n",
       "    </tr>\n",
       "    <tr>\n",
       "      <th>4770</th>\n",
       "      <td>1516</td>\n",
       "    </tr>\n",
       "    <tr>\n",
       "      <th>Total Bags</th>\n",
       "      <td>1517</td>\n",
       "    </tr>\n",
       "    <tr>\n",
       "      <th>Small Bags</th>\n",
       "      <td>1517</td>\n",
       "    </tr>\n",
       "    <tr>\n",
       "      <th>Large Bags</th>\n",
       "      <td>1377</td>\n",
       "    </tr>\n",
       "    <tr>\n",
       "      <th>XLarge Bags</th>\n",
       "      <td>711</td>\n",
       "    </tr>\n",
       "    <tr>\n",
       "      <th>type</th>\n",
       "      <td>1</td>\n",
       "    </tr>\n",
       "    <tr>\n",
       "      <th>year</th>\n",
       "      <td>2</td>\n",
       "    </tr>\n",
       "    <tr>\n",
       "      <th>region</th>\n",
       "      <td>51</td>\n",
       "    </tr>\n",
       "  </tbody>\n",
       "</table>\n",
       "</div>"
      ],
      "text/plain": [
       "              Unique values\n",
       "Date                    104\n",
       "AveragePrice            113\n",
       "Total Volume           1517\n",
       "4046                   1517\n",
       "4225                   1517\n",
       "4770                   1516\n",
       "Total Bags             1517\n",
       "Small Bags             1517\n",
       "Large Bags             1377\n",
       "XLarge Bags             711\n",
       "type                      1\n",
       "year                      2\n",
       "region                   51"
      ]
     },
     "execution_count": 48,
     "metadata": {},
     "output_type": "execute_result"
    }
   ],
   "source": [
    "#Let's check unique values in our data\n",
    "df.nunique().to_frame(\"Unique values\")"
   ]
  },
  {
   "cell_type": "markdown",
   "id": "b9efbcdb",
   "metadata": {},
   "source": [
    "We can see we are having maximum unique values in numeric column which will be helpful in analysing data."
   ]
  },
  {
   "cell_type": "code",
   "execution_count": 49,
   "id": "b10fb50f",
   "metadata": {},
   "outputs": [
    {
     "data": {
      "text/plain": [
       "0"
      ]
     },
     "execution_count": 49,
     "metadata": {},
     "output_type": "execute_result"
    }
   ],
   "source": [
    "df.duplicated().sum()"
   ]
  },
  {
   "cell_type": "markdown",
   "id": "8a3652c7",
   "metadata": {},
   "source": [
    "\n",
    "By the above we can see that we do not have any duplicated column in our dataset and it is a good sign as we do not have to lose more data, which we've alrteady lost to remove null values."
   ]
  },
  {
   "cell_type": "code",
   "execution_count": 50,
   "id": "82b7a078",
   "metadata": {},
   "outputs": [
    {
     "data": {
      "text/html": [
       "<div>\n",
       "<style scoped>\n",
       "    .dataframe tbody tr th:only-of-type {\n",
       "        vertical-align: middle;\n",
       "    }\n",
       "\n",
       "    .dataframe tbody tr th {\n",
       "        vertical-align: top;\n",
       "    }\n",
       "\n",
       "    .dataframe thead th {\n",
       "        text-align: right;\n",
       "    }\n",
       "</style>\n",
       "<table border=\"1\" class=\"dataframe\">\n",
       "  <thead>\n",
       "    <tr style=\"text-align: right;\">\n",
       "      <th></th>\n",
       "      <th>AveragePrice</th>\n",
       "      <th>Total Volume</th>\n",
       "      <th>4046</th>\n",
       "      <th>4225</th>\n",
       "      <th>4770</th>\n",
       "      <th>Total Bags</th>\n",
       "      <th>Small Bags</th>\n",
       "      <th>Large Bags</th>\n",
       "      <th>XLarge Bags</th>\n",
       "      <th>type</th>\n",
       "      <th>year</th>\n",
       "      <th>region</th>\n",
       "    </tr>\n",
       "  </thead>\n",
       "  <tbody>\n",
       "    <tr>\n",
       "      <th>count</th>\n",
       "      <td>1517.000000</td>\n",
       "      <td>1.517000e+03</td>\n",
       "      <td>1.517000e+03</td>\n",
       "      <td>1.517000e+03</td>\n",
       "      <td>1.517000e+03</td>\n",
       "      <td>1.517000e+03</td>\n",
       "      <td>1.517000e+03</td>\n",
       "      <td>1.517000e+03</td>\n",
       "      <td>1517.000000</td>\n",
       "      <td>1517.0</td>\n",
       "      <td>1517.000000</td>\n",
       "      <td>1517.000000</td>\n",
       "    </tr>\n",
       "    <tr>\n",
       "      <th>mean</th>\n",
       "      <td>1.074990</td>\n",
       "      <td>1.601879e+06</td>\n",
       "      <td>6.464387e+05</td>\n",
       "      <td>6.114375e+05</td>\n",
       "      <td>5.040550e+04</td>\n",
       "      <td>2.935974e+05</td>\n",
       "      <td>2.487736e+05</td>\n",
       "      <td>4.264205e+04</td>\n",
       "      <td>2181.771074</td>\n",
       "      <td>0.0</td>\n",
       "      <td>2015.162821</td>\n",
       "      <td>21.196440</td>\n",
       "    </tr>\n",
       "    <tr>\n",
       "      <th>std</th>\n",
       "      <td>0.188891</td>\n",
       "      <td>4.433143e+06</td>\n",
       "      <td>1.947614e+06</td>\n",
       "      <td>1.672906e+06</td>\n",
       "      <td>1.377812e+05</td>\n",
       "      <td>7.579765e+05</td>\n",
       "      <td>6.474765e+05</td>\n",
       "      <td>1.182157e+05</td>\n",
       "      <td>7455.712144</td>\n",
       "      <td>0.0</td>\n",
       "      <td>0.369324</td>\n",
       "      <td>16.132398</td>\n",
       "    </tr>\n",
       "    <tr>\n",
       "      <th>min</th>\n",
       "      <td>0.490000</td>\n",
       "      <td>3.875074e+04</td>\n",
       "      <td>4.677200e+02</td>\n",
       "      <td>1.783770e+03</td>\n",
       "      <td>0.000000e+00</td>\n",
       "      <td>3.311770e+03</td>\n",
       "      <td>3.311770e+03</td>\n",
       "      <td>0.000000e+00</td>\n",
       "      <td>0.000000</td>\n",
       "      <td>0.0</td>\n",
       "      <td>2015.000000</td>\n",
       "      <td>0.000000</td>\n",
       "    </tr>\n",
       "    <tr>\n",
       "      <th>25%</th>\n",
       "      <td>0.980000</td>\n",
       "      <td>1.474700e+05</td>\n",
       "      <td>2.040034e+04</td>\n",
       "      <td>4.147606e+04</td>\n",
       "      <td>9.112500e+02</td>\n",
       "      <td>3.620689e+04</td>\n",
       "      <td>2.972722e+04</td>\n",
       "      <td>5.407400e+02</td>\n",
       "      <td>0.000000</td>\n",
       "      <td>0.0</td>\n",
       "      <td>2015.000000</td>\n",
       "      <td>6.000000</td>\n",
       "    </tr>\n",
       "    <tr>\n",
       "      <th>50%</th>\n",
       "      <td>1.080000</td>\n",
       "      <td>4.027919e+05</td>\n",
       "      <td>8.175117e+04</td>\n",
       "      <td>1.186649e+05</td>\n",
       "      <td>7.688170e+03</td>\n",
       "      <td>7.397906e+04</td>\n",
       "      <td>6.237569e+04</td>\n",
       "      <td>5.044350e+03</td>\n",
       "      <td>0.000000</td>\n",
       "      <td>0.0</td>\n",
       "      <td>2015.000000</td>\n",
       "      <td>19.000000</td>\n",
       "    </tr>\n",
       "    <tr>\n",
       "      <th>75%</th>\n",
       "      <td>1.190000</td>\n",
       "      <td>9.819751e+05</td>\n",
       "      <td>3.775785e+05</td>\n",
       "      <td>4.851503e+05</td>\n",
       "      <td>2.916730e+04</td>\n",
       "      <td>1.576097e+05</td>\n",
       "      <td>1.461994e+05</td>\n",
       "      <td>2.926767e+04</td>\n",
       "      <td>401.480000</td>\n",
       "      <td>0.0</td>\n",
       "      <td>2015.000000</td>\n",
       "      <td>35.000000</td>\n",
       "    </tr>\n",
       "    <tr>\n",
       "      <th>max</th>\n",
       "      <td>1.680000</td>\n",
       "      <td>4.465546e+07</td>\n",
       "      <td>1.893304e+07</td>\n",
       "      <td>1.895648e+07</td>\n",
       "      <td>1.381516e+06</td>\n",
       "      <td>6.736304e+06</td>\n",
       "      <td>5.893642e+06</td>\n",
       "      <td>1.121076e+06</td>\n",
       "      <td>108072.790000</td>\n",
       "      <td>0.0</td>\n",
       "      <td>2016.000000</td>\n",
       "      <td>50.000000</td>\n",
       "    </tr>\n",
       "  </tbody>\n",
       "</table>\n",
       "</div>"
      ],
      "text/plain": [
       "       AveragePrice  Total Volume          4046          4225          4770  \\\n",
       "count   1517.000000  1.517000e+03  1.517000e+03  1.517000e+03  1.517000e+03   \n",
       "mean       1.074990  1.601879e+06  6.464387e+05  6.114375e+05  5.040550e+04   \n",
       "std        0.188891  4.433143e+06  1.947614e+06  1.672906e+06  1.377812e+05   \n",
       "min        0.490000  3.875074e+04  4.677200e+02  1.783770e+03  0.000000e+00   \n",
       "25%        0.980000  1.474700e+05  2.040034e+04  4.147606e+04  9.112500e+02   \n",
       "50%        1.080000  4.027919e+05  8.175117e+04  1.186649e+05  7.688170e+03   \n",
       "75%        1.190000  9.819751e+05  3.775785e+05  4.851503e+05  2.916730e+04   \n",
       "max        1.680000  4.465546e+07  1.893304e+07  1.895648e+07  1.381516e+06   \n",
       "\n",
       "         Total Bags    Small Bags    Large Bags    XLarge Bags    type  \\\n",
       "count  1.517000e+03  1.517000e+03  1.517000e+03    1517.000000  1517.0   \n",
       "mean   2.935974e+05  2.487736e+05  4.264205e+04    2181.771074     0.0   \n",
       "std    7.579765e+05  6.474765e+05  1.182157e+05    7455.712144     0.0   \n",
       "min    3.311770e+03  3.311770e+03  0.000000e+00       0.000000     0.0   \n",
       "25%    3.620689e+04  2.972722e+04  5.407400e+02       0.000000     0.0   \n",
       "50%    7.397906e+04  6.237569e+04  5.044350e+03       0.000000     0.0   \n",
       "75%    1.576097e+05  1.461994e+05  2.926767e+04     401.480000     0.0   \n",
       "max    6.736304e+06  5.893642e+06  1.121076e+06  108072.790000     0.0   \n",
       "\n",
       "              year       region  \n",
       "count  1517.000000  1517.000000  \n",
       "mean   2015.162821    21.196440  \n",
       "std       0.369324    16.132398  \n",
       "min    2015.000000     0.000000  \n",
       "25%    2015.000000     6.000000  \n",
       "50%    2015.000000    19.000000  \n",
       "75%    2015.000000    35.000000  \n",
       "max    2016.000000    50.000000  "
      ]
     },
     "execution_count": 50,
     "metadata": {},
     "output_type": "execute_result"
    }
   ],
   "source": [
    "df.describe()"
   ]
  },
  {
   "cell_type": "markdown",
   "id": "fb58c224",
   "metadata": {},
   "source": [
    "Following is the complete analysis of data in which we can see that our data is absolutely perfect as we are not getting any negative value.\n",
    "\n",
    "Here are some observation as per above date.\n",
    "\n",
    "We can see that the count of all columns are same it means our data is perfect and ready to work with.\n",
    "\n",
    "We can see that there is not too much difference in mean and median of most of the column this means our data is not skewed it is just Xlarge bags column having mean greater than it's median which means it's right skewed and we'll have to treat it which we'll do further.\n",
    "\n",
    "By analysing the data we can see that there is difference between 75th percentile and maximum value this means we are having outliers in our dataset, ans will treat it further. "
   ]
  },
  {
   "cell_type": "markdown",
   "id": "568bae4e",
   "metadata": {},
   "source": [
    "Let's check correlation between different columns."
   ]
  },
  {
   "cell_type": "code",
   "execution_count": 51,
   "id": "4b319b64",
   "metadata": {},
   "outputs": [
    {
     "data": {
      "text/html": [
       "<div>\n",
       "<style scoped>\n",
       "    .dataframe tbody tr th:only-of-type {\n",
       "        vertical-align: middle;\n",
       "    }\n",
       "\n",
       "    .dataframe tbody tr th {\n",
       "        vertical-align: top;\n",
       "    }\n",
       "\n",
       "    .dataframe thead th {\n",
       "        text-align: right;\n",
       "    }\n",
       "</style>\n",
       "<table border=\"1\" class=\"dataframe\">\n",
       "  <thead>\n",
       "    <tr style=\"text-align: right;\">\n",
       "      <th></th>\n",
       "      <th>AveragePrice</th>\n",
       "      <th>Total Volume</th>\n",
       "      <th>4046</th>\n",
       "      <th>4225</th>\n",
       "      <th>4770</th>\n",
       "      <th>Total Bags</th>\n",
       "      <th>Small Bags</th>\n",
       "      <th>Large Bags</th>\n",
       "      <th>XLarge Bags</th>\n",
       "      <th>type</th>\n",
       "      <th>year</th>\n",
       "      <th>region</th>\n",
       "    </tr>\n",
       "  </thead>\n",
       "  <tbody>\n",
       "    <tr>\n",
       "      <th>AveragePrice</th>\n",
       "      <td>1.000000</td>\n",
       "      <td>-0.140470</td>\n",
       "      <td>-0.190096</td>\n",
       "      <td>-0.092084</td>\n",
       "      <td>-0.100567</td>\n",
       "      <td>-0.111597</td>\n",
       "      <td>-0.097682</td>\n",
       "      <td>-0.177480</td>\n",
       "      <td>-0.048284</td>\n",
       "      <td>NaN</td>\n",
       "      <td>0.178683</td>\n",
       "      <td>-0.229408</td>\n",
       "    </tr>\n",
       "    <tr>\n",
       "      <th>Total Volume</th>\n",
       "      <td>-0.140470</td>\n",
       "      <td>1.000000</td>\n",
       "      <td>0.985568</td>\n",
       "      <td>0.987154</td>\n",
       "      <td>0.934347</td>\n",
       "      <td>0.967689</td>\n",
       "      <td>0.960642</td>\n",
       "      <td>0.910226</td>\n",
       "      <td>0.521717</td>\n",
       "      <td>NaN</td>\n",
       "      <td>-0.004189</td>\n",
       "      <td>0.236579</td>\n",
       "    </tr>\n",
       "    <tr>\n",
       "      <th>4046</th>\n",
       "      <td>-0.190096</td>\n",
       "      <td>0.985568</td>\n",
       "      <td>1.000000</td>\n",
       "      <td>0.951952</td>\n",
       "      <td>0.898570</td>\n",
       "      <td>0.930395</td>\n",
       "      <td>0.922278</td>\n",
       "      <td>0.884229</td>\n",
       "      <td>0.474063</td>\n",
       "      <td>NaN</td>\n",
       "      <td>-0.040439</td>\n",
       "      <td>0.269481</td>\n",
       "    </tr>\n",
       "    <tr>\n",
       "      <th>4225</th>\n",
       "      <td>-0.092084</td>\n",
       "      <td>0.987154</td>\n",
       "      <td>0.951952</td>\n",
       "      <td>1.000000</td>\n",
       "      <td>0.927757</td>\n",
       "      <td>0.951779</td>\n",
       "      <td>0.943988</td>\n",
       "      <td>0.900496</td>\n",
       "      <td>0.504718</td>\n",
       "      <td>NaN</td>\n",
       "      <td>-0.007254</td>\n",
       "      <td>0.215733</td>\n",
       "    </tr>\n",
       "    <tr>\n",
       "      <th>4770</th>\n",
       "      <td>-0.100567</td>\n",
       "      <td>0.934347</td>\n",
       "      <td>0.898570</td>\n",
       "      <td>0.927757</td>\n",
       "      <td>1.000000</td>\n",
       "      <td>0.926405</td>\n",
       "      <td>0.923607</td>\n",
       "      <td>0.840523</td>\n",
       "      <td>0.646053</td>\n",
       "      <td>NaN</td>\n",
       "      <td>0.029222</td>\n",
       "      <td>0.138092</td>\n",
       "    </tr>\n",
       "    <tr>\n",
       "      <th>Total Bags</th>\n",
       "      <td>-0.111597</td>\n",
       "      <td>0.967689</td>\n",
       "      <td>0.930395</td>\n",
       "      <td>0.951779</td>\n",
       "      <td>0.926405</td>\n",
       "      <td>1.000000</td>\n",
       "      <td>0.997341</td>\n",
       "      <td>0.911336</td>\n",
       "      <td>0.601856</td>\n",
       "      <td>NaN</td>\n",
       "      <td>0.090108</td>\n",
       "      <td>0.190001</td>\n",
       "    </tr>\n",
       "    <tr>\n",
       "      <th>Small Bags</th>\n",
       "      <td>-0.097682</td>\n",
       "      <td>0.960642</td>\n",
       "      <td>0.922278</td>\n",
       "      <td>0.943988</td>\n",
       "      <td>0.923607</td>\n",
       "      <td>0.997341</td>\n",
       "      <td>1.000000</td>\n",
       "      <td>0.879131</td>\n",
       "      <td>0.611300</td>\n",
       "      <td>NaN</td>\n",
       "      <td>0.106382</td>\n",
       "      <td>0.168650</td>\n",
       "    </tr>\n",
       "    <tr>\n",
       "      <th>Large Bags</th>\n",
       "      <td>-0.177480</td>\n",
       "      <td>0.910226</td>\n",
       "      <td>0.884229</td>\n",
       "      <td>0.900496</td>\n",
       "      <td>0.840523</td>\n",
       "      <td>0.911336</td>\n",
       "      <td>0.879131</td>\n",
       "      <td>1.000000</td>\n",
       "      <td>0.447779</td>\n",
       "      <td>NaN</td>\n",
       "      <td>-0.018678</td>\n",
       "      <td>0.297452</td>\n",
       "    </tr>\n",
       "    <tr>\n",
       "      <th>XLarge Bags</th>\n",
       "      <td>-0.048284</td>\n",
       "      <td>0.521717</td>\n",
       "      <td>0.474063</td>\n",
       "      <td>0.504718</td>\n",
       "      <td>0.646053</td>\n",
       "      <td>0.601856</td>\n",
       "      <td>0.611300</td>\n",
       "      <td>0.447779</td>\n",
       "      <td>1.000000</td>\n",
       "      <td>NaN</td>\n",
       "      <td>0.218342</td>\n",
       "      <td>-0.046144</td>\n",
       "    </tr>\n",
       "    <tr>\n",
       "      <th>type</th>\n",
       "      <td>NaN</td>\n",
       "      <td>NaN</td>\n",
       "      <td>NaN</td>\n",
       "      <td>NaN</td>\n",
       "      <td>NaN</td>\n",
       "      <td>NaN</td>\n",
       "      <td>NaN</td>\n",
       "      <td>NaN</td>\n",
       "      <td>NaN</td>\n",
       "      <td>NaN</td>\n",
       "      <td>NaN</td>\n",
       "      <td>NaN</td>\n",
       "    </tr>\n",
       "    <tr>\n",
       "      <th>year</th>\n",
       "      <td>0.178683</td>\n",
       "      <td>-0.004189</td>\n",
       "      <td>-0.040439</td>\n",
       "      <td>-0.007254</td>\n",
       "      <td>0.029222</td>\n",
       "      <td>0.090108</td>\n",
       "      <td>0.106382</td>\n",
       "      <td>-0.018678</td>\n",
       "      <td>0.218342</td>\n",
       "      <td>NaN</td>\n",
       "      <td>1.000000</td>\n",
       "      <td>-0.470472</td>\n",
       "    </tr>\n",
       "    <tr>\n",
       "      <th>region</th>\n",
       "      <td>-0.229408</td>\n",
       "      <td>0.236579</td>\n",
       "      <td>0.269481</td>\n",
       "      <td>0.215733</td>\n",
       "      <td>0.138092</td>\n",
       "      <td>0.190001</td>\n",
       "      <td>0.168650</td>\n",
       "      <td>0.297452</td>\n",
       "      <td>-0.046144</td>\n",
       "      <td>NaN</td>\n",
       "      <td>-0.470472</td>\n",
       "      <td>1.000000</td>\n",
       "    </tr>\n",
       "  </tbody>\n",
       "</table>\n",
       "</div>"
      ],
      "text/plain": [
       "              AveragePrice  Total Volume      4046      4225      4770  \\\n",
       "AveragePrice      1.000000     -0.140470 -0.190096 -0.092084 -0.100567   \n",
       "Total Volume     -0.140470      1.000000  0.985568  0.987154  0.934347   \n",
       "4046             -0.190096      0.985568  1.000000  0.951952  0.898570   \n",
       "4225             -0.092084      0.987154  0.951952  1.000000  0.927757   \n",
       "4770             -0.100567      0.934347  0.898570  0.927757  1.000000   \n",
       "Total Bags       -0.111597      0.967689  0.930395  0.951779  0.926405   \n",
       "Small Bags       -0.097682      0.960642  0.922278  0.943988  0.923607   \n",
       "Large Bags       -0.177480      0.910226  0.884229  0.900496  0.840523   \n",
       "XLarge Bags      -0.048284      0.521717  0.474063  0.504718  0.646053   \n",
       "type                   NaN           NaN       NaN       NaN       NaN   \n",
       "year              0.178683     -0.004189 -0.040439 -0.007254  0.029222   \n",
       "region           -0.229408      0.236579  0.269481  0.215733  0.138092   \n",
       "\n",
       "              Total Bags  Small Bags  Large Bags  XLarge Bags  type      year  \\\n",
       "AveragePrice   -0.111597   -0.097682   -0.177480    -0.048284   NaN  0.178683   \n",
       "Total Volume    0.967689    0.960642    0.910226     0.521717   NaN -0.004189   \n",
       "4046            0.930395    0.922278    0.884229     0.474063   NaN -0.040439   \n",
       "4225            0.951779    0.943988    0.900496     0.504718   NaN -0.007254   \n",
       "4770            0.926405    0.923607    0.840523     0.646053   NaN  0.029222   \n",
       "Total Bags      1.000000    0.997341    0.911336     0.601856   NaN  0.090108   \n",
       "Small Bags      0.997341    1.000000    0.879131     0.611300   NaN  0.106382   \n",
       "Large Bags      0.911336    0.879131    1.000000     0.447779   NaN -0.018678   \n",
       "XLarge Bags     0.601856    0.611300    0.447779     1.000000   NaN  0.218342   \n",
       "type                 NaN         NaN         NaN          NaN   NaN       NaN   \n",
       "year            0.090108    0.106382   -0.018678     0.218342   NaN  1.000000   \n",
       "region          0.190001    0.168650    0.297452    -0.046144   NaN -0.470472   \n",
       "\n",
       "                region  \n",
       "AveragePrice -0.229408  \n",
       "Total Volume  0.236579  \n",
       "4046          0.269481  \n",
       "4225          0.215733  \n",
       "4770          0.138092  \n",
       "Total Bags    0.190001  \n",
       "Small Bags    0.168650  \n",
       "Large Bags    0.297452  \n",
       "XLarge Bags  -0.046144  \n",
       "type               NaN  \n",
       "year         -0.470472  \n",
       "region        1.000000  "
      ]
     },
     "execution_count": 51,
     "metadata": {},
     "output_type": "execute_result"
    }
   ],
   "source": [
    "df.corr()"
   ]
  },
  {
   "cell_type": "code",
   "execution_count": 53,
   "id": "2daca1e8",
   "metadata": {},
   "outputs": [
    {
     "data": {
      "image/png": "[encoded data removed]",
      "text/plain": [
       "<Figure size 2000x1600 with 2 Axes>"
      ]
     },
     "metadata": {},
     "output_type": "display_data"
    }
   ],
   "source": [
    "#As it is noteasy to understand correlation via above ode let's check it by making and correlation matrix(heatmap)\n",
    "correlation = df.corr()\n",
    "plt.figure(figsize=(20, 16))\n",
    "sns.heatmap(correlation, annot=True, cmap='coolwarm')\n",
    "plt.title('Correlation by heatmap')\n",
    "plt.show()"
   ]
  },
  {
   "cell_type": "markdown",
   "id": "6115bbe8",
   "metadata": {},
   "source": [
    "We can see that we are having highly correlated columns and some of them are logical as if count of any type of bag increase the total number of bags will also increase, in this case we'll leave it as it is."
   ]
  },
  {
   "cell_type": "code",
   "execution_count": 58,
   "id": "8e6a0146",
   "metadata": {},
   "outputs": [
    {
     "data": {
      "text/plain": [
       "<seaborn.axisgrid.FacetGrid at 0x1fe65b7a050>"
      ]
     },
     "execution_count": 58,
     "metadata": {},
     "output_type": "execute_result"
    },
    {
     "data": {
      "image/png": "[encoded data removed]",
      "text/plain": [
       "<Figure size 500x500 with 1 Axes>"
      ]
     },
     "metadata": {},
     "output_type": "display_data"
    }
   ],
   "source": [
    "sns.lmplot(x='4770',y='Small Bags',data=df,palette='colorblind')"
   ]
  },
  {
   "cell_type": "markdown",
   "id": "ae0c1986",
   "metadata": {},
   "source": [
    "we can see that small bags is also having postitve correlatin with 4770 column that is a type of Avacado"
   ]
  },
  {
   "cell_type": "code",
   "execution_count": 112,
   "id": "963f0ccc",
   "metadata": {},
   "outputs": [
    {
     "data": {
      "text/plain": [
       "(array([ 1,  2,  3,  4,  5,  6,  7,  8,  9, 10, 11, 12]),\n",
       " [Text(1, 0, 'AveragePrice'),\n",
       "  Text(2, 0, 'Total Volume'),\n",
       "  Text(3, 0, '4046'),\n",
       "  Text(4, 0, '4225'),\n",
       "  Text(5, 0, '4770'),\n",
       "  Text(6, 0, 'Total Bags'),\n",
       "  Text(7, 0, 'Small Bags'),\n",
       "  Text(8, 0, 'Large Bags'),\n",
       "  Text(9, 0, 'XLarge Bags'),\n",
       "  Text(10, 0, 'type'),\n",
       "  Text(11, 0, 'year'),\n",
       "  Text(12, 0, 'region')])"
      ]
     },
     "execution_count": 112,
     "metadata": {},
     "output_type": "execute_result"
    },
    {
     "data": {
      "image/png": "[encoded data removed]",
      "text/plain": [
       "<Figure size 640x480 with 1 Axes>"
      ]
     },
     "metadata": {},
     "output_type": "display_data"
    }
   ],
   "source": [
    "# lets check outiers with the help of boxlot\n",
    "df.boxplot()\n",
    "plt.xticks(rotation=90)"
   ]
  },
  {
   "cell_type": "markdown",
   "id": "aab52879",
   "metadata": {},
   "source": [
    "With the help of above plot we can see that we may be having outliers in Total vilume columns let's check it further."
   ]
  },
  {
   "cell_type": "code",
   "execution_count": 11,
   "id": "23576622",
   "metadata": {},
   "outputs": [
    {
     "data": {
      "text/html": [
       "<div>\n",
       "<style scoped>\n",
       "    .dataframe tbody tr th:only-of-type {\n",
       "        vertical-align: middle;\n",
       "    }\n",
       "\n",
       "    .dataframe tbody tr th {\n",
       "        vertical-align: top;\n",
       "    }\n",
       "\n",
       "    .dataframe thead th {\n",
       "        text-align: right;\n",
       "    }\n",
       "</style>\n",
       "<table border=\"1\" class=\"dataframe\">\n",
       "  <thead>\n",
       "    <tr style=\"text-align: right;\">\n",
       "      <th></th>\n",
       "      <th>Total Volume</th>\n",
       "    </tr>\n",
       "  </thead>\n",
       "  <tbody>\n",
       "    <tr>\n",
       "      <th>0</th>\n",
       "      <td>0.346966</td>\n",
       "    </tr>\n",
       "    <tr>\n",
       "      <th>1</th>\n",
       "      <td>0.349078</td>\n",
       "    </tr>\n",
       "    <tr>\n",
       "      <th>2</th>\n",
       "      <td>0.334785</td>\n",
       "    </tr>\n",
       "    <tr>\n",
       "      <th>3</th>\n",
       "      <td>0.343636</td>\n",
       "    </tr>\n",
       "    <tr>\n",
       "      <th>4</th>\n",
       "      <td>0.349944</td>\n",
       "    </tr>\n",
       "    <tr>\n",
       "      <th>...</th>\n",
       "      <td>...</td>\n",
       "    </tr>\n",
       "    <tr>\n",
       "      <th>1512</th>\n",
       "      <td>0.318397</td>\n",
       "    </tr>\n",
       "    <tr>\n",
       "      <th>1513</th>\n",
       "      <td>0.321242</td>\n",
       "    </tr>\n",
       "    <tr>\n",
       "      <th>1514</th>\n",
       "      <td>0.321203</td>\n",
       "    </tr>\n",
       "    <tr>\n",
       "      <th>1515</th>\n",
       "      <td>0.318784</td>\n",
       "    </tr>\n",
       "    <tr>\n",
       "      <th>1516</th>\n",
       "      <td>0.320172</td>\n",
       "    </tr>\n",
       "  </tbody>\n",
       "</table>\n",
       "<p>1517 rows × 1 columns</p>\n",
       "</div>"
      ],
      "text/plain": [
       "      Total Volume\n",
       "0         0.346966\n",
       "1         0.349078\n",
       "2         0.334785\n",
       "3         0.343636\n",
       "4         0.349944\n",
       "...            ...\n",
       "1512      0.318397\n",
       "1513      0.321242\n",
       "1514      0.321203\n",
       "1515      0.318784\n",
       "1516      0.320172\n",
       "\n",
       "[1517 rows x 1 columns]"
      ]
     },
     "execution_count": 11,
     "metadata": {},
     "output_type": "execute_result"
    }
   ],
   "source": [
    "#Let's find outlier with Zscore method\n",
    "outliers=df[['Total Volume']]\n",
    "z=np.abs(zscore(outliers))\n",
    "z"
   ]
  },
  {
   "cell_type": "code",
   "execution_count": 12,
   "id": "bb041afb",
   "metadata": {},
   "outputs": [
    {
     "data": {
      "text/plain": [
       "(array([1182, 1183, 1184, 1185, 1186, 1187, 1188, 1189, 1190, 1191, 1192,\n",
       "        1193, 1194, 1195, 1196, 1197, 1198, 1199, 1200, 1201, 1202, 1203,\n",
       "        1204, 1205, 1206], dtype=int64),\n",
       " array([0, 0, 0, 0, 0, 0, 0, 0, 0, 0, 0, 0, 0, 0, 0, 0, 0, 0, 0, 0, 0, 0,\n",
       "        0, 0, 0], dtype=int64))"
      ]
     },
     "execution_count": 12,
     "metadata": {},
     "output_type": "execute_result"
    }
   ],
   "source": [
    "np.where(z>3)"
   ]
  },
  {
   "cell_type": "markdown",
   "id": "b41b0b73",
   "metadata": {},
   "source": [
    "Here we go- we've successfully detected outliers here let's removed them in next step"
   ]
  },
  {
   "cell_type": "code",
   "execution_count": 13,
   "id": "10f7c2b6",
   "metadata": {},
   "outputs": [],
   "source": [
    "df1=df[(z<3).all(axis=1)]"
   ]
  },
  {
   "cell_type": "markdown",
   "id": "f4cd89c4",
   "metadata": {},
   "source": [
    "And it's done we've successfully removed outliers from the data and it's ready to work with now."
   ]
  },
  {
   "cell_type": "code",
   "execution_count": 14,
   "id": "e3eb7c07",
   "metadata": {},
   "outputs": [
    {
     "data": {
      "text/plain": [
       "(1492, 13)"
      ]
     },
     "execution_count": 14,
     "metadata": {},
     "output_type": "execute_result"
    }
   ],
   "source": [
    "df1.shape"
   ]
  },
  {
   "cell_type": "markdown",
   "id": "2856da7f",
   "metadata": {},
   "source": [
    "we can see earlier we were having more than 1500 rows however after removing outliers we are only having 1492 rows that means we have successfuly removed outliers without too much dataloss."
   ]
  },
  {
   "cell_type": "code",
   "execution_count": 117,
   "id": "df1eee7d",
   "metadata": {},
   "outputs": [
    {
     "data": {
      "text/plain": [
       "AveragePrice   -0.124174\n",
       "Total Volume    2.298999\n",
       "4046            2.639155\n",
       "4225            2.072713\n",
       "4770            3.114816\n",
       "Total Bags      3.349434\n",
       "Small Bags      3.540428\n",
       "Large Bags      4.395406\n",
       "XLarge Bags     6.750071\n",
       "type            0.000000\n",
       "year            1.801500\n",
       "region          0.311128\n",
       "dtype: float64"
      ]
     },
     "execution_count": 117,
     "metadata": {},
     "output_type": "execute_result"
    }
   ],
   "source": [
    "#now let's check skewnesss in our data\n",
    "df1.skew()"
   ]
  },
  {
   "cell_type": "markdown",
   "id": "440b844c",
   "metadata": {},
   "source": [
    "By the above we can see that skewness is present in our dataset which needs to be treated."
   ]
  },
  {
   "cell_type": "code",
   "execution_count": 15,
   "id": "0e303681",
   "metadata": {},
   "outputs": [],
   "source": [
    "#Let's use cuberoot method to remove skewness\n",
    "df1['Total Volume']=np.cbrt(df1['Total Volume'])\n",
    "df1['4046']=np.cbrt(df1['4046'])\n",
    "df1['4225']=np.cbrt(df1['4225'])\n",
    "df1['4770']=np.cbrt(df1['4770'])\n",
    "df1['Total Bags']=np.cbrt(df1['Total Bags'])\n",
    "df1['Small Bags']=np.cbrt(df1['Small Bags'])\n",
    "df1['Large Bags']=np.cbrt(df1['Large Bags'])\n",
    "df1['XLarge Bags']=np.cbrt(df1['XLarge Bags'])\n",
    "df1['year']=np.cbrt(df1['year'])"
   ]
  },
  {
   "cell_type": "code",
   "execution_count": 16,
   "id": "d7b442f6",
   "metadata": {},
   "outputs": [
    {
     "data": {
      "text/plain": [
       "AveragePrice   -0.124174\n",
       "Total Volume    1.242812\n",
       "4046            1.101929\n",
       "4225            0.903923\n",
       "4770            1.060262\n",
       "Total Bags      1.576833\n",
       "Small Bags      1.585010\n",
       "Large Bags      1.041734\n",
       "XLarge Bags     2.100646\n",
       "type            0.000000\n",
       "year            1.801500\n",
       "region          0.311128\n",
       "dtype: float64"
      ]
     },
     "execution_count": 16,
     "metadata": {},
     "output_type": "execute_result"
    }
   ],
   "source": [
    "df1.skew()"
   ]
  },
  {
   "cell_type": "markdown",
   "id": "d7c3c744",
   "metadata": {},
   "source": [
    "We can see skewness is still there let's try log method to remove that."
   ]
  },
  {
   "cell_type": "code",
   "execution_count": 17,
   "id": "f9c85643",
   "metadata": {},
   "outputs": [],
   "source": [
    "df1['Total Volume'] = np.log1p(df1['Total Volume'])"
   ]
  },
  {
   "cell_type": "code",
   "execution_count": 18,
   "id": "4ad79ba2",
   "metadata": {},
   "outputs": [],
   "source": [
    "df1['4046'] = np.log1p(df1['4046'])\n",
    "df1['4770'] = np.log1p(df1['4770'])\n",
    "df1['Total Bags'] = np.log1p(df1['Total Bags'])\n",
    "df1['Small Bags'] = np.log1p(df1['Small Bags'])\n",
    "df1['Large Bags'] = np.log1p(df1['Large Bags'])\n",
    "df1['XLarge Bags'] = np.log1p(df1['XLarge Bags'])\n",
    "df1['year'] = np.log1p(df1['year'])"
   ]
  },
  {
   "cell_type": "code",
   "execution_count": 19,
   "id": "279f57c1",
   "metadata": {},
   "outputs": [
    {
     "data": {
      "text/plain": [
       "AveragePrice   -0.124174\n",
       "Total Volume    0.460806\n",
       "4046           -0.235746\n",
       "4225            0.903923\n",
       "4770           -0.346823\n",
       "Total Bags      0.515643\n",
       "Small Bags      0.543197\n",
       "Large Bags     -1.091323\n",
       "XLarge Bags     0.662010\n",
       "type            0.000000\n",
       "year            1.801500\n",
       "region          0.311128\n",
       "dtype: float64"
      ]
     },
     "execution_count": 19,
     "metadata": {},
     "output_type": "execute_result"
    }
   ],
   "source": [
    "df1.skew()"
   ]
  },
  {
   "cell_type": "markdown",
   "id": "25d1077f",
   "metadata": {},
   "source": [
    "Here we go- we have successfully removed skewness from all the columns except large bags, let's drop this column to predict data effectively."
   ]
  },
  {
   "cell_type": "code",
   "execution_count": 20,
   "id": "88d3a3e8",
   "metadata": {},
   "outputs": [],
   "source": [
    "df1.drop(columns=['Large Bags'], inplace=True)"
   ]
  },
  {
   "cell_type": "code",
   "execution_count": 21,
   "id": "b5d4be8e",
   "metadata": {},
   "outputs": [],
   "source": [
    "df1['Date'] = df1['Date'].astype(str)"
   ]
  },
  {
   "cell_type": "code",
   "execution_count": 22,
   "id": "40928d5e",
   "metadata": {},
   "outputs": [
    {
     "data": {
      "text/plain": [
       "Date             object\n",
       "AveragePrice    float64\n",
       "Total Volume    float64\n",
       "4046            float64\n",
       "4225            float64\n",
       "4770            float64\n",
       "Total Bags      float64\n",
       "Small Bags      float64\n",
       "XLarge Bags     float64\n",
       "type              int32\n",
       "year            float64\n",
       "region            int32\n",
       "dtype: object"
      ]
     },
     "execution_count": 22,
     "metadata": {},
     "output_type": "execute_result"
    }
   ],
   "source": [
    "df1.dtypes"
   ]
  },
  {
   "cell_type": "code",
   "execution_count": 23,
   "id": "d167af42",
   "metadata": {},
   "outputs": [],
   "source": [
    "#we need to drop sat column as it is not allowing us to run model even after changing it to object or changing all the columns into integer, so let's drop it as we already having year and we can predict rest things with the help of that column.\n",
    "df1.drop(columns=['Date'],inplace=True)"
   ]
  },
  {
   "cell_type": "markdown",
   "id": "57749fff",
   "metadata": {},
   "source": [
    "# As now our data is ready to work let's divide it into dependent and target variable first we are building an model for region that is a classification model "
   ]
  },
  {
   "cell_type": "code",
   "execution_count": 24,
   "id": "b9d11c95",
   "metadata": {},
   "outputs": [],
   "source": [
    "features = ['AveragePrice', 'Total Volume', '4046', '4225', '4770',\n",
    "       'Total Bags', 'Small Bags', 'XLarge Bags', 'type', 'year']\n",
    "target = 'region'"
   ]
  },
  {
   "cell_type": "code",
   "execution_count": 25,
   "id": "c00f19df",
   "metadata": {},
   "outputs": [],
   "source": [
    "x = df1[features]\n",
    "y = df1[target]"
   ]
  },
  {
   "cell_type": "code",
   "execution_count": 26,
   "id": "a792bbdb",
   "metadata": {},
   "outputs": [
    {
     "name": "stdout",
     "output_type": "stream",
     "text": [
      "dimension of indendent variable: (1492, 10)\n",
      "dimension of dependent variable: (1492,)\n"
     ]
    }
   ],
   "source": [
    "print('dimension of indendent variable:',x.shape)\n",
    "print('dimension of dependent variable:',y.shape)"
   ]
  },
  {
   "cell_type": "markdown",
   "id": "5d709534",
   "metadata": {},
   "source": [
    "We can see that we are having same number of rows that is 834 and 7 columns in indpendent variable wich means we are going good and can perform training and prediction."
   ]
  },
  {
   "cell_type": "code",
   "execution_count": 28,
   "id": "81923158",
   "metadata": {},
   "outputs": [],
   "source": [
    "from sklearn.model_selection import train_test_split\n",
    "from sklearn.ensemble import RandomForestClassifier\n",
    "from sklearn.metrics import accuracy_score"
   ]
  },
  {
   "cell_type": "code",
   "execution_count": 29,
   "id": "0b684038",
   "metadata": {},
   "outputs": [],
   "source": [
    "x_train,x_test,y_train,y_test= train_test_split(x,y,test_size =0.30, random_state = 42)"
   ]
  },
  {
   "cell_type": "code",
   "execution_count": 30,
   "id": "2b184c47",
   "metadata": {},
   "outputs": [],
   "source": [
    "#let's import neccesarry libraries\n",
    "\n",
    "from sklearn.metrics import classification_report, confusion_matrix,roc_curve"
   ]
  },
  {
   "cell_type": "code",
   "execution_count": 31,
   "id": "e36ccccd",
   "metadata": {},
   "outputs": [
    {
     "name": "stdout",
     "output_type": "stream",
     "text": [
      "0.9375\n",
      "[[12  0  0 ...  0  0  0]\n",
      " [ 0 19  0 ...  1  0  0]\n",
      " [ 0  0 13 ...  0  0  0]\n",
      " ...\n",
      " [ 0  2  0 ... 11  0  0]\n",
      " [ 0  0  0 ...  0 14  0]\n",
      " [ 0  0  0 ...  0  0  7]]\n",
      "              precision    recall  f1-score   support\n",
      "\n",
      "           0       1.00      0.80      0.89        15\n",
      "           1       0.86      0.95      0.90        20\n",
      "           2       0.93      1.00      0.96        13\n",
      "           3       1.00      1.00      1.00        14\n",
      "           4       0.92      0.92      0.92        13\n",
      "           5       0.94      1.00      0.97        16\n",
      "           6       0.96      1.00      0.98        24\n",
      "           7       0.93      0.93      0.93        15\n",
      "           8       1.00      1.00      1.00         8\n",
      "           9       1.00      1.00      1.00        16\n",
      "          10       1.00      0.86      0.92         7\n",
      "          11       1.00      1.00      1.00         6\n",
      "          12       1.00      1.00      1.00        17\n",
      "          13       1.00      1.00      1.00         5\n",
      "          14       0.71      1.00      0.83         5\n",
      "          15       1.00      1.00      1.00        12\n",
      "          16       0.50      1.00      0.67         1\n",
      "          17       1.00      0.83      0.91         6\n",
      "          18       1.00      1.00      1.00         6\n",
      "          19       1.00      1.00      1.00        11\n",
      "          20       1.00      1.00      1.00         4\n",
      "          21       1.00      1.00      1.00         1\n",
      "          22       1.00      1.00      1.00         7\n",
      "          23       1.00      1.00      1.00         7\n",
      "          24       1.00      0.75      0.86         8\n",
      "          25       1.00      1.00      1.00         5\n",
      "          26       1.00      1.00      1.00        13\n",
      "          27       1.00      1.00      1.00         1\n",
      "          28       1.00      0.78      0.88         9\n",
      "          29       0.67      0.50      0.57         4\n",
      "          30       1.00      1.00      1.00         5\n",
      "          31       0.67      1.00      0.80        16\n",
      "          32       1.00      1.00      1.00         5\n",
      "          33       1.00      1.00      1.00         4\n",
      "          34       0.67      0.80      0.73         5\n",
      "          35       0.75      0.75      0.75         4\n",
      "          36       1.00      1.00      1.00         6\n",
      "          37       1.00      1.00      1.00         4\n",
      "          38       1.00      0.85      0.92        13\n",
      "          39       1.00      1.00      1.00         4\n",
      "          40       0.80      1.00      0.89         4\n",
      "          41       1.00      1.00      1.00         8\n",
      "          42       1.00      1.00      1.00        12\n",
      "          43       1.00      1.00      1.00         3\n",
      "          44       1.00      1.00      1.00        14\n",
      "          45       1.00      1.00      1.00         4\n",
      "          46       0.75      1.00      0.86         6\n",
      "          47       0.85      0.79      0.81        14\n",
      "          49       1.00      0.93      0.97        15\n",
      "          50       1.00      0.54      0.70        13\n",
      "\n",
      "    accuracy                           0.94       448\n",
      "   macro avg       0.94      0.94      0.93       448\n",
      "weighted avg       0.95      0.94      0.94       448\n",
      "\n"
     ]
    }
   ],
   "source": [
    "from sklearn.ensemble import RandomForestClassifier\n",
    "rfc=RandomForestClassifier()\n",
    "rfc.fit(x_train,y_train)\n",
    "predrfc=rfc.predict (x_test)\n",
    "print(accuracy_score(y_test,predrfc))\n",
    "print(confusion_matrix(y_test,predrfc))\n",
    "print(classification_report(y_test,predrfc))"
   ]
  },
  {
   "cell_type": "code",
   "execution_count": 32,
   "id": "2a821495",
   "metadata": {},
   "outputs": [
    {
     "name": "stdout",
     "output_type": "stream",
     "text": [
      "0.9620535714285714\n",
      "[[15  0  0 ...  0  0  0]\n",
      " [ 0 20  0 ...  0  0  0]\n",
      " [ 0  0 13 ...  0  0  0]\n",
      " ...\n",
      " [ 0  1  0 ... 12  0  0]\n",
      " [ 0  0  0 ...  0 15  0]\n",
      " [ 0  0  0 ...  0  0 11]]\n",
      "              precision    recall  f1-score   support\n",
      "\n",
      "           0       1.00      1.00      1.00        15\n",
      "           1       0.87      1.00      0.93        20\n",
      "           2       1.00      1.00      1.00        13\n",
      "           3       1.00      1.00      1.00        14\n",
      "           4       1.00      1.00      1.00        13\n",
      "           5       1.00      1.00      1.00        16\n",
      "           6       1.00      1.00      1.00        24\n",
      "           7       0.93      0.93      0.93        15\n",
      "           8       1.00      1.00      1.00         8\n",
      "           9       1.00      1.00      1.00        16\n",
      "          10       1.00      0.86      0.92         7\n",
      "          11       1.00      1.00      1.00         6\n",
      "          12       1.00      1.00      1.00        17\n",
      "          13       1.00      1.00      1.00         5\n",
      "          14       0.71      1.00      0.83         5\n",
      "          15       1.00      1.00      1.00        12\n",
      "          16       0.50      1.00      0.67         1\n",
      "          17       1.00      0.83      0.91         6\n",
      "          18       1.00      1.00      1.00         6\n",
      "          19       1.00      0.91      0.95        11\n",
      "          20       1.00      1.00      1.00         4\n",
      "          21       1.00      1.00      1.00         1\n",
      "          22       1.00      1.00      1.00         7\n",
      "          23       1.00      1.00      1.00         7\n",
      "          24       1.00      0.75      0.86         8\n",
      "          25       1.00      1.00      1.00         5\n",
      "          26       1.00      1.00      1.00        13\n",
      "          27       1.00      1.00      1.00         1\n",
      "          28       1.00      0.89      0.94         9\n",
      "          29       0.67      0.50      0.57         4\n",
      "          30       1.00      1.00      1.00         5\n",
      "          31       0.80      1.00      0.89        16\n",
      "          32       1.00      1.00      1.00         5\n",
      "          33       1.00      1.00      1.00         4\n",
      "          34       0.71      1.00      0.83         5\n",
      "          35       0.67      0.50      0.57         4\n",
      "          36       1.00      1.00      1.00         6\n",
      "          37       1.00      1.00      1.00         4\n",
      "          38       0.92      0.92      0.92        13\n",
      "          39       1.00      1.00      1.00         4\n",
      "          40       1.00      0.75      0.86         4\n",
      "          41       1.00      1.00      1.00         8\n",
      "          42       1.00      1.00      1.00        12\n",
      "          43       1.00      1.00      1.00         3\n",
      "          44       1.00      1.00      1.00        14\n",
      "          45       1.00      1.00      1.00         4\n",
      "          46       1.00      1.00      1.00         6\n",
      "          47       0.92      0.86      0.89        14\n",
      "          49       1.00      1.00      1.00        15\n",
      "          50       1.00      0.85      0.92        13\n",
      "\n",
      "    accuracy                           0.96       448\n",
      "   macro avg       0.95      0.95      0.95       448\n",
      "weighted avg       0.97      0.96      0.96       448\n",
      "\n"
     ]
    }
   ],
   "source": [
    "from sklearn.ensemble import ExtraTreesClassifier\n",
    "etc=ExtraTreesClassifier()\n",
    "etc.fit(x_train,y_train)\n",
    "predetc=etc.predict (x_test)\n",
    "print(accuracy_score(y_test,predetc))\n",
    "print(confusion_matrix(y_test,predetc))\n",
    "print(classification_report(y_test,predetc))"
   ]
  },
  {
   "cell_type": "code",
   "execution_count": 33,
   "id": "b05b3632",
   "metadata": {},
   "outputs": [
    {
     "name": "stdout",
     "output_type": "stream",
     "text": [
      "0.8950892857142857\n",
      "[[13  0  0 ...  0  0  0]\n",
      " [ 0 20  0 ...  0  0  0]\n",
      " [ 0  0 13 ...  0  0  0]\n",
      " ...\n",
      " [ 0  2  0 ... 11  0  0]\n",
      " [ 0  0  0 ...  0 14  0]\n",
      " [ 0  0  0 ...  0  0  9]]\n",
      "              precision    recall  f1-score   support\n",
      "\n",
      "           0       1.00      0.87      0.93        15\n",
      "           1       0.69      1.00      0.82        20\n",
      "           2       0.87      1.00      0.93        13\n",
      "           3       1.00      1.00      1.00        14\n",
      "           4       1.00      0.85      0.92        13\n",
      "           5       0.94      1.00      0.97        16\n",
      "           6       0.96      0.92      0.94        24\n",
      "           7       0.93      0.93      0.93        15\n",
      "           8       1.00      1.00      1.00         8\n",
      "           9       1.00      0.88      0.93        16\n",
      "          10       1.00      0.71      0.83         7\n",
      "          11       0.86      1.00      0.92         6\n",
      "          12       0.94      0.88      0.91        17\n",
      "          13       0.80      0.80      0.80         5\n",
      "          14       0.83      1.00      0.91         5\n",
      "          15       0.90      0.75      0.82        12\n",
      "          16       0.50      1.00      0.67         1\n",
      "          17       1.00      1.00      1.00         6\n",
      "          18       1.00      0.50      0.67         6\n",
      "          19       0.92      1.00      0.96        11\n",
      "          20       0.75      0.75      0.75         4\n",
      "          21       1.00      1.00      1.00         1\n",
      "          22       1.00      1.00      1.00         7\n",
      "          23       1.00      0.86      0.92         7\n",
      "          24       1.00      0.75      0.86         8\n",
      "          25       0.83      1.00      0.91         5\n",
      "          26       1.00      1.00      1.00        13\n",
      "          27       1.00      1.00      1.00         1\n",
      "          28       1.00      0.89      0.94         9\n",
      "          29       0.40      0.50      0.44         4\n",
      "          30       1.00      0.80      0.89         5\n",
      "          31       0.73      1.00      0.84        16\n",
      "          32       0.83      1.00      0.91         5\n",
      "          33       1.00      0.50      0.67         4\n",
      "          34       0.42      1.00      0.59         5\n",
      "          35       0.67      0.50      0.57         4\n",
      "          36       0.83      0.83      0.83         6\n",
      "          37       1.00      0.75      0.86         4\n",
      "          38       1.00      0.92      0.96        13\n",
      "          39       1.00      0.50      0.67         4\n",
      "          40       1.00      0.75      0.86         4\n",
      "          41       1.00      1.00      1.00         8\n",
      "          42       0.92      1.00      0.96        12\n",
      "          43       1.00      0.67      0.80         3\n",
      "          44       0.93      1.00      0.97        14\n",
      "          45       1.00      1.00      1.00         4\n",
      "          46       1.00      1.00      1.00         6\n",
      "          47       0.79      0.79      0.79        14\n",
      "          49       1.00      0.93      0.97        15\n",
      "          50       1.00      0.69      0.82        13\n",
      "\n",
      "    accuracy                           0.90       448\n",
      "   macro avg       0.90      0.87      0.87       448\n",
      "weighted avg       0.92      0.90      0.90       448\n",
      "\n"
     ]
    }
   ],
   "source": [
    "from sklearn.ensemble import GradientBoostingClassifier\n",
    "gbc=GradientBoostingClassifier()\n",
    "gbc.fit(x_train,y_train)\n",
    "predgbc=gbc.predict (x_test)\n",
    "print(accuracy_score(y_test,predgbc))\n",
    "print(confusion_matrix(y_test,predgbc))\n",
    "print(classification_report(y_test,predgbc))"
   ]
  },
  {
   "cell_type": "code",
   "execution_count": 34,
   "id": "8ba9c0c5",
   "metadata": {},
   "outputs": [
    {
     "name": "stdout",
     "output_type": "stream",
     "text": [
      "0.09598214285714286\n",
      "[[15  0  0 ...  0  0  0]\n",
      " [20  0  0 ...  0  0  0]\n",
      " [13  0  0 ...  0  0  0]\n",
      " ...\n",
      " [14  0  0 ...  0  0  0]\n",
      " [ 0  0  0 ...  0  0  0]\n",
      " [13  0  0 ...  0  0  0]]\n",
      "              precision    recall  f1-score   support\n",
      "\n",
      "           0       0.04      1.00      0.08        15\n",
      "           1       0.00      0.00      0.00        20\n",
      "           2       0.00      0.00      0.00        13\n",
      "           3       0.00      0.00      0.00        14\n",
      "           4       0.00      0.00      0.00        13\n",
      "           5       0.00      0.00      0.00        16\n",
      "           6       0.43      0.96      0.59        24\n",
      "           7       0.00      0.00      0.00        15\n",
      "           8       0.00      0.00      0.00         8\n",
      "           9       0.00      0.00      0.00        16\n",
      "          10       0.00      0.00      0.00         7\n",
      "          11       0.00      0.00      0.00         6\n",
      "          12       0.00      0.00      0.00        17\n",
      "          13       0.00      0.00      0.00         5\n",
      "          14       0.29      0.80      0.42         5\n",
      "          15       0.00      0.00      0.00        12\n",
      "          16       0.00      0.00      0.00         1\n",
      "          17       0.00      0.00      0.00         6\n",
      "          18       0.00      0.00      0.00         6\n",
      "          19       0.00      0.00      0.00        11\n",
      "          20       0.00      0.00      0.00         4\n",
      "          21       1.00      1.00      1.00         1\n",
      "          22       0.00      0.00      0.00         7\n",
      "          23       0.00      0.00      0.00         7\n",
      "          24       0.00      0.00      0.00         8\n",
      "          25       0.00      0.00      0.00         5\n",
      "          26       0.00      0.00      0.00        13\n",
      "          27       0.00      0.00      0.00         1\n",
      "          28       0.00      0.00      0.00         9\n",
      "          29       0.00      0.00      0.00         4\n",
      "          30       0.00      0.00      0.00         5\n",
      "          31       0.00      0.00      0.00        16\n",
      "          32       0.00      0.00      0.00         5\n",
      "          33       0.00      0.00      0.00         4\n",
      "          34       0.00      0.00      0.00         5\n",
      "          35       0.00      0.00      0.00         4\n",
      "          36       0.00      0.00      0.00         6\n",
      "          37       0.00      0.00      0.00         4\n",
      "          38       0.00      0.00      0.00        13\n",
      "          39       0.00      0.00      0.00         4\n",
      "          40       0.00      0.00      0.00         4\n",
      "          41       0.00      0.00      0.00         8\n",
      "          42       0.00      0.00      0.00        12\n",
      "          43       0.00      0.00      0.00         3\n",
      "          44       0.00      0.00      0.00        14\n",
      "          45       0.00      0.00      0.00         4\n",
      "          46       0.00      0.00      0.00         6\n",
      "          47       0.00      0.00      0.00        14\n",
      "          49       0.00      0.00      0.00        15\n",
      "          50       0.00      0.00      0.00        13\n",
      "\n",
      "    accuracy                           0.10       448\n",
      "   macro avg       0.04      0.08      0.04       448\n",
      "weighted avg       0.03      0.10      0.04       448\n",
      "\n"
     ]
    }
   ],
   "source": [
    "from sklearn.ensemble import AdaBoostClassifier\n",
    "abc= AdaBoostClassifier()\n",
    "abc.fit(x_train,y_train)\n",
    "predabc=abc.predict (x_test)\n",
    "print(accuracy_score(y_test,predabc))\n",
    "print(confusion_matrix(y_test,predabc))\n",
    "print(classification_report(y_test,predabc))"
   ]
  },
  {
   "cell_type": "code",
   "execution_count": 35,
   "id": "9bbaf3cd",
   "metadata": {},
   "outputs": [
    {
     "name": "stdout",
     "output_type": "stream",
     "text": [
      "0.8861607142857143\n",
      "[[11  0  0 ...  0  0  0]\n",
      " [ 0 18  0 ...  1  0  0]\n",
      " [ 0  0 13 ...  0  0  0]\n",
      " ...\n",
      " [ 0  2  0 ... 11  0  0]\n",
      " [ 0  0  0 ...  0  7  0]\n",
      " [ 0  0  0 ...  0  0  6]]\n",
      "              precision    recall  f1-score   support\n",
      "\n",
      "           0       0.92      0.73      0.81        15\n",
      "           1       0.86      0.90      0.88        20\n",
      "           2       0.93      1.00      0.96        13\n",
      "           3       1.00      1.00      1.00        14\n",
      "           4       0.85      0.85      0.85        13\n",
      "           5       1.00      1.00      1.00        16\n",
      "           6       0.77      0.96      0.85        24\n",
      "           7       0.85      0.73      0.79        15\n",
      "           8       1.00      1.00      1.00         8\n",
      "           9       1.00      0.94      0.97        16\n",
      "          10       0.86      0.86      0.86         7\n",
      "          11       1.00      1.00      1.00         6\n",
      "          12       1.00      1.00      1.00        17\n",
      "          13       1.00      1.00      1.00         5\n",
      "          14       0.83      1.00      0.91         5\n",
      "          15       0.92      1.00      0.96        12\n",
      "          16       0.50      1.00      0.67         1\n",
      "          17       1.00      0.83      0.91         6\n",
      "          18       1.00      0.83      0.91         6\n",
      "          19       0.91      0.91      0.91        11\n",
      "          20       1.00      1.00      1.00         4\n",
      "          21       1.00      1.00      1.00         1\n",
      "          22       1.00      1.00      1.00         7\n",
      "          23       1.00      0.71      0.83         7\n",
      "          24       1.00      1.00      1.00         8\n",
      "          25       1.00      1.00      1.00         5\n",
      "          26       1.00      1.00      1.00        13\n",
      "          27       1.00      1.00      1.00         1\n",
      "          28       1.00      0.67      0.80         9\n",
      "          29       0.25      0.25      0.25         4\n",
      "          30       1.00      1.00      1.00         5\n",
      "          31       0.64      1.00      0.78        16\n",
      "          32       0.67      0.80      0.73         5\n",
      "          33       1.00      1.00      1.00         4\n",
      "          34       0.71      1.00      0.83         5\n",
      "          35       0.40      0.50      0.44         4\n",
      "          36       0.75      1.00      0.86         6\n",
      "          37       1.00      1.00      1.00         4\n",
      "          38       1.00      0.85      0.92        13\n",
      "          39       1.00      0.75      0.86         4\n",
      "          40       1.00      1.00      1.00         4\n",
      "          41       1.00      1.00      1.00         8\n",
      "          42       0.85      0.92      0.88        12\n",
      "          43       1.00      1.00      1.00         3\n",
      "          44       1.00      1.00      1.00        14\n",
      "          45       1.00      1.00      1.00         4\n",
      "          46       0.75      1.00      0.86         6\n",
      "          47       0.73      0.79      0.76        14\n",
      "          49       1.00      0.47      0.64        15\n",
      "          50       0.86      0.46      0.60        13\n",
      "\n",
      "    accuracy                           0.89       448\n",
      "   macro avg       0.90      0.89      0.89       448\n",
      "weighted avg       0.90      0.89      0.88       448\n",
      "\n"
     ]
    }
   ],
   "source": [
    "from sklearn.ensemble import BaggingClassifier\n",
    "bc= BaggingClassifier()\n",
    "bc.fit(x_train,y_train)\n",
    "predbc=bc.predict (x_test)\n",
    "print(accuracy_score(y_test,predbc))\n",
    "print(confusion_matrix(y_test,predbc))\n",
    "print(classification_report(y_test,predbc))"
   ]
  },
  {
   "cell_type": "markdown",
   "id": "d82fd55c",
   "metadata": {},
   "source": [
    "Above we have used many models which are providing different accuracy to finalize our model let's check using cross validation and hypothesis testing."
   ]
  },
  {
   "cell_type": "code",
   "execution_count": 36,
   "id": "9619cb0d",
   "metadata": {},
   "outputs": [],
   "source": [
    "from sklearn.model_selection import cross_val_score"
   ]
  },
  {
   "cell_type": "code",
   "execution_count": 37,
   "id": "b7a9e3a1",
   "metadata": {},
   "outputs": [
    {
     "name": "stdout",
     "output_type": "stream",
     "text": [
      "[0.82943144 0.93645485 0.93288591 0.95973154 0.89597315]\n",
      "0.9108953783304526\n",
      "Difference between Accuracy score and cross validation score is : -90.15203783304527\n"
     ]
    }
   ],
   "source": [
    "score = cross_val_score(rfc,x,y)\n",
    "print(score)\n",
    "print(score.mean())\n",
    "print(\"Difference between Accuracy score and cross validation score is :\", (accuracy_score(y_test,predrfc)-score.mean()*100))"
   ]
  },
  {
   "cell_type": "code",
   "execution_count": 38,
   "id": "0563a695",
   "metadata": {},
   "outputs": [
    {
     "name": "stdout",
     "output_type": "stream",
     "text": [
      "[0.85618729 0.93979933 0.97315436 0.96644295 0.91946309]\n",
      "0.9310094049516284\n",
      "Difference between Accuracy score and cross validation score is : -92.13888692373428\n"
     ]
    }
   ],
   "source": [
    "score = cross_val_score(etc,x,y)\n",
    "print(score)\n",
    "print(score.mean())\n",
    "print(\"Difference between Accuracy score and cross validation score is :\", (accuracy_score(y_test,predetc)-score.mean()*100))"
   ]
  },
  {
   "cell_type": "code",
   "execution_count": 39,
   "id": "eba7891d",
   "metadata": {},
   "outputs": [
    {
     "name": "stdout",
     "output_type": "stream",
     "text": [
      "[0.12374582 0.11036789 0.11073826 0.10738255 0.10067114]\n",
      "0.11058113173666136\n",
      "Difference between Accuracy score and cross validation score is : -10.962131030808994\n"
     ]
    }
   ],
   "source": [
    "score = cross_val_score(abc,x,y)\n",
    "print(score)\n",
    "print(score.mean())\n",
    "print(\"Difference between Accuracy score and cross validation score is :\", (accuracy_score(y_test,predabc)-score.mean()*100))"
   ]
  },
  {
   "cell_type": "code",
   "execution_count": 40,
   "id": "4f949c50",
   "metadata": {},
   "outputs": [
    {
     "name": "stdout",
     "output_type": "stream",
     "text": [
      "[0.76923077 0.909699   0.88590604 0.88590604 0.82885906]\n",
      "0.855920181365177\n",
      "Difference between Accuracy score and cross validation score is : -84.70585742223199\n"
     ]
    }
   ],
   "source": [
    "score = cross_val_score(bc,x,y)\n",
    "print(score)\n",
    "print(score.mean())\n",
    "print(\"Difference between Accuracy score and cross validation score is :\", (accuracy_score(y_test,predbc)-score.mean()*100))"
   ]
  },
  {
   "cell_type": "markdown",
   "id": "6db7f44a",
   "metadata": {},
   "source": [
    "Let's do Hyper parameter tunning via Randomized search"
   ]
  },
  {
   "cell_type": "code",
   "execution_count": 41,
   "id": "140d9b7d",
   "metadata": {},
   "outputs": [],
   "source": [
    "from sklearn.model_selection import RandomizedSearchCV"
   ]
  },
  {
   "cell_type": "code",
   "execution_count": 42,
   "id": "4931f7eb",
   "metadata": {},
   "outputs": [],
   "source": [
    "parameters={'n_estimators': [10, 50, 100, 200],\n",
    "    'max_depth': [None, 10, 20, 30],\n",
    "    'min_samples_split': [2, 5, 10, 20],\n",
    "    'min_samples_leaf': [1, 2, 5, 10],\n",
    "    'max_features': ['auto', 'sqrt', 'log2'],\n",
    "    'bootstrap': [True, False],\n",
    "}"
   ]
  },
  {
   "cell_type": "code",
   "execution_count": 43,
   "id": "9543b446",
   "metadata": {},
   "outputs": [],
   "source": [
    "RSV=RandomizedSearchCV(ExtraTreesClassifier(),parameters,cv=5)"
   ]
  },
  {
   "cell_type": "code",
   "execution_count": 44,
   "id": "e8b6ecbf",
   "metadata": {},
   "outputs": [
    {
     "data": {
      "text/html": [
       "<style>#sk-container-id-1 {color: black;background-color: white;}#sk-container-id-1 pre{padding: 0;}#sk-container-id-1 div.sk-toggleable {background-color: white;}#sk-container-id-1 label.sk-toggleable__label {cursor: pointer;display: block;width: 100%;margin-bottom: 0;padding: 0.3em;box-sizing: border-box;text-align: center;}#sk-container-id-1 label.sk-toggleable__label-arrow:before {content: \"▸\";float: left;margin-right: 0.25em;color: #696969;}#sk-container-id-1 label.sk-toggleable__label-arrow:hover:before {color: black;}#sk-container-id-1 div.sk-estimator:hover label.sk-toggleable__label-arrow:before {color: black;}#sk-container-id-1 div.sk-toggleable__content {max-height: 0;max-width: 0;overflow: hidden;text-align: left;background-color: #f0f8ff;}#sk-container-id-1 div.sk-toggleable__content pre {margin: 0.2em;color: black;border-radius: 0.25em;background-color: #f0f8ff;}#sk-container-id-1 input.sk-toggleable__control:checked~div.sk-toggleable__content {max-height: 200px;max-width: 100%;overflow: auto;}#sk-container-id-1 input.sk-toggleable__control:checked~label.sk-toggleable__label-arrow:before {content: \"▾\";}#sk-container-id-1 div.sk-estimator input.sk-toggleable__control:checked~label.sk-toggleable__label {background-color: #d4ebff;}#sk-container-id-1 div.sk-label input.sk-toggleable__control:checked~label.sk-toggleable__label {background-color: #d4ebff;}#sk-container-id-1 input.sk-hidden--visually {border: 0;clip: rect(1px 1px 1px 1px);clip: rect(1px, 1px, 1px, 1px);height: 1px;margin: -1px;overflow: hidden;padding: 0;position: absolute;width: 1px;}#sk-container-id-1 div.sk-estimator {font-family: monospace;background-color: #f0f8ff;border: 1px dotted black;border-radius: 0.25em;box-sizing: border-box;margin-bottom: 0.5em;}#sk-container-id-1 div.sk-estimator:hover {background-color: #d4ebff;}#sk-container-id-1 div.sk-parallel-item::after {content: \"\";width: 100%;border-bottom: 1px solid gray;flex-grow: 1;}#sk-container-id-1 div.sk-label:hover label.sk-toggleable__label {background-color: #d4ebff;}#sk-container-id-1 div.sk-serial::before {content: \"\";position: absolute;border-left: 1px solid gray;box-sizing: border-box;top: 0;bottom: 0;left: 50%;z-index: 0;}#sk-container-id-1 div.sk-serial {display: flex;flex-direction: column;align-items: center;background-color: white;padding-right: 0.2em;padding-left: 0.2em;position: relative;}#sk-container-id-1 div.sk-item {position: relative;z-index: 1;}#sk-container-id-1 div.sk-parallel {display: flex;align-items: stretch;justify-content: center;background-color: white;position: relative;}#sk-container-id-1 div.sk-item::before, #sk-container-id-1 div.sk-parallel-item::before {content: \"\";position: absolute;border-left: 1px solid gray;box-sizing: border-box;top: 0;bottom: 0;left: 50%;z-index: -1;}#sk-container-id-1 div.sk-parallel-item {display: flex;flex-direction: column;z-index: 1;position: relative;background-color: white;}#sk-container-id-1 div.sk-parallel-item:first-child::after {align-self: flex-end;width: 50%;}#sk-container-id-1 div.sk-parallel-item:last-child::after {align-self: flex-start;width: 50%;}#sk-container-id-1 div.sk-parallel-item:only-child::after {width: 0;}#sk-container-id-1 div.sk-dashed-wrapped {border: 1px dashed gray;margin: 0 0.4em 0.5em 0.4em;box-sizing: border-box;padding-bottom: 0.4em;background-color: white;}#sk-container-id-1 div.sk-label label {font-family: monospace;font-weight: bold;display: inline-block;line-height: 1.2em;}#sk-container-id-1 div.sk-label-container {text-align: center;}#sk-container-id-1 div.sk-container {/* jupyter's `normalize.less` sets `[hidden] { display: none; }` but bootstrap.min.css set `[hidden] { display: none !important; }` so we also need the `!important` here to be able to override the default hidden behavior on the sphinx rendered scikit-learn.org. See: https://github.com/scikit-learn/scikit-learn/issues/21755 */display: inline-block !important;position: relative;}#sk-container-id-1 div.sk-text-repr-fallback {display: none;}</style><div id=\"sk-container-id-1\" class=\"sk-top-container\"><div class=\"sk-text-repr-fallback\"><pre>RandomizedSearchCV(cv=5, estimator=ExtraTreesClassifier(),\n",
       "                   param_distributions={&#x27;bootstrap&#x27;: [True, False],\n",
       "                                        &#x27;max_depth&#x27;: [None, 10, 20, 30],\n",
       "                                        &#x27;max_features&#x27;: [&#x27;auto&#x27;, &#x27;sqrt&#x27;,\n",
       "                                                         &#x27;log2&#x27;],\n",
       "                                        &#x27;min_samples_leaf&#x27;: [1, 2, 5, 10],\n",
       "                                        &#x27;min_samples_split&#x27;: [2, 5, 10, 20],\n",
       "                                        &#x27;n_estimators&#x27;: [10, 50, 100, 200]})</pre><b>In a Jupyter environment, please rerun this cell to show the HTML representation or trust the notebook. <br />On GitHub, the HTML representation is unable to render, please try loading this page with nbviewer.org.</b></div><div class=\"sk-container\" hidden><div class=\"sk-item sk-dashed-wrapped\"><div class=\"sk-label-container\"><div class=\"sk-label sk-toggleable\"><input class=\"sk-toggleable__control sk-hidden--visually\" id=\"sk-estimator-id-1\" type=\"checkbox\" ><label for=\"sk-estimator-id-1\" class=\"sk-toggleable__label sk-toggleable__label-arrow\">RandomizedSearchCV</label><div class=\"sk-toggleable__content\"><pre>RandomizedSearchCV(cv=5, estimator=ExtraTreesClassifier(),\n",
       "                   param_distributions={&#x27;bootstrap&#x27;: [True, False],\n",
       "                                        &#x27;max_depth&#x27;: [None, 10, 20, 30],\n",
       "                                        &#x27;max_features&#x27;: [&#x27;auto&#x27;, &#x27;sqrt&#x27;,\n",
       "                                                         &#x27;log2&#x27;],\n",
       "                                        &#x27;min_samples_leaf&#x27;: [1, 2, 5, 10],\n",
       "                                        &#x27;min_samples_split&#x27;: [2, 5, 10, 20],\n",
       "                                        &#x27;n_estimators&#x27;: [10, 50, 100, 200]})</pre></div></div></div><div class=\"sk-parallel\"><div class=\"sk-parallel-item\"><div class=\"sk-item\"><div class=\"sk-label-container\"><div class=\"sk-label sk-toggleable\"><input class=\"sk-toggleable__control sk-hidden--visually\" id=\"sk-estimator-id-2\" type=\"checkbox\" ><label for=\"sk-estimator-id-2\" class=\"sk-toggleable__label sk-toggleable__label-arrow\">estimator: ExtraTreesClassifier</label><div class=\"sk-toggleable__content\"><pre>ExtraTreesClassifier()</pre></div></div></div><div class=\"sk-serial\"><div class=\"sk-item\"><div class=\"sk-estimator sk-toggleable\"><input class=\"sk-toggleable__control sk-hidden--visually\" id=\"sk-estimator-id-3\" type=\"checkbox\" ><label for=\"sk-estimator-id-3\" class=\"sk-toggleable__label sk-toggleable__label-arrow\">ExtraTreesClassifier</label><div class=\"sk-toggleable__content\"><pre>ExtraTreesClassifier()</pre></div></div></div></div></div></div></div></div></div></div>"
      ],
      "text/plain": [
       "RandomizedSearchCV(cv=5, estimator=ExtraTreesClassifier(),\n",
       "                   param_distributions={'bootstrap': [True, False],\n",
       "                                        'max_depth': [None, 10, 20, 30],\n",
       "                                        'max_features': ['auto', 'sqrt',\n",
       "                                                         'log2'],\n",
       "                                        'min_samples_leaf': [1, 2, 5, 10],\n",
       "                                        'min_samples_split': [2, 5, 10, 20],\n",
       "                                        'n_estimators': [10, 50, 100, 200]})"
      ]
     },
     "execution_count": 44,
     "metadata": {},
     "output_type": "execute_result"
    }
   ],
   "source": [
    "RSV.fit(x_train,y_train)"
   ]
  },
  {
   "cell_type": "code",
   "execution_count": 46,
   "id": "acd2ed95",
   "metadata": {},
   "outputs": [
    {
     "data": {
      "text/plain": [
       "{'n_estimators': 50,\n",
       " 'min_samples_split': 2,\n",
       " 'min_samples_leaf': 1,\n",
       " 'max_features': 'sqrt',\n",
       " 'max_depth': 30,\n",
       " 'bootstrap': False}"
      ]
     },
     "execution_count": 46,
     "metadata": {},
     "output_type": "execute_result"
    }
   ],
   "source": [
    "RSV.best_params_"
   ]
  },
  {
   "cell_type": "code",
   "execution_count": 48,
   "id": "c1ea6900",
   "metadata": {},
   "outputs": [],
   "source": [
    "Model=ExtraTreesClassifier(n_estimators= 50,min_samples_split= 2,min_samples_leaf= 1,max_features= 'sqrt',max_depth= 30,bootstrap= False)"
   ]
  },
  {
   "cell_type": "code",
   "execution_count": 49,
   "id": "b9074965",
   "metadata": {},
   "outputs": [
    {
     "name": "stdout",
     "output_type": "stream",
     "text": [
      "0.9620535714285714\n",
      "[[15  0  0 ...  0  0  0]\n",
      " [ 0 19  0 ...  1  0  0]\n",
      " [ 0  0 13 ...  0  0  0]\n",
      " ...\n",
      " [ 0  1  0 ... 12  0  0]\n",
      " [ 0  0  0 ...  0 15  0]\n",
      " [ 0  0  0 ...  0  0 11]]\n",
      "              precision    recall  f1-score   support\n",
      "\n",
      "           0       1.00      1.00      1.00        15\n",
      "           1       0.86      0.95      0.90        20\n",
      "           2       1.00      1.00      1.00        13\n",
      "           3       1.00      1.00      1.00        14\n",
      "           4       1.00      1.00      1.00        13\n",
      "           5       1.00      1.00      1.00        16\n",
      "           6       1.00      1.00      1.00        24\n",
      "           7       1.00      0.93      0.97        15\n",
      "           8       1.00      1.00      1.00         8\n",
      "           9       1.00      1.00      1.00        16\n",
      "          10       1.00      0.86      0.92         7\n",
      "          11       1.00      1.00      1.00         6\n",
      "          12       1.00      1.00      1.00        17\n",
      "          13       0.71      1.00      0.83         5\n",
      "          14       0.71      1.00      0.83         5\n",
      "          15       1.00      1.00      1.00        12\n",
      "          16       0.50      1.00      0.67         1\n",
      "          17       1.00      1.00      1.00         6\n",
      "          18       1.00      0.67      0.80         6\n",
      "          19       1.00      0.91      0.95        11\n",
      "          20       1.00      1.00      1.00         4\n",
      "          21       1.00      1.00      1.00         1\n",
      "          22       1.00      1.00      1.00         7\n",
      "          23       1.00      1.00      1.00         7\n",
      "          24       1.00      0.75      0.86         8\n",
      "          25       1.00      1.00      1.00         5\n",
      "          26       1.00      1.00      1.00        13\n",
      "          27       1.00      1.00      1.00         1\n",
      "          28       1.00      0.89      0.94         9\n",
      "          29       0.67      0.50      0.57         4\n",
      "          30       1.00      1.00      1.00         5\n",
      "          31       0.84      1.00      0.91        16\n",
      "          32       1.00      1.00      1.00         5\n",
      "          33       1.00      1.00      1.00         4\n",
      "          34       0.71      1.00      0.83         5\n",
      "          35       0.80      1.00      0.89         4\n",
      "          36       1.00      1.00      1.00         6\n",
      "          37       1.00      1.00      1.00         4\n",
      "          38       1.00      0.92      0.96        13\n",
      "          39       1.00      1.00      1.00         4\n",
      "          40       1.00      0.75      0.86         4\n",
      "          41       1.00      1.00      1.00         8\n",
      "          42       1.00      1.00      1.00        12\n",
      "          43       1.00      1.00      1.00         3\n",
      "          44       1.00      1.00      1.00        14\n",
      "          45       1.00      1.00      1.00         4\n",
      "          46       1.00      1.00      1.00         6\n",
      "          47       0.86      0.86      0.86        14\n",
      "          49       1.00      1.00      1.00        15\n",
      "          50       1.00      0.85      0.92        13\n",
      "\n",
      "    accuracy                           0.96       448\n",
      "   macro avg       0.95      0.96      0.95       448\n",
      "weighted avg       0.97      0.96      0.96       448\n",
      "\n"
     ]
    }
   ],
   "source": [
    "Model.fit(x_train,y_train)\n",
    "pred=Model.predict (x_test)\n",
    "print(accuracy_score(y_test,pred))\n",
    "print(confusion_matrix(y_test,pred))\n",
    "print(classification_report(y_test,pred))"
   ]
  },
  {
   "cell_type": "code",
   "execution_count": null,
   "id": "40afaacb",
   "metadata": {},
   "outputs": [],
   "source": [
    "We can see that at the final stage ur model is giving accuracy score of 96 which can be considered as excellent accuracy score.\n",
    "\n",
    "Now let's save our model by pickle method"
   ]
  },
  {
   "cell_type": "markdown",
   "id": "49937c24",
   "metadata": {},
   "source": [
    "# Now let's build regressio model for prediction of average price."
   ]
  },
  {
   "cell_type": "code",
   "execution_count": 51,
   "id": "40c0bb95",
   "metadata": {},
   "outputs": [],
   "source": [
    "features = ['region', 'Total Volume', '4046', '4225', '4770',\n",
    "       'Total Bags', 'Small Bags', 'XLarge Bags', 'type', 'year']\n",
    "target = 'AveragePrice'"
   ]
  },
  {
   "cell_type": "code",
   "execution_count": 52,
   "id": "dbf1cb4d",
   "metadata": {},
   "outputs": [],
   "source": [
    "x = df1[features]\n",
    "y = df1[target]"
   ]
  },
  {
   "cell_type": "code",
   "execution_count": 53,
   "id": "891a75ff",
   "metadata": {},
   "outputs": [
    {
     "name": "stdout",
     "output_type": "stream",
     "text": [
      "dimension of indendent variable: (1492, 10)\n",
      "dimension of dependent variable: (1492,)\n"
     ]
    }
   ],
   "source": [
    "print('dimension of indendent variable:',x.shape)\n",
    "print('dimension of dependent variable:',y.shape)"
   ]
  },
  {
   "cell_type": "code",
   "execution_count": 54,
   "id": "be53ebf3",
   "metadata": {},
   "outputs": [],
   "source": [
    "from sklearn.model_selection import train_test_split\n",
    "from sklearn.metrics import mean_absolute_error\n",
    "from sklearn.metrics import mean_squared_error\n",
    "from sklearn.metrics import r2_score\n",
    "from sklearn.linear_model import LinearRegression\n",
    "from sklearn.tree import DecisionTreeRegressor"
   ]
  },
  {
   "cell_type": "code",
   "execution_count": 55,
   "id": "5d2f963e",
   "metadata": {},
   "outputs": [],
   "source": [
    "x_train,x_test,y_train,y_test= train_test_split(x,y,test_size =0.30, random_state = 42)"
   ]
  },
  {
   "cell_type": "markdown",
   "id": "f028cb9c",
   "metadata": {},
   "source": [
    "Now we'll check different models so that we can understand which model would be more efficient for us."
   ]
  },
  {
   "cell_type": "code",
   "execution_count": 56,
   "id": "cbdbfa7c",
   "metadata": {},
   "outputs": [
    {
     "name": "stdout",
     "output_type": "stream",
     "text": [
      "R2 score: 0.7176978414995732\n",
      "R2 score on training Data: 100.0\n",
      "Mean Absolute Error: 0.07220982142857144\n",
      "Mean Squared Error: 0.011409598214285716\n",
      "Root Mean Squared Error: 0.10681572081995101\n"
     ]
    }
   ],
   "source": [
    "from sklearn.tree import DecisionTreeRegressor\n",
    "dtr=DecisionTreeRegressor()\n",
    "dtr.fit(x_train,y_train)\n",
    "pred_DTR=dtr.predict (x_test)\n",
    "pred_train=dtr.predict(x_train)\n",
    "print ('R2 score:',r2_score(y_test,pred_DTR))\n",
    "print ('R2 score on training Data:',r2_score(y_train,pred_train) *100)\n",
    "print('Mean Absolute Error:',mean_absolute_error(y_test, pred_DTR))\n",
    "print('Mean Squared Error:',mean_squared_error(y_test, pred_DTR))\n",
    "print (\"Root Mean Squared Error:\",np.sqrt(mean_squared_error(y_test, pred_DTR)))"
   ]
  },
  {
   "cell_type": "code",
   "execution_count": 57,
   "id": "62b138c9",
   "metadata": {},
   "outputs": [
    {
     "name": "stdout",
     "output_type": "stream",
     "text": [
      "R2 score: 0.8304190383240732\n",
      "R2 score on training Data: 96.90070392166503\n",
      "Mean Absolute Error: 0.060784375\n",
      "Mean Squared Error: 0.006853828705357148\n",
      "Root Mean Squared Error: 0.0827878536100384\n"
     ]
    }
   ],
   "source": [
    "    from sklearn.ensemble import RandomForestRegressor\n",
    "    rfr=RandomForestRegressor()\n",
    "    rfr.fit(x_train,y_train)\n",
    "    pred_RFR=rfr.predict (x_test)\n",
    "    pred_train=rfr.predict(x_train)\n",
    "    print ('R2 score:',r2_score(y_test,pred_RFR))\n",
    "    print ('R2 score on training Data:',r2_score(y_train,pred_train) *100)\n",
    "    print('Mean Absolute Error:',mean_absolute_error(y_test, pred_RFR))\n",
    "    print('Mean Squared Error:',mean_squared_error(y_test, pred_RFR))\n",
    "    print (\"Root Mean Squared Error:\",np.sqrt(mean_squared_error(y_test, pred_RFR)))"
   ]
  },
  {
   "cell_type": "code",
   "execution_count": 58,
   "id": "28087bd9",
   "metadata": {},
   "outputs": [
    {
     "name": "stdout",
     "output_type": "stream",
     "text": [
      "R2 score: 0.8845478182245665\n",
      "R2 score on training Data: 100.0\n",
      "Mean Absolute Error: 0.04959687500000003\n",
      "Mean Squared Error: 0.00466614571428572\n",
      "Root Mean Squared Error: 0.06830919201897882\n"
     ]
    }
   ],
   "source": [
    "from sklearn.ensemble import ExtraTreesRegressor\n",
    "etr=ExtraTreesRegressor()\n",
    "etr.fit(x_train,y_train)\n",
    "pred_ETR=etr.predict (x_test)\n",
    "pred_train=etr.predict(x_train)\n",
    "print ('R2 score:',r2_score(y_test,pred_ETR))\n",
    "print ('R2 score on training Data:',r2_score(y_train,pred_train) *100)\n",
    "print('Mean Absolute Error:',mean_absolute_error(y_test, pred_ETR))\n",
    "print('Mean Squared Error:',mean_squared_error(y_test, pred_ETR))\n",
    "print (\"Root Mean Squared Error:\",np.sqrt(mean_squared_error(y_test, pred_ETR)))"
   ]
  },
  {
   "cell_type": "code",
   "execution_count": 59,
   "id": "e562476a",
   "metadata": {},
   "outputs": [
    {
     "name": "stdout",
     "output_type": "stream",
     "text": [
      "R2 score: 0.7358531256212992\n",
      "R2 score on training Data: 82.8141442618064\n",
      "Mean Absolute Error: 0.07846504555857238\n",
      "Mean Squared Error: 0.010675829480828498\n",
      "Root Mean Squared Error: 0.10332390565996089\n"
     ]
    }
   ],
   "source": [
    "from sklearn.ensemble import GradientBoostingRegressor\n",
    "gbr=GradientBoostingRegressor()\n",
    "gbr.fit(x_train,y_train)\n",
    "pred_GBR=gbr.predict (x_test)\n",
    "pred_train=gbr.predict(x_train)\n",
    "print ('R2 score:',r2_score(y_test,pred_GBR))\n",
    "print ('R2 score on training Data:',r2_score(y_train,pred_train) *100)\n",
    "print('Mean Absolute Error:',mean_absolute_error(y_test, pred_GBR))\n",
    "print('Mean Squared Error:',mean_squared_error(y_test, pred_GBR))\n",
    "print (\"Root Mean Squared Error:\",np.sqrt(mean_squared_error(y_test, pred_GBR)))"
   ]
  },
  {
   "cell_type": "code",
   "execution_count": 60,
   "id": "117a8a1b",
   "metadata": {},
   "outputs": [
    {
     "name": "stdout",
     "output_type": "stream",
     "text": [
      "R2 score: 0.38689886077316205\n",
      "R2 score on training Data: 37.842238712671985\n",
      "Mean Absolute Error: 0.12246671248477305\n",
      "Mean Squared Error: 0.024779256738444277\n",
      "Root Mean Squared Error: 0.1574142837815053\n"
     ]
    }
   ],
   "source": [
    "from sklearn.linear_model import Ridge\n",
    "rd= Ridge()\n",
    "rd.fit(x_train,y_train)\n",
    "pred_RD=rd.predict (x_test)\n",
    "pred_train=rd.predict(x_train)\n",
    "print ('R2 score:',r2_score(y_test,pred_RD))\n",
    "print ('R2 score on training Data:',r2_score(y_train,pred_train) *100)\n",
    "print('Mean Absolute Error:',mean_absolute_error(y_test, pred_RD))\n",
    "print('Mean Squared Error:',mean_squared_error(y_test, pred_RD))\n",
    "print (\"Root Mean Squared Error:\",np.sqrt(mean_squared_error(y_test, pred_RD)))"
   ]
  },
  {
   "cell_type": "markdown",
   "id": "c1ef4471",
   "metadata": {},
   "source": [
    "As now we've checked all the possible models we'll go forward and use cross validation method to finalize our the model."
   ]
  },
  {
   "cell_type": "code",
   "execution_count": 61,
   "id": "a911249e",
   "metadata": {},
   "outputs": [],
   "source": [
    "from sklearn.model_selection import cross_val_score"
   ]
  },
  {
   "cell_type": "code",
   "execution_count": 62,
   "id": "f3f96ab8",
   "metadata": {},
   "outputs": [
    {
     "name": "stdout",
     "output_type": "stream",
     "text": [
      "[-1.64619135 -0.19293212 -0.44299459 -0.09687931  0.13399647]\n",
      "-0.44900018235421496\n",
      "Difference between R2 score and cross validation score is : 45.61771607692107\n"
     ]
    }
   ],
   "source": [
    "score = cross_val_score(dtr,x,y, cv=5, scoring='r2')\n",
    "print(score)\n",
    "print(score.mean())\n",
    "print(\"Difference between R2 score and cross validation score is :\", (r2_score(y_test,pred_DTR)-score.mean()*100))"
   ]
  },
  {
   "cell_type": "code",
   "execution_count": 63,
   "id": "2cea463e",
   "metadata": {},
   "outputs": [
    {
     "name": "stdout",
     "output_type": "stream",
     "text": [
      "[-0.95885447  0.04363159  0.43194346  0.36299427  0.27034892]\n",
      "0.030012752190164173\n",
      "Difference between R2 score and cross validation score is : -2.170856180692344\n"
     ]
    }
   ],
   "source": [
    "score = cross_val_score(rfr,x,y)\n",
    "print(score)\n",
    "print(score.mean())\n",
    "print(\"Difference between R2 score and cross validation score is :\", (r2_score(y_test,pred_RFR)-score.mean()*100))"
   ]
  },
  {
   "cell_type": "code",
   "execution_count": 64,
   "id": "8aeeb97d",
   "metadata": {},
   "outputs": [
    {
     "name": "stdout",
     "output_type": "stream",
     "text": [
      "[-0.00244308  0.36335356  0.48561564  0.39666757  0.34444434]\n",
      "0.317527608447593\n",
      "Difference between R2 score and cross validation score is : -30.868213026534733\n"
     ]
    }
   ],
   "source": [
    "score = cross_val_score(etr,x,y)\n",
    "print(score)\n",
    "print(score.mean())\n",
    "print(\"Difference between R2 score and cross validation score is :\", (r2_score(y_test,pred_ETR)-score.mean()*100))"
   ]
  },
  {
   "cell_type": "code",
   "execution_count": 65,
   "id": "f2c035b7",
   "metadata": {},
   "outputs": [
    {
     "name": "stdout",
     "output_type": "stream",
     "text": [
      "[-0.19537015  0.36737339  0.59454587  0.23203596  0.21452324]\n",
      "0.24262166031060453\n",
      "Difference between R2 score and cross validation score is : -23.526312905439152\n"
     ]
    }
   ],
   "source": [
    "score = cross_val_score(gbr,x,y)\n",
    "print(score)\n",
    "print(score.mean())\n",
    "print(\"Difference between R2 score and cross validation score is :\", (r2_score(y_test,pred_GBR)-score.mean()*100))"
   ]
  },
  {
   "cell_type": "code",
   "execution_count": 66,
   "id": "076d1dce",
   "metadata": {},
   "outputs": [
    {
     "name": "stdout",
     "output_type": "stream",
     "text": [
      "[-0.03810786  0.22561888  0.43253346  0.26672402  0.17425828]\n",
      "0.2122053549910213\n",
      "Difference between R2 score and cross validation score is : -20.83363663832897\n"
     ]
    }
   ],
   "source": [
    "score = cross_val_score(rd,x,y)\n",
    "print(score)\n",
    "print(score.mean())\n",
    "print(\"Difference between R2 score and cross validation score is :\", (r2_score(y_test,pred_RD)-score.mean()*100))"
   ]
  },
  {
   "cell_type": "markdown",
   "id": "d531d75d",
   "metadata": {},
   "source": [
    "With the above cross valiadation we can see that random forest regressor is working absolutely perfect and best with our data so let's select this model and perform hyperparameter tunning."
   ]
  },
  {
   "cell_type": "code",
   "execution_count": 67,
   "id": "bb7b48df",
   "metadata": {},
   "outputs": [],
   "source": [
    "#Lets test our data by Randomized search\n",
    "from sklearn.model_selection import RandomizedSearchCV"
   ]
  },
  {
   "cell_type": "code",
   "execution_count": 68,
   "id": "2251e87f",
   "metadata": {},
   "outputs": [],
   "source": [
    "param = {\n",
    "    'n_estimators': [10, 50, 100, 200],\n",
    "    'max_depth': [None, 10, 20, 30],\n",
    "    'min_samples_split': [2, 5, 10, 20],\n",
    "    'min_samples_leaf': [1, 2, 5, 10],\n",
    "    'max_features': ['auto', 'sqrt', 'log2'],\n",
    "    'bootstrap': [True, False],\n",
    "}"
   ]
  },
  {
   "cell_type": "code",
   "execution_count": 70,
   "id": "4bd99daf",
   "metadata": {},
   "outputs": [
    {
     "data": {
      "text/html": [
       "<style>#sk-container-id-2 {color: black;background-color: white;}#sk-container-id-2 pre{padding: 0;}#sk-container-id-2 div.sk-toggleable {background-color: white;}#sk-container-id-2 label.sk-toggleable__label {cursor: pointer;display: block;width: 100%;margin-bottom: 0;padding: 0.3em;box-sizing: border-box;text-align: center;}#sk-container-id-2 label.sk-toggleable__label-arrow:before {content: \"▸\";float: left;margin-right: 0.25em;color: #696969;}#sk-container-id-2 label.sk-toggleable__label-arrow:hover:before {color: black;}#sk-container-id-2 div.sk-estimator:hover label.sk-toggleable__label-arrow:before {color: black;}#sk-container-id-2 div.sk-toggleable__content {max-height: 0;max-width: 0;overflow: hidden;text-align: left;background-color: #f0f8ff;}#sk-container-id-2 div.sk-toggleable__content pre {margin: 0.2em;color: black;border-radius: 0.25em;background-color: #f0f8ff;}#sk-container-id-2 input.sk-toggleable__control:checked~div.sk-toggleable__content {max-height: 200px;max-width: 100%;overflow: auto;}#sk-container-id-2 input.sk-toggleable__control:checked~label.sk-toggleable__label-arrow:before {content: \"▾\";}#sk-container-id-2 div.sk-estimator input.sk-toggleable__control:checked~label.sk-toggleable__label {background-color: #d4ebff;}#sk-container-id-2 div.sk-label input.sk-toggleable__control:checked~label.sk-toggleable__label {background-color: #d4ebff;}#sk-container-id-2 input.sk-hidden--visually {border: 0;clip: rect(1px 1px 1px 1px);clip: rect(1px, 1px, 1px, 1px);height: 1px;margin: -1px;overflow: hidden;padding: 0;position: absolute;width: 1px;}#sk-container-id-2 div.sk-estimator {font-family: monospace;background-color: #f0f8ff;border: 1px dotted black;border-radius: 0.25em;box-sizing: border-box;margin-bottom: 0.5em;}#sk-container-id-2 div.sk-estimator:hover {background-color: #d4ebff;}#sk-container-id-2 div.sk-parallel-item::after {content: \"\";width: 100%;border-bottom: 1px solid gray;flex-grow: 1;}#sk-container-id-2 div.sk-label:hover label.sk-toggleable__label {background-color: #d4ebff;}#sk-container-id-2 div.sk-serial::before {content: \"\";position: absolute;border-left: 1px solid gray;box-sizing: border-box;top: 0;bottom: 0;left: 50%;z-index: 0;}#sk-container-id-2 div.sk-serial {display: flex;flex-direction: column;align-items: center;background-color: white;padding-right: 0.2em;padding-left: 0.2em;position: relative;}#sk-container-id-2 div.sk-item {position: relative;z-index: 1;}#sk-container-id-2 div.sk-parallel {display: flex;align-items: stretch;justify-content: center;background-color: white;position: relative;}#sk-container-id-2 div.sk-item::before, #sk-container-id-2 div.sk-parallel-item::before {content: \"\";position: absolute;border-left: 1px solid gray;box-sizing: border-box;top: 0;bottom: 0;left: 50%;z-index: -1;}#sk-container-id-2 div.sk-parallel-item {display: flex;flex-direction: column;z-index: 1;position: relative;background-color: white;}#sk-container-id-2 div.sk-parallel-item:first-child::after {align-self: flex-end;width: 50%;}#sk-container-id-2 div.sk-parallel-item:last-child::after {align-self: flex-start;width: 50%;}#sk-container-id-2 div.sk-parallel-item:only-child::after {width: 0;}#sk-container-id-2 div.sk-dashed-wrapped {border: 1px dashed gray;margin: 0 0.4em 0.5em 0.4em;box-sizing: border-box;padding-bottom: 0.4em;background-color: white;}#sk-container-id-2 div.sk-label label {font-family: monospace;font-weight: bold;display: inline-block;line-height: 1.2em;}#sk-container-id-2 div.sk-label-container {text-align: center;}#sk-container-id-2 div.sk-container {/* jupyter's `normalize.less` sets `[hidden] { display: none; }` but bootstrap.min.css set `[hidden] { display: none !important; }` so we also need the `!important` here to be able to override the default hidden behavior on the sphinx rendered scikit-learn.org. See: https://github.com/scikit-learn/scikit-learn/issues/21755 */display: inline-block !important;position: relative;}#sk-container-id-2 div.sk-text-repr-fallback {display: none;}</style><div id=\"sk-container-id-2\" class=\"sk-top-container\"><div class=\"sk-text-repr-fallback\"><pre>RandomizedSearchCV(cv=5, estimator=RandomForestRegressor(),\n",
       "                   param_distributions={&#x27;bootstrap&#x27;: [True, False],\n",
       "                                        &#x27;max_depth&#x27;: [None, 10, 20, 30],\n",
       "                                        &#x27;max_features&#x27;: [&#x27;auto&#x27;, &#x27;sqrt&#x27;,\n",
       "                                                         &#x27;log2&#x27;],\n",
       "                                        &#x27;min_samples_leaf&#x27;: [1, 2, 5, 10],\n",
       "                                        &#x27;min_samples_split&#x27;: [2, 5, 10, 20],\n",
       "                                        &#x27;n_estimators&#x27;: [10, 50, 100, 200]})</pre><b>In a Jupyter environment, please rerun this cell to show the HTML representation or trust the notebook. <br />On GitHub, the HTML representation is unable to render, please try loading this page with nbviewer.org.</b></div><div class=\"sk-container\" hidden><div class=\"sk-item sk-dashed-wrapped\"><div class=\"sk-label-container\"><div class=\"sk-label sk-toggleable\"><input class=\"sk-toggleable__control sk-hidden--visually\" id=\"sk-estimator-id-4\" type=\"checkbox\" ><label for=\"sk-estimator-id-4\" class=\"sk-toggleable__label sk-toggleable__label-arrow\">RandomizedSearchCV</label><div class=\"sk-toggleable__content\"><pre>RandomizedSearchCV(cv=5, estimator=RandomForestRegressor(),\n",
       "                   param_distributions={&#x27;bootstrap&#x27;: [True, False],\n",
       "                                        &#x27;max_depth&#x27;: [None, 10, 20, 30],\n",
       "                                        &#x27;max_features&#x27;: [&#x27;auto&#x27;, &#x27;sqrt&#x27;,\n",
       "                                                         &#x27;log2&#x27;],\n",
       "                                        &#x27;min_samples_leaf&#x27;: [1, 2, 5, 10],\n",
       "                                        &#x27;min_samples_split&#x27;: [2, 5, 10, 20],\n",
       "                                        &#x27;n_estimators&#x27;: [10, 50, 100, 200]})</pre></div></div></div><div class=\"sk-parallel\"><div class=\"sk-parallel-item\"><div class=\"sk-item\"><div class=\"sk-label-container\"><div class=\"sk-label sk-toggleable\"><input class=\"sk-toggleable__control sk-hidden--visually\" id=\"sk-estimator-id-5\" type=\"checkbox\" ><label for=\"sk-estimator-id-5\" class=\"sk-toggleable__label sk-toggleable__label-arrow\">estimator: RandomForestRegressor</label><div class=\"sk-toggleable__content\"><pre>RandomForestRegressor()</pre></div></div></div><div class=\"sk-serial\"><div class=\"sk-item\"><div class=\"sk-estimator sk-toggleable\"><input class=\"sk-toggleable__control sk-hidden--visually\" id=\"sk-estimator-id-6\" type=\"checkbox\" ><label for=\"sk-estimator-id-6\" class=\"sk-toggleable__label sk-toggleable__label-arrow\">RandomForestRegressor</label><div class=\"sk-toggleable__content\"><pre>RandomForestRegressor()</pre></div></div></div></div></div></div></div></div></div></div>"
      ],
      "text/plain": [
       "RandomizedSearchCV(cv=5, estimator=RandomForestRegressor(),\n",
       "                   param_distributions={'bootstrap': [True, False],\n",
       "                                        'max_depth': [None, 10, 20, 30],\n",
       "                                        'max_features': ['auto', 'sqrt',\n",
       "                                                         'log2'],\n",
       "                                        'min_samples_leaf': [1, 2, 5, 10],\n",
       "                                        'min_samples_split': [2, 5, 10, 20],\n",
       "                                        'n_estimators': [10, 50, 100, 200]})"
      ]
     },
     "execution_count": 70,
     "metadata": {},
     "output_type": "execute_result"
    }
   ],
   "source": [
    "Rscv=RandomizedSearchCV(RandomForestRegressor(),param,cv=5)\n",
    "Rscv.fit(x_train,y_train)"
   ]
  },
  {
   "cell_type": "code",
   "execution_count": 71,
   "id": "5c356759",
   "metadata": {},
   "outputs": [
    {
     "data": {
      "text/plain": [
       "{'n_estimators': 10,\n",
       " 'min_samples_split': 5,\n",
       " 'min_samples_leaf': 2,\n",
       " 'max_features': 'sqrt',\n",
       " 'max_depth': None,\n",
       " 'bootstrap': True}"
      ]
     },
     "execution_count": 71,
     "metadata": {},
     "output_type": "execute_result"
    }
   ],
   "source": [
    "Rscv.best_params_"
   ]
  },
  {
   "cell_type": "code",
   "execution_count": 74,
   "id": "48f67ce0",
   "metadata": {},
   "outputs": [],
   "source": [
    "Model=RandomForestRegressor(n_estimators= 10,min_samples_split= 5, min_samples_leaf= 2,max_features= 'sqrt',max_depth= None,bootstrap= True)"
   ]
  },
  {
   "cell_type": "code",
   "execution_count": 75,
   "id": "5295417e",
   "metadata": {},
   "outputs": [
    {
     "name": "stdout",
     "output_type": "stream",
     "text": [
      "R2 score: 0.7832413453700403\n",
      "Mean Absolute Error: 0.06822992689973717\n",
      "Mean Squared Error: 0.008760574739966864\n",
      "Root Mean Squared Error: 0.09359794196437689\n"
     ]
    }
   ],
   "source": [
    "Model.fit(x_train,y_train)\n",
    "pred=Model.predict (x_test)\n",
    "print ('R2 score:',r2_score(y_test,pred))\n",
    "print('Mean Absolute Error:',mean_absolute_error(y_test, pred))\n",
    "print('Mean Squared Error:',mean_squared_error(y_test, pred))\n",
    "print (\"Root Mean Squared Error:\",np.sqrt(mean_squared_error(y_test, pred)))"
   ]
  },
  {
   "cell_type": "markdown",
   "id": "4e76a690",
   "metadata": {},
   "source": [
    "We can see that at the final stage ur model is giving r2 score of 78 which can be considered as good accuracy score.\n",
    "\n",
    "Now let's save our model by pickle method"
   ]
  },
  {
   "cell_type": "code",
   "execution_count": 76,
   "id": "3d9d0e17",
   "metadata": {},
   "outputs": [],
   "source": [
    "import pickle\n",
    "filename='Avacado.pkl'\n",
    "pickle.dump(Model,open(filename,'wb'))"
   ]
  },
  {
   "cell_type": "code",
   "execution_count": 77,
   "id": "ed316164",
   "metadata": {},
   "outputs": [
    {
     "name": "stdout",
     "output_type": "stream",
     "text": [
      "78.32413453700403\n"
     ]
    }
   ],
   "source": [
    "Load_model=pickle.load(open('Avacado.pkl','rb'))\n",
    "result=Load_model.score(x_test,y_test)\n",
    "print(result*100)"
   ]
  },
  {
   "cell_type": "code",
   "execution_count": 78,
   "id": "89b7315c",
   "metadata": {},
   "outputs": [],
   "source": [
    "Conclusion=pd.DataFrame([Load_model.predict(x_test)[:],y_test[:]],index=[\"Predicted\",\"Original\"])"
   ]
  },
  {
   "cell_type": "code",
   "execution_count": 79,
   "id": "50ac3111",
   "metadata": {},
   "outputs": [
    {
     "data": {
      "text/html": [
       "<div>\n",
       "<style scoped>\n",
       "    .dataframe tbody tr th:only-of-type {\n",
       "        vertical-align: middle;\n",
       "    }\n",
       "\n",
       "    .dataframe tbody tr th {\n",
       "        vertical-align: top;\n",
       "    }\n",
       "\n",
       "    .dataframe thead th {\n",
       "        text-align: right;\n",
       "    }\n",
       "</style>\n",
       "<table border=\"1\" class=\"dataframe\">\n",
       "  <thead>\n",
       "    <tr style=\"text-align: right;\">\n",
       "      <th></th>\n",
       "      <th>0</th>\n",
       "      <th>1</th>\n",
       "      <th>2</th>\n",
       "      <th>3</th>\n",
       "      <th>4</th>\n",
       "      <th>5</th>\n",
       "      <th>6</th>\n",
       "      <th>7</th>\n",
       "      <th>8</th>\n",
       "      <th>9</th>\n",
       "      <th>...</th>\n",
       "      <th>438</th>\n",
       "      <th>439</th>\n",
       "      <th>440</th>\n",
       "      <th>441</th>\n",
       "      <th>442</th>\n",
       "      <th>443</th>\n",
       "      <th>444</th>\n",
       "      <th>445</th>\n",
       "      <th>446</th>\n",
       "      <th>447</th>\n",
       "    </tr>\n",
       "  </thead>\n",
       "  <tbody>\n",
       "    <tr>\n",
       "      <th>Predicted</th>\n",
       "      <td>1.027217</td>\n",
       "      <td>0.985567</td>\n",
       "      <td>1.0059</td>\n",
       "      <td>1.037642</td>\n",
       "      <td>0.946528</td>\n",
       "      <td>1.155092</td>\n",
       "      <td>1.036488</td>\n",
       "      <td>0.716656</td>\n",
       "      <td>1.011583</td>\n",
       "      <td>1.205108</td>\n",
       "      <td>...</td>\n",
       "      <td>1.082536</td>\n",
       "      <td>1.048475</td>\n",
       "      <td>1.116775</td>\n",
       "      <td>1.090442</td>\n",
       "      <td>0.957905</td>\n",
       "      <td>1.390467</td>\n",
       "      <td>1.323933</td>\n",
       "      <td>1.123</td>\n",
       "      <td>1.0622</td>\n",
       "      <td>1.031783</td>\n",
       "    </tr>\n",
       "    <tr>\n",
       "      <th>Original</th>\n",
       "      <td>1.030000</td>\n",
       "      <td>1.000000</td>\n",
       "      <td>0.7700</td>\n",
       "      <td>1.090000</td>\n",
       "      <td>0.890000</td>\n",
       "      <td>1.050000</td>\n",
       "      <td>1.110000</td>\n",
       "      <td>0.750000</td>\n",
       "      <td>1.030000</td>\n",
       "      <td>1.220000</td>\n",
       "      <td>...</td>\n",
       "      <td>1.180000</td>\n",
       "      <td>1.040000</td>\n",
       "      <td>1.030000</td>\n",
       "      <td>1.110000</td>\n",
       "      <td>0.860000</td>\n",
       "      <td>1.490000</td>\n",
       "      <td>1.430000</td>\n",
       "      <td>1.140</td>\n",
       "      <td>0.9800</td>\n",
       "      <td>1.100000</td>\n",
       "    </tr>\n",
       "  </tbody>\n",
       "</table>\n",
       "<p>2 rows × 448 columns</p>\n",
       "</div>"
      ],
      "text/plain": [
       "                0         1       2         3         4         5         6    \\\n",
       "Predicted  1.027217  0.985567  1.0059  1.037642  0.946528  1.155092  1.036488   \n",
       "Original   1.030000  1.000000  0.7700  1.090000  0.890000  1.050000  1.110000   \n",
       "\n",
       "                7         8         9    ...       438       439       440  \\\n",
       "Predicted  0.716656  1.011583  1.205108  ...  1.082536  1.048475  1.116775   \n",
       "Original   0.750000  1.030000  1.220000  ...  1.180000  1.040000  1.030000   \n",
       "\n",
       "                441       442       443       444    445     446       447  \n",
       "Predicted  1.090442  0.957905  1.390467  1.323933  1.123  1.0622  1.031783  \n",
       "Original   1.110000  0.860000  1.490000  1.430000  1.140  0.9800  1.100000  \n",
       "\n",
       "[2 rows x 448 columns]"
      ]
     },
     "execution_count": 79,
     "metadata": {},
     "output_type": "execute_result"
    }
   ],
   "source": [
    "Conclusion"
   ]
  },
  {
   "cell_type": "markdown",
   "id": "fe1cd04c",
   "metadata": {},
   "source": [
    "# Thank you."
   ]
  },
  {
   "cell_type": "code",
   "execution_count": null,
   "id": "5e4c0800",
   "metadata": {},
   "outputs": [],
   "source": []
  },
  {
   "cell_type": "code",
   "execution_count": null,
   "id": "543b185f",
   "metadata": {},
   "outputs": [],
   "source": []
  }
 ],
 "metadata": {
  "kernelspec": {
   "display_name": "Python 3 (ipykernel)",
   "language": "python",
   "name": "python3"
  },
  "language_info": {
   "codemirror_mode": {
    "name": "ipython",
    "version": 3
   },
   "file_extension": ".py",
   "mimetype": "text/x-python",
   "name": "python",
   "nbconvert_exporter": "python",
   "pygments_lexer": "ipython3",
   "version": "3.11.3"
  }
 },
 "nbformat": 4,
 "nbformat_minor": 5
}
