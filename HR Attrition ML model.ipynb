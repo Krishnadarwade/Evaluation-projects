{
 "cells": [
  {
   "cell_type": "code",
   "execution_count": 2,
   "id": "9ddfeb93",
   "metadata": {},
   "outputs": [],
   "source": [
    "import pandas as pd\n",
    "import seaborn as sns\n",
    "import warnings\n",
    "warnings.filterwarnings('ignore')\n",
    "import matplotlib.pyplot as plt\n",
    "import numpy as np\n",
    "from scipy.stats import zscore"
   ]
  },
  {
   "cell_type": "code",
   "execution_count": 5,
   "id": "87c4533f",
   "metadata": {},
   "outputs": [
    {
     "data": {
      "text/html": [
       "<div>\n",
       "<style scoped>\n",
       "    .dataframe tbody tr th:only-of-type {\n",
       "        vertical-align: middle;\n",
       "    }\n",
       "\n",
       "    .dataframe tbody tr th {\n",
       "        vertical-align: top;\n",
       "    }\n",
       "\n",
       "    .dataframe thead th {\n",
       "        text-align: right;\n",
       "    }\n",
       "</style>\n",
       "<table border=\"1\" class=\"dataframe\">\n",
       "  <thead>\n",
       "    <tr style=\"text-align: right;\">\n",
       "      <th></th>\n",
       "      <th>satisfaction_level</th>\n",
       "      <th>last_evaluation</th>\n",
       "      <th>number_project</th>\n",
       "      <th>average_montly_hours</th>\n",
       "      <th>time_spend_company</th>\n",
       "      <th>Work_accident</th>\n",
       "      <th>left</th>\n",
       "      <th>promotion_last_5years</th>\n",
       "      <th>Departments</th>\n",
       "      <th>salary</th>\n",
       "    </tr>\n",
       "  </thead>\n",
       "  <tbody>\n",
       "    <tr>\n",
       "      <th>0</th>\n",
       "      <td>0.38</td>\n",
       "      <td>0.53</td>\n",
       "      <td>2</td>\n",
       "      <td>157</td>\n",
       "      <td>3</td>\n",
       "      <td>0</td>\n",
       "      <td>1</td>\n",
       "      <td>0</td>\n",
       "      <td>sales</td>\n",
       "      <td>low</td>\n",
       "    </tr>\n",
       "    <tr>\n",
       "      <th>1</th>\n",
       "      <td>0.80</td>\n",
       "      <td>0.86</td>\n",
       "      <td>5</td>\n",
       "      <td>262</td>\n",
       "      <td>6</td>\n",
       "      <td>0</td>\n",
       "      <td>1</td>\n",
       "      <td>0</td>\n",
       "      <td>sales</td>\n",
       "      <td>medium</td>\n",
       "    </tr>\n",
       "    <tr>\n",
       "      <th>2</th>\n",
       "      <td>0.11</td>\n",
       "      <td>0.88</td>\n",
       "      <td>7</td>\n",
       "      <td>272</td>\n",
       "      <td>4</td>\n",
       "      <td>0</td>\n",
       "      <td>1</td>\n",
       "      <td>0</td>\n",
       "      <td>sales</td>\n",
       "      <td>medium</td>\n",
       "    </tr>\n",
       "    <tr>\n",
       "      <th>3</th>\n",
       "      <td>0.72</td>\n",
       "      <td>0.87</td>\n",
       "      <td>5</td>\n",
       "      <td>223</td>\n",
       "      <td>5</td>\n",
       "      <td>0</td>\n",
       "      <td>1</td>\n",
       "      <td>0</td>\n",
       "      <td>sales</td>\n",
       "      <td>low</td>\n",
       "    </tr>\n",
       "    <tr>\n",
       "      <th>4</th>\n",
       "      <td>0.37</td>\n",
       "      <td>0.52</td>\n",
       "      <td>2</td>\n",
       "      <td>159</td>\n",
       "      <td>3</td>\n",
       "      <td>0</td>\n",
       "      <td>1</td>\n",
       "      <td>0</td>\n",
       "      <td>sales</td>\n",
       "      <td>low</td>\n",
       "    </tr>\n",
       "    <tr>\n",
       "      <th>...</th>\n",
       "      <td>...</td>\n",
       "      <td>...</td>\n",
       "      <td>...</td>\n",
       "      <td>...</td>\n",
       "      <td>...</td>\n",
       "      <td>...</td>\n",
       "      <td>...</td>\n",
       "      <td>...</td>\n",
       "      <td>...</td>\n",
       "      <td>...</td>\n",
       "    </tr>\n",
       "    <tr>\n",
       "      <th>14994</th>\n",
       "      <td>0.40</td>\n",
       "      <td>0.57</td>\n",
       "      <td>2</td>\n",
       "      <td>151</td>\n",
       "      <td>3</td>\n",
       "      <td>0</td>\n",
       "      <td>1</td>\n",
       "      <td>0</td>\n",
       "      <td>support</td>\n",
       "      <td>low</td>\n",
       "    </tr>\n",
       "    <tr>\n",
       "      <th>14995</th>\n",
       "      <td>0.37</td>\n",
       "      <td>0.48</td>\n",
       "      <td>2</td>\n",
       "      <td>160</td>\n",
       "      <td>3</td>\n",
       "      <td>0</td>\n",
       "      <td>1</td>\n",
       "      <td>0</td>\n",
       "      <td>support</td>\n",
       "      <td>low</td>\n",
       "    </tr>\n",
       "    <tr>\n",
       "      <th>14996</th>\n",
       "      <td>0.37</td>\n",
       "      <td>0.53</td>\n",
       "      <td>2</td>\n",
       "      <td>143</td>\n",
       "      <td>3</td>\n",
       "      <td>0</td>\n",
       "      <td>1</td>\n",
       "      <td>0</td>\n",
       "      <td>support</td>\n",
       "      <td>low</td>\n",
       "    </tr>\n",
       "    <tr>\n",
       "      <th>14997</th>\n",
       "      <td>0.11</td>\n",
       "      <td>0.96</td>\n",
       "      <td>6</td>\n",
       "      <td>280</td>\n",
       "      <td>4</td>\n",
       "      <td>0</td>\n",
       "      <td>1</td>\n",
       "      <td>0</td>\n",
       "      <td>support</td>\n",
       "      <td>low</td>\n",
       "    </tr>\n",
       "    <tr>\n",
       "      <th>14998</th>\n",
       "      <td>0.37</td>\n",
       "      <td>0.52</td>\n",
       "      <td>2</td>\n",
       "      <td>158</td>\n",
       "      <td>3</td>\n",
       "      <td>0</td>\n",
       "      <td>1</td>\n",
       "      <td>0</td>\n",
       "      <td>support</td>\n",
       "      <td>low</td>\n",
       "    </tr>\n",
       "  </tbody>\n",
       "</table>\n",
       "<p>14999 rows × 10 columns</p>\n",
       "</div>"
      ],
      "text/plain": [
       "       satisfaction_level  last_evaluation  number_project  \\\n",
       "0                    0.38             0.53               2   \n",
       "1                    0.80             0.86               5   \n",
       "2                    0.11             0.88               7   \n",
       "3                    0.72             0.87               5   \n",
       "4                    0.37             0.52               2   \n",
       "...                   ...              ...             ...   \n",
       "14994                0.40             0.57               2   \n",
       "14995                0.37             0.48               2   \n",
       "14996                0.37             0.53               2   \n",
       "14997                0.11             0.96               6   \n",
       "14998                0.37             0.52               2   \n",
       "\n",
       "       average_montly_hours  time_spend_company  Work_accident  left  \\\n",
       "0                       157                   3              0     1   \n",
       "1                       262                   6              0     1   \n",
       "2                       272                   4              0     1   \n",
       "3                       223                   5              0     1   \n",
       "4                       159                   3              0     1   \n",
       "...                     ...                 ...            ...   ...   \n",
       "14994                   151                   3              0     1   \n",
       "14995                   160                   3              0     1   \n",
       "14996                   143                   3              0     1   \n",
       "14997                   280                   4              0     1   \n",
       "14998                   158                   3              0     1   \n",
       "\n",
       "       promotion_last_5years Departments   salary  \n",
       "0                          0        sales     low  \n",
       "1                          0        sales  medium  \n",
       "2                          0        sales  medium  \n",
       "3                          0        sales     low  \n",
       "4                          0        sales     low  \n",
       "...                      ...          ...     ...  \n",
       "14994                      0      support     low  \n",
       "14995                      0      support     low  \n",
       "14996                      0      support     low  \n",
       "14997                      0      support     low  \n",
       "14998                      0      support     low  \n",
       "\n",
       "[14999 rows x 10 columns]"
      ]
     },
     "execution_count": 5,
     "metadata": {},
     "output_type": "execute_result"
    }
   ],
   "source": [
    "df=pd.read_csv('https://raw.githubusercontent.com/dsrscientist/DSData/master/HR_attrition_rate.csv')\n",
    "df"
   ]
  },
  {
   "cell_type": "code",
   "execution_count": null,
   "id": "575ad594",
   "metadata": {},
   "outputs": [],
   "source": []
  },
  {
   "cell_type": "code",
   "execution_count": 6,
   "id": "8e45dd8d",
   "metadata": {},
   "outputs": [
    {
     "data": {
      "text/html": [
       "<div>\n",
       "<style scoped>\n",
       "    .dataframe tbody tr th:only-of-type {\n",
       "        vertical-align: middle;\n",
       "    }\n",
       "\n",
       "    .dataframe tbody tr th {\n",
       "        vertical-align: top;\n",
       "    }\n",
       "\n",
       "    .dataframe thead th {\n",
       "        text-align: right;\n",
       "    }\n",
       "</style>\n",
       "<table border=\"1\" class=\"dataframe\">\n",
       "  <thead>\n",
       "    <tr style=\"text-align: right;\">\n",
       "      <th></th>\n",
       "      <th>satisfaction_level</th>\n",
       "      <th>last_evaluation</th>\n",
       "      <th>number_project</th>\n",
       "      <th>average_montly_hours</th>\n",
       "      <th>time_spend_company</th>\n",
       "      <th>Work_accident</th>\n",
       "      <th>left</th>\n",
       "      <th>promotion_last_5years</th>\n",
       "      <th>Departments</th>\n",
       "      <th>salary</th>\n",
       "    </tr>\n",
       "  </thead>\n",
       "  <tbody>\n",
       "    <tr>\n",
       "      <th>0</th>\n",
       "      <td>0.38</td>\n",
       "      <td>0.53</td>\n",
       "      <td>2</td>\n",
       "      <td>157</td>\n",
       "      <td>3</td>\n",
       "      <td>0</td>\n",
       "      <td>1</td>\n",
       "      <td>0</td>\n",
       "      <td>sales</td>\n",
       "      <td>low</td>\n",
       "    </tr>\n",
       "    <tr>\n",
       "      <th>1</th>\n",
       "      <td>0.80</td>\n",
       "      <td>0.86</td>\n",
       "      <td>5</td>\n",
       "      <td>262</td>\n",
       "      <td>6</td>\n",
       "      <td>0</td>\n",
       "      <td>1</td>\n",
       "      <td>0</td>\n",
       "      <td>sales</td>\n",
       "      <td>medium</td>\n",
       "    </tr>\n",
       "    <tr>\n",
       "      <th>2</th>\n",
       "      <td>0.11</td>\n",
       "      <td>0.88</td>\n",
       "      <td>7</td>\n",
       "      <td>272</td>\n",
       "      <td>4</td>\n",
       "      <td>0</td>\n",
       "      <td>1</td>\n",
       "      <td>0</td>\n",
       "      <td>sales</td>\n",
       "      <td>medium</td>\n",
       "    </tr>\n",
       "    <tr>\n",
       "      <th>3</th>\n",
       "      <td>0.72</td>\n",
       "      <td>0.87</td>\n",
       "      <td>5</td>\n",
       "      <td>223</td>\n",
       "      <td>5</td>\n",
       "      <td>0</td>\n",
       "      <td>1</td>\n",
       "      <td>0</td>\n",
       "      <td>sales</td>\n",
       "      <td>low</td>\n",
       "    </tr>\n",
       "    <tr>\n",
       "      <th>4</th>\n",
       "      <td>0.37</td>\n",
       "      <td>0.52</td>\n",
       "      <td>2</td>\n",
       "      <td>159</td>\n",
       "      <td>3</td>\n",
       "      <td>0</td>\n",
       "      <td>1</td>\n",
       "      <td>0</td>\n",
       "      <td>sales</td>\n",
       "      <td>low</td>\n",
       "    </tr>\n",
       "  </tbody>\n",
       "</table>\n",
       "</div>"
      ],
      "text/plain": [
       "   satisfaction_level  last_evaluation  number_project  average_montly_hours  \\\n",
       "0                0.38             0.53               2                   157   \n",
       "1                0.80             0.86               5                   262   \n",
       "2                0.11             0.88               7                   272   \n",
       "3                0.72             0.87               5                   223   \n",
       "4                0.37             0.52               2                   159   \n",
       "\n",
       "   time_spend_company  Work_accident  left  promotion_last_5years  \\\n",
       "0                   3              0     1                      0   \n",
       "1                   6              0     1                      0   \n",
       "2                   4              0     1                      0   \n",
       "3                   5              0     1                      0   \n",
       "4                   3              0     1                      0   \n",
       "\n",
       "  Departments   salary  \n",
       "0        sales     low  \n",
       "1        sales  medium  \n",
       "2        sales  medium  \n",
       "3        sales     low  \n",
       "4        sales     low  "
      ]
     },
     "execution_count": 6,
     "metadata": {},
     "output_type": "execute_result"
    }
   ],
   "source": [
    "df.head()"
   ]
  },
  {
   "cell_type": "markdown",
   "id": "e5fac8c6",
   "metadata": {},
   "source": [
    "With the above we can see first 5 rows of our dataset, by which we can see that which factor is affecting Attrition"
   ]
  },
  {
   "cell_type": "code",
   "execution_count": 7,
   "id": "76a989c4",
   "metadata": {},
   "outputs": [
    {
     "data": {
      "text/html": [
       "<div>\n",
       "<style scoped>\n",
       "    .dataframe tbody tr th:only-of-type {\n",
       "        vertical-align: middle;\n",
       "    }\n",
       "\n",
       "    .dataframe tbody tr th {\n",
       "        vertical-align: top;\n",
       "    }\n",
       "\n",
       "    .dataframe thead th {\n",
       "        text-align: right;\n",
       "    }\n",
       "</style>\n",
       "<table border=\"1\" class=\"dataframe\">\n",
       "  <thead>\n",
       "    <tr style=\"text-align: right;\">\n",
       "      <th></th>\n",
       "      <th>satisfaction_level</th>\n",
       "      <th>last_evaluation</th>\n",
       "      <th>number_project</th>\n",
       "      <th>average_montly_hours</th>\n",
       "      <th>time_spend_company</th>\n",
       "      <th>Work_accident</th>\n",
       "      <th>left</th>\n",
       "      <th>promotion_last_5years</th>\n",
       "      <th>Departments</th>\n",
       "      <th>salary</th>\n",
       "    </tr>\n",
       "  </thead>\n",
       "  <tbody>\n",
       "    <tr>\n",
       "      <th>14994</th>\n",
       "      <td>0.40</td>\n",
       "      <td>0.57</td>\n",
       "      <td>2</td>\n",
       "      <td>151</td>\n",
       "      <td>3</td>\n",
       "      <td>0</td>\n",
       "      <td>1</td>\n",
       "      <td>0</td>\n",
       "      <td>support</td>\n",
       "      <td>low</td>\n",
       "    </tr>\n",
       "    <tr>\n",
       "      <th>14995</th>\n",
       "      <td>0.37</td>\n",
       "      <td>0.48</td>\n",
       "      <td>2</td>\n",
       "      <td>160</td>\n",
       "      <td>3</td>\n",
       "      <td>0</td>\n",
       "      <td>1</td>\n",
       "      <td>0</td>\n",
       "      <td>support</td>\n",
       "      <td>low</td>\n",
       "    </tr>\n",
       "    <tr>\n",
       "      <th>14996</th>\n",
       "      <td>0.37</td>\n",
       "      <td>0.53</td>\n",
       "      <td>2</td>\n",
       "      <td>143</td>\n",
       "      <td>3</td>\n",
       "      <td>0</td>\n",
       "      <td>1</td>\n",
       "      <td>0</td>\n",
       "      <td>support</td>\n",
       "      <td>low</td>\n",
       "    </tr>\n",
       "    <tr>\n",
       "      <th>14997</th>\n",
       "      <td>0.11</td>\n",
       "      <td>0.96</td>\n",
       "      <td>6</td>\n",
       "      <td>280</td>\n",
       "      <td>4</td>\n",
       "      <td>0</td>\n",
       "      <td>1</td>\n",
       "      <td>0</td>\n",
       "      <td>support</td>\n",
       "      <td>low</td>\n",
       "    </tr>\n",
       "    <tr>\n",
       "      <th>14998</th>\n",
       "      <td>0.37</td>\n",
       "      <td>0.52</td>\n",
       "      <td>2</td>\n",
       "      <td>158</td>\n",
       "      <td>3</td>\n",
       "      <td>0</td>\n",
       "      <td>1</td>\n",
       "      <td>0</td>\n",
       "      <td>support</td>\n",
       "      <td>low</td>\n",
       "    </tr>\n",
       "  </tbody>\n",
       "</table>\n",
       "</div>"
      ],
      "text/plain": [
       "       satisfaction_level  last_evaluation  number_project  \\\n",
       "14994                0.40             0.57               2   \n",
       "14995                0.37             0.48               2   \n",
       "14996                0.37             0.53               2   \n",
       "14997                0.11             0.96               6   \n",
       "14998                0.37             0.52               2   \n",
       "\n",
       "       average_montly_hours  time_spend_company  Work_accident  left  \\\n",
       "14994                   151                   3              0     1   \n",
       "14995                   160                   3              0     1   \n",
       "14996                   143                   3              0     1   \n",
       "14997                   280                   4              0     1   \n",
       "14998                   158                   3              0     1   \n",
       "\n",
       "       promotion_last_5years Departments  salary  \n",
       "14994                      0      support    low  \n",
       "14995                      0      support    low  \n",
       "14996                      0      support    low  \n",
       "14997                      0      support    low  \n",
       "14998                      0      support    low  "
      ]
     },
     "execution_count": 7,
     "metadata": {},
     "output_type": "execute_result"
    }
   ],
   "source": [
    "df.tail()"
   ]
  },
  {
   "cell_type": "markdown",
   "id": "43837d34",
   "metadata": {},
   "source": [
    "With the above we can see last 5 rows of our dataset, by which we can see that which factor is affecting Attrition."
   ]
  },
  {
   "cell_type": "code",
   "execution_count": 8,
   "id": "5134284a",
   "metadata": {},
   "outputs": [
    {
     "data": {
      "text/plain": [
       "(14999, 10)"
      ]
     },
     "execution_count": 8,
     "metadata": {},
     "output_type": "execute_result"
    }
   ],
   "source": [
    "df.shape"
   ]
  },
  {
   "cell_type": "markdown",
   "id": "2841f38c",
   "metadata": {},
   "source": [
    "By the above function we can see that we are having 14999 rows and 10 columns in our dataset."
   ]
  },
  {
   "cell_type": "code",
   "execution_count": 9,
   "id": "a849b922",
   "metadata": {},
   "outputs": [
    {
     "data": {
      "text/plain": [
       "Index(['satisfaction_level', 'last_evaluation', 'number_project',\n",
       "       'average_montly_hours', 'time_spend_company', 'Work_accident', 'left',\n",
       "       'promotion_last_5years', 'Departments ', 'salary'],\n",
       "      dtype='object')"
      ]
     },
     "execution_count": 9,
     "metadata": {},
     "output_type": "execute_result"
    }
   ],
   "source": [
    "df.columns"
   ]
  },
  {
   "cell_type": "markdown",
   "id": "f7f6a0a6",
   "metadata": {},
   "source": [
    "Here are the column name of our dataset in which all the columns may not be helpful for us, we'll see further by our analys."
   ]
  },
  {
   "cell_type": "code",
   "execution_count": 10,
   "id": "074340f9",
   "metadata": {},
   "outputs": [
    {
     "data": {
      "text/plain": [
       "satisfaction_level       float64\n",
       "last_evaluation          float64\n",
       "number_project             int64\n",
       "average_montly_hours       int64\n",
       "time_spend_company         int64\n",
       "Work_accident              int64\n",
       "left                       int64\n",
       "promotion_last_5years      int64\n",
       "Departments               object\n",
       "salary                    object\n",
       "dtype: object"
      ]
     },
     "execution_count": 10,
     "metadata": {},
     "output_type": "execute_result"
    }
   ],
   "source": [
    "df.dtypes"
   ]
  },
  {
   "cell_type": "markdown",
   "id": "9bef07d4",
   "metadata": {},
   "source": [
    "Here we can see that we have 3 types of data that is interger and float and object let's see if we need to change object type to integer."
   ]
  },
  {
   "cell_type": "code",
   "execution_count": 11,
   "id": "6272cc37",
   "metadata": {},
   "outputs": [
    {
     "data": {
      "text/plain": [
       "satisfaction_level       0\n",
       "last_evaluation          0\n",
       "number_project           0\n",
       "average_montly_hours     0\n",
       "time_spend_company       0\n",
       "Work_accident            0\n",
       "left                     0\n",
       "promotion_last_5years    0\n",
       "Departments              0\n",
       "salary                   0\n",
       "dtype: int64"
      ]
     },
     "execution_count": 11,
     "metadata": {},
     "output_type": "execute_result"
    }
   ],
   "source": [
    "df.isnull().sum()"
   ]
  },
  {
   "cell_type": "markdown",
   "id": "7d51b801",
   "metadata": {},
   "source": [
    "We can see that we are not having any null values in our dataset which is beneficial for us and we do not have to treat null values."
   ]
  },
  {
   "cell_type": "code",
   "execution_count": 13,
   "id": "d297b462",
   "metadata": {},
   "outputs": [
    {
     "name": "stdout",
     "output_type": "stream",
     "text": [
      "<class 'pandas.core.frame.DataFrame'>\n",
      "RangeIndex: 14999 entries, 0 to 14998\n",
      "Data columns (total 10 columns):\n",
      " #   Column                 Non-Null Count  Dtype  \n",
      "---  ------                 --------------  -----  \n",
      " 0   satisfaction_level     14999 non-null  float64\n",
      " 1   last_evaluation        14999 non-null  float64\n",
      " 2   number_project         14999 non-null  int64  \n",
      " 3   average_montly_hours   14999 non-null  int64  \n",
      " 4   time_spend_company     14999 non-null  int64  \n",
      " 5   Work_accident          14999 non-null  int64  \n",
      " 6   left                   14999 non-null  int64  \n",
      " 7   promotion_last_5years  14999 non-null  int64  \n",
      " 8   Departments            14999 non-null  object \n",
      " 9   salary                 14999 non-null  object \n",
      "dtypes: float64(2), int64(6), object(2)\n",
      "memory usage: 1.1+ MB\n"
     ]
    }
   ],
   "source": [
    "df.info()"
   ]
  },
  {
   "cell_type": "code",
   "execution_count": 14,
   "id": "cca7bc61",
   "metadata": {},
   "outputs": [
    {
     "data": {
      "text/plain": [
       "<Axes: >"
      ]
     },
     "execution_count": 14,
     "metadata": {},
     "output_type": "execute_result"
    },
    {
     "data": {
      "image/png": "[encoded data removed]",
      "text/plain": [
       "<Figure size 640x480 with 2 Axes>"
      ]
     },
     "metadata": {},
     "output_type": "display_data"
    }
   ],
   "source": [
    "#Let's make a heatmap to analys null values of dataset after treting them.\n",
    "sns.heatmap(df.isnull())"
   ]
  },
  {
   "cell_type": "markdown",
   "id": "346a2fa2",
   "metadata": {},
   "source": [
    "We can see that our graph is having maximum colour near to 0 this means we do not have any null value in our dataset, and it's ready to work with after checking outliers and skweness."
   ]
  },
  {
   "cell_type": "code",
   "execution_count": 15,
   "id": "092bed56",
   "metadata": {},
   "outputs": [
    {
     "data": {
      "text/html": [
       "<div>\n",
       "<style scoped>\n",
       "    .dataframe tbody tr th:only-of-type {\n",
       "        vertical-align: middle;\n",
       "    }\n",
       "\n",
       "    .dataframe tbody tr th {\n",
       "        vertical-align: top;\n",
       "    }\n",
       "\n",
       "    .dataframe thead th {\n",
       "        text-align: right;\n",
       "    }\n",
       "</style>\n",
       "<table border=\"1\" class=\"dataframe\">\n",
       "  <thead>\n",
       "    <tr style=\"text-align: right;\">\n",
       "      <th></th>\n",
       "      <th>Unique values</th>\n",
       "    </tr>\n",
       "  </thead>\n",
       "  <tbody>\n",
       "    <tr>\n",
       "      <th>satisfaction_level</th>\n",
       "      <td>92</td>\n",
       "    </tr>\n",
       "    <tr>\n",
       "      <th>last_evaluation</th>\n",
       "      <td>65</td>\n",
       "    </tr>\n",
       "    <tr>\n",
       "      <th>number_project</th>\n",
       "      <td>6</td>\n",
       "    </tr>\n",
       "    <tr>\n",
       "      <th>average_montly_hours</th>\n",
       "      <td>215</td>\n",
       "    </tr>\n",
       "    <tr>\n",
       "      <th>time_spend_company</th>\n",
       "      <td>8</td>\n",
       "    </tr>\n",
       "    <tr>\n",
       "      <th>Work_accident</th>\n",
       "      <td>2</td>\n",
       "    </tr>\n",
       "    <tr>\n",
       "      <th>left</th>\n",
       "      <td>2</td>\n",
       "    </tr>\n",
       "    <tr>\n",
       "      <th>promotion_last_5years</th>\n",
       "      <td>2</td>\n",
       "    </tr>\n",
       "    <tr>\n",
       "      <th>Departments</th>\n",
       "      <td>10</td>\n",
       "    </tr>\n",
       "    <tr>\n",
       "      <th>salary</th>\n",
       "      <td>3</td>\n",
       "    </tr>\n",
       "  </tbody>\n",
       "</table>\n",
       "</div>"
      ],
      "text/plain": [
       "                       Unique values\n",
       "satisfaction_level                92\n",
       "last_evaluation                   65\n",
       "number_project                     6\n",
       "average_montly_hours             215\n",
       "time_spend_company                 8\n",
       "Work_accident                      2\n",
       "left                               2\n",
       "promotion_last_5years              2\n",
       "Departments                       10\n",
       "salary                             3"
      ]
     },
     "execution_count": 15,
     "metadata": {},
     "output_type": "execute_result"
    }
   ],
   "source": [
    "df.nunique().to_frame(\"Unique values\")"
   ]
  },
  {
   "cell_type": "markdown",
   "id": "d2ed3828",
   "metadata": {},
   "source": [
    "We can see we are having maximum unique values, which will be helpful in analysing data."
   ]
  },
  {
   "cell_type": "code",
   "execution_count": 16,
   "id": "187ba650",
   "metadata": {},
   "outputs": [
    {
     "data": {
      "text/plain": [
       "3008"
      ]
     },
     "execution_count": 16,
     "metadata": {},
     "output_type": "execute_result"
    }
   ],
   "source": [
    "df.duplicated().sum()"
   ]
  },
  {
   "cell_type": "markdown",
   "id": "5d583ce7",
   "metadata": {},
   "source": [
    "We can see we are having 3008 duplicated in our data, let's drop them for better implementation."
   ]
  },
  {
   "cell_type": "code",
   "execution_count": 18,
   "id": "8bf0bed6",
   "metadata": {},
   "outputs": [],
   "source": [
    "df = df.drop_duplicates()"
   ]
  },
  {
   "cell_type": "code",
   "execution_count": 17,
   "id": "f3affb1a",
   "metadata": {},
   "outputs": [
    {
     "data": {
      "text/html": [
       "<div>\n",
       "<style scoped>\n",
       "    .dataframe tbody tr th:only-of-type {\n",
       "        vertical-align: middle;\n",
       "    }\n",
       "\n",
       "    .dataframe tbody tr th {\n",
       "        vertical-align: top;\n",
       "    }\n",
       "\n",
       "    .dataframe thead th {\n",
       "        text-align: right;\n",
       "    }\n",
       "</style>\n",
       "<table border=\"1\" class=\"dataframe\">\n",
       "  <thead>\n",
       "    <tr style=\"text-align: right;\">\n",
       "      <th></th>\n",
       "      <th>satisfaction_level</th>\n",
       "      <th>last_evaluation</th>\n",
       "      <th>number_project</th>\n",
       "      <th>average_montly_hours</th>\n",
       "      <th>time_spend_company</th>\n",
       "      <th>Work_accident</th>\n",
       "      <th>left</th>\n",
       "      <th>promotion_last_5years</th>\n",
       "    </tr>\n",
       "  </thead>\n",
       "  <tbody>\n",
       "    <tr>\n",
       "      <th>count</th>\n",
       "      <td>14999.000000</td>\n",
       "      <td>14999.000000</td>\n",
       "      <td>14999.000000</td>\n",
       "      <td>14999.000000</td>\n",
       "      <td>14999.000000</td>\n",
       "      <td>14999.000000</td>\n",
       "      <td>14999.000000</td>\n",
       "      <td>14999.000000</td>\n",
       "    </tr>\n",
       "    <tr>\n",
       "      <th>mean</th>\n",
       "      <td>0.612834</td>\n",
       "      <td>0.716102</td>\n",
       "      <td>3.803054</td>\n",
       "      <td>201.050337</td>\n",
       "      <td>3.498233</td>\n",
       "      <td>0.144610</td>\n",
       "      <td>0.238083</td>\n",
       "      <td>0.021268</td>\n",
       "    </tr>\n",
       "    <tr>\n",
       "      <th>std</th>\n",
       "      <td>0.248631</td>\n",
       "      <td>0.171169</td>\n",
       "      <td>1.232592</td>\n",
       "      <td>49.943099</td>\n",
       "      <td>1.460136</td>\n",
       "      <td>0.351719</td>\n",
       "      <td>0.425924</td>\n",
       "      <td>0.144281</td>\n",
       "    </tr>\n",
       "    <tr>\n",
       "      <th>min</th>\n",
       "      <td>0.090000</td>\n",
       "      <td>0.360000</td>\n",
       "      <td>2.000000</td>\n",
       "      <td>96.000000</td>\n",
       "      <td>2.000000</td>\n",
       "      <td>0.000000</td>\n",
       "      <td>0.000000</td>\n",
       "      <td>0.000000</td>\n",
       "    </tr>\n",
       "    <tr>\n",
       "      <th>25%</th>\n",
       "      <td>0.440000</td>\n",
       "      <td>0.560000</td>\n",
       "      <td>3.000000</td>\n",
       "      <td>156.000000</td>\n",
       "      <td>3.000000</td>\n",
       "      <td>0.000000</td>\n",
       "      <td>0.000000</td>\n",
       "      <td>0.000000</td>\n",
       "    </tr>\n",
       "    <tr>\n",
       "      <th>50%</th>\n",
       "      <td>0.640000</td>\n",
       "      <td>0.720000</td>\n",
       "      <td>4.000000</td>\n",
       "      <td>200.000000</td>\n",
       "      <td>3.000000</td>\n",
       "      <td>0.000000</td>\n",
       "      <td>0.000000</td>\n",
       "      <td>0.000000</td>\n",
       "    </tr>\n",
       "    <tr>\n",
       "      <th>75%</th>\n",
       "      <td>0.820000</td>\n",
       "      <td>0.870000</td>\n",
       "      <td>5.000000</td>\n",
       "      <td>245.000000</td>\n",
       "      <td>4.000000</td>\n",
       "      <td>0.000000</td>\n",
       "      <td>0.000000</td>\n",
       "      <td>0.000000</td>\n",
       "    </tr>\n",
       "    <tr>\n",
       "      <th>max</th>\n",
       "      <td>1.000000</td>\n",
       "      <td>1.000000</td>\n",
       "      <td>7.000000</td>\n",
       "      <td>310.000000</td>\n",
       "      <td>10.000000</td>\n",
       "      <td>1.000000</td>\n",
       "      <td>1.000000</td>\n",
       "      <td>1.000000</td>\n",
       "    </tr>\n",
       "  </tbody>\n",
       "</table>\n",
       "</div>"
      ],
      "text/plain": [
       "       satisfaction_level  last_evaluation  number_project  \\\n",
       "count        14999.000000     14999.000000    14999.000000   \n",
       "mean             0.612834         0.716102        3.803054   \n",
       "std              0.248631         0.171169        1.232592   \n",
       "min              0.090000         0.360000        2.000000   \n",
       "25%              0.440000         0.560000        3.000000   \n",
       "50%              0.640000         0.720000        4.000000   \n",
       "75%              0.820000         0.870000        5.000000   \n",
       "max              1.000000         1.000000        7.000000   \n",
       "\n",
       "       average_montly_hours  time_spend_company  Work_accident          left  \\\n",
       "count          14999.000000        14999.000000   14999.000000  14999.000000   \n",
       "mean             201.050337            3.498233       0.144610      0.238083   \n",
       "std               49.943099            1.460136       0.351719      0.425924   \n",
       "min               96.000000            2.000000       0.000000      0.000000   \n",
       "25%              156.000000            3.000000       0.000000      0.000000   \n",
       "50%              200.000000            3.000000       0.000000      0.000000   \n",
       "75%              245.000000            4.000000       0.000000      0.000000   \n",
       "max              310.000000           10.000000       1.000000      1.000000   \n",
       "\n",
       "       promotion_last_5years  \n",
       "count           14999.000000  \n",
       "mean                0.021268  \n",
       "std                 0.144281  \n",
       "min                 0.000000  \n",
       "25%                 0.000000  \n",
       "50%                 0.000000  \n",
       "75%                 0.000000  \n",
       "max                 1.000000  "
      ]
     },
     "execution_count": 17,
     "metadata": {},
     "output_type": "execute_result"
    }
   ],
   "source": [
    "df.describe()  "
   ]
  },
  {
   "cell_type": "markdown",
   "id": "701fe591",
   "metadata": {},
   "source": [
    "Following is the complete numeric analysis of data in which we can see that our data is absolutely perfect as we are not getting any negative value.\n",
    "\n",
    "Here are some observation as per above data.\n",
    "\n",
    "We can see that the count of all columns are same it means our data is perfect and ready to work with.\n",
    "\n",
    "By analysing the data we can see that there is difference between 75th percentile and maximum value of average_montly_hours\ttime_spend_company this means we are having outliers in our dataset, ans will treat it further."
   ]
  },
  {
   "cell_type": "code",
   "execution_count": 19,
   "id": "75c32607",
   "metadata": {},
   "outputs": [
    {
     "data": {
      "text/html": [
       "<div>\n",
       "<style scoped>\n",
       "    .dataframe tbody tr th:only-of-type {\n",
       "        vertical-align: middle;\n",
       "    }\n",
       "\n",
       "    .dataframe tbody tr th {\n",
       "        vertical-align: top;\n",
       "    }\n",
       "\n",
       "    .dataframe thead th {\n",
       "        text-align: right;\n",
       "    }\n",
       "</style>\n",
       "<table border=\"1\" class=\"dataframe\">\n",
       "  <thead>\n",
       "    <tr style=\"text-align: right;\">\n",
       "      <th></th>\n",
       "      <th>satisfaction_level</th>\n",
       "      <th>last_evaluation</th>\n",
       "      <th>number_project</th>\n",
       "      <th>average_montly_hours</th>\n",
       "      <th>time_spend_company</th>\n",
       "      <th>Work_accident</th>\n",
       "      <th>left</th>\n",
       "      <th>promotion_last_5years</th>\n",
       "    </tr>\n",
       "  </thead>\n",
       "  <tbody>\n",
       "    <tr>\n",
       "      <th>satisfaction_level</th>\n",
       "      <td>1.000000</td>\n",
       "      <td>0.095186</td>\n",
       "      <td>-0.133246</td>\n",
       "      <td>-0.006252</td>\n",
       "      <td>-0.152915</td>\n",
       "      <td>0.039940</td>\n",
       "      <td>-0.350558</td>\n",
       "      <td>0.019789</td>\n",
       "    </tr>\n",
       "    <tr>\n",
       "      <th>last_evaluation</th>\n",
       "      <td>0.095186</td>\n",
       "      <td>1.000000</td>\n",
       "      <td>0.270256</td>\n",
       "      <td>0.264678</td>\n",
       "      <td>0.096829</td>\n",
       "      <td>-0.005695</td>\n",
       "      <td>0.013520</td>\n",
       "      <td>-0.007206</td>\n",
       "    </tr>\n",
       "    <tr>\n",
       "      <th>number_project</th>\n",
       "      <td>-0.133246</td>\n",
       "      <td>0.270256</td>\n",
       "      <td>1.000000</td>\n",
       "      <td>0.331516</td>\n",
       "      <td>0.188837</td>\n",
       "      <td>-0.005612</td>\n",
       "      <td>0.030928</td>\n",
       "      <td>-0.000544</td>\n",
       "    </tr>\n",
       "    <tr>\n",
       "      <th>average_montly_hours</th>\n",
       "      <td>-0.006252</td>\n",
       "      <td>0.264678</td>\n",
       "      <td>0.331516</td>\n",
       "      <td>1.000000</td>\n",
       "      <td>0.102875</td>\n",
       "      <td>-0.012860</td>\n",
       "      <td>0.070409</td>\n",
       "      <td>-0.004964</td>\n",
       "    </tr>\n",
       "    <tr>\n",
       "      <th>time_spend_company</th>\n",
       "      <td>-0.152915</td>\n",
       "      <td>0.096829</td>\n",
       "      <td>0.188837</td>\n",
       "      <td>0.102875</td>\n",
       "      <td>1.000000</td>\n",
       "      <td>0.000003</td>\n",
       "      <td>0.173295</td>\n",
       "      <td>0.056828</td>\n",
       "    </tr>\n",
       "    <tr>\n",
       "      <th>Work_accident</th>\n",
       "      <td>0.039940</td>\n",
       "      <td>-0.005695</td>\n",
       "      <td>-0.005612</td>\n",
       "      <td>-0.012860</td>\n",
       "      <td>0.000003</td>\n",
       "      <td>1.000000</td>\n",
       "      <td>-0.125436</td>\n",
       "      <td>0.029852</td>\n",
       "    </tr>\n",
       "    <tr>\n",
       "      <th>left</th>\n",
       "      <td>-0.350558</td>\n",
       "      <td>0.013520</td>\n",
       "      <td>0.030928</td>\n",
       "      <td>0.070409</td>\n",
       "      <td>0.173295</td>\n",
       "      <td>-0.125436</td>\n",
       "      <td>1.000000</td>\n",
       "      <td>-0.044657</td>\n",
       "    </tr>\n",
       "    <tr>\n",
       "      <th>promotion_last_5years</th>\n",
       "      <td>0.019789</td>\n",
       "      <td>-0.007206</td>\n",
       "      <td>-0.000544</td>\n",
       "      <td>-0.004964</td>\n",
       "      <td>0.056828</td>\n",
       "      <td>0.029852</td>\n",
       "      <td>-0.044657</td>\n",
       "      <td>1.000000</td>\n",
       "    </tr>\n",
       "  </tbody>\n",
       "</table>\n",
       "</div>"
      ],
      "text/plain": [
       "                       satisfaction_level  last_evaluation  number_project  \\\n",
       "satisfaction_level               1.000000         0.095186       -0.133246   \n",
       "last_evaluation                  0.095186         1.000000        0.270256   \n",
       "number_project                  -0.133246         0.270256        1.000000   \n",
       "average_montly_hours            -0.006252         0.264678        0.331516   \n",
       "time_spend_company              -0.152915         0.096829        0.188837   \n",
       "Work_accident                    0.039940        -0.005695       -0.005612   \n",
       "left                            -0.350558         0.013520        0.030928   \n",
       "promotion_last_5years            0.019789        -0.007206       -0.000544   \n",
       "\n",
       "                       average_montly_hours  time_spend_company  \\\n",
       "satisfaction_level                -0.006252           -0.152915   \n",
       "last_evaluation                    0.264678            0.096829   \n",
       "number_project                     0.331516            0.188837   \n",
       "average_montly_hours               1.000000            0.102875   \n",
       "time_spend_company                 0.102875            1.000000   \n",
       "Work_accident                     -0.012860            0.000003   \n",
       "left                               0.070409            0.173295   \n",
       "promotion_last_5years             -0.004964            0.056828   \n",
       "\n",
       "                       Work_accident      left  promotion_last_5years  \n",
       "satisfaction_level          0.039940 -0.350558               0.019789  \n",
       "last_evaluation            -0.005695  0.013520              -0.007206  \n",
       "number_project             -0.005612  0.030928              -0.000544  \n",
       "average_montly_hours       -0.012860  0.070409              -0.004964  \n",
       "time_spend_company          0.000003  0.173295               0.056828  \n",
       "Work_accident               1.000000 -0.125436               0.029852  \n",
       "left                       -0.125436  1.000000              -0.044657  \n",
       "promotion_last_5years       0.029852 -0.044657               1.000000  "
      ]
     },
     "execution_count": 19,
     "metadata": {},
     "output_type": "execute_result"
    }
   ],
   "source": [
    "df.corr()"
   ]
  },
  {
   "cell_type": "code",
   "execution_count": 20,
   "id": "091e64aa",
   "metadata": {},
   "outputs": [
    {
     "data": {
      "image/png": "[encoded data removed]",
      "text/plain": [
       "<Figure size 2000x1600 with 2 Axes>"
      ]
     },
     "metadata": {},
     "output_type": "display_data"
    }
   ],
   "source": [
    "# As it is difficult to identify correlation with the help of above code let's check corrrelation with the help of heatmap\n",
    "correlation = df.corr()\n",
    "plt.figure(figsize=(20, 16))\n",
    "sns.heatmap(correlation, annot=True, cmap='coolwarm')\n",
    "plt.title('Correlation by heatmap')\n",
    "plt.show()"
   ]
  },
  {
   "cell_type": "markdown",
   "id": "b4fdc980",
   "metadata": {},
   "source": [
    "We can see that we are not having high correlation bvetween two columns this menas means we'll not face multicollinearity issue and there is no need to treat them."
   ]
  },
  {
   "cell_type": "code",
   "execution_count": 23,
   "id": "73b1c66c",
   "metadata": {},
   "outputs": [
    {
     "data": {
      "text/plain": [
       "(array([1, 2, 3, 4, 5, 6, 7, 8]),\n",
       " [Text(1, 0, 'satisfaction_level'),\n",
       "  Text(2, 0, 'last_evaluation'),\n",
       "  Text(3, 0, 'number_project'),\n",
       "  Text(4, 0, 'average_montly_hours'),\n",
       "  Text(5, 0, 'time_spend_company'),\n",
       "  Text(6, 0, 'Work_accident'),\n",
       "  Text(7, 0, 'left'),\n",
       "  Text(8, 0, 'promotion_last_5years')])"
      ]
     },
     "execution_count": 23,
     "metadata": {},
     "output_type": "execute_result"
    },
    {
     "data": {
      "image/png": "[encoded data removed]",
      "text/plain": [
       "<Figure size 640x480 with 1 Axes>"
      ]
     },
     "metadata": {},
     "output_type": "display_data"
    }
   ],
   "source": [
    "# lets check outiers with the help of boxlot\n",
    "df.boxplot()\n",
    "plt.xticks\n",
    "plt.xticks(rotation=90)"
   ]
  },
  {
   "cell_type": "code",
   "execution_count": 24,
   "id": "ad14ec1f",
   "metadata": {},
   "outputs": [
    {
     "data": {
      "text/html": [
       "<div>\n",
       "<style scoped>\n",
       "    .dataframe tbody tr th:only-of-type {\n",
       "        vertical-align: middle;\n",
       "    }\n",
       "\n",
       "    .dataframe tbody tr th {\n",
       "        vertical-align: top;\n",
       "    }\n",
       "\n",
       "    .dataframe thead th {\n",
       "        text-align: right;\n",
       "    }\n",
       "</style>\n",
       "<table border=\"1\" class=\"dataframe\">\n",
       "  <thead>\n",
       "    <tr style=\"text-align: right;\">\n",
       "      <th></th>\n",
       "      <th>average_montly_hours</th>\n",
       "      <th>time_spend_company</th>\n",
       "    </tr>\n",
       "  </thead>\n",
       "  <tbody>\n",
       "    <tr>\n",
       "      <th>0</th>\n",
       "      <td>0.892208</td>\n",
       "      <td>0.274291</td>\n",
       "    </tr>\n",
       "    <tr>\n",
       "      <th>1</th>\n",
       "      <td>1.262709</td>\n",
       "      <td>1.981036</td>\n",
       "    </tr>\n",
       "    <tr>\n",
       "      <th>2</th>\n",
       "      <td>1.467939</td>\n",
       "      <td>0.477485</td>\n",
       "    </tr>\n",
       "    <tr>\n",
       "      <th>3</th>\n",
       "      <td>0.462311</td>\n",
       "      <td>1.229261</td>\n",
       "    </tr>\n",
       "    <tr>\n",
       "      <th>4</th>\n",
       "      <td>0.851162</td>\n",
       "      <td>0.274291</td>\n",
       "    </tr>\n",
       "    <tr>\n",
       "      <th>...</th>\n",
       "      <td>...</td>\n",
       "      <td>...</td>\n",
       "    </tr>\n",
       "    <tr>\n",
       "      <th>11995</th>\n",
       "      <td>1.201140</td>\n",
       "      <td>4.988139</td>\n",
       "    </tr>\n",
       "    <tr>\n",
       "      <th>11996</th>\n",
       "      <td>1.344801</td>\n",
       "      <td>4.988139</td>\n",
       "    </tr>\n",
       "    <tr>\n",
       "      <th>11997</th>\n",
       "      <td>0.317563</td>\n",
       "      <td>4.988139</td>\n",
       "    </tr>\n",
       "    <tr>\n",
       "      <th>11998</th>\n",
       "      <td>0.584363</td>\n",
       "      <td>4.988139</td>\n",
       "    </tr>\n",
       "    <tr>\n",
       "      <th>11999</th>\n",
       "      <td>0.420178</td>\n",
       "      <td>0.274291</td>\n",
       "    </tr>\n",
       "  </tbody>\n",
       "</table>\n",
       "<p>11991 rows × 2 columns</p>\n",
       "</div>"
      ],
      "text/plain": [
       "       average_montly_hours  time_spend_company\n",
       "0                  0.892208            0.274291\n",
       "1                  1.262709            1.981036\n",
       "2                  1.467939            0.477485\n",
       "3                  0.462311            1.229261\n",
       "4                  0.851162            0.274291\n",
       "...                     ...                 ...\n",
       "11995              1.201140            4.988139\n",
       "11996              1.344801            4.988139\n",
       "11997              0.317563            4.988139\n",
       "11998              0.584363            4.988139\n",
       "11999              0.420178            0.274291\n",
       "\n",
       "[11991 rows x 2 columns]"
      ]
     },
     "execution_count": 24,
     "metadata": {},
     "output_type": "execute_result"
    }
   ],
   "source": [
    "#Let's find outlier with Zscore method\n",
    "outliers=df[['average_montly_hours', 'time_spend_company']]\n",
    "z=np.abs(zscore(outliers))\n",
    "z"
   ]
  },
  {
   "cell_type": "code",
   "execution_count": 25,
   "id": "ca290da5",
   "metadata": {},
   "outputs": [
    {
     "data": {
      "text/plain": [
       "(array([10998, 10999, 11000, 11001, 11002, 11069, 11070, 11071, 11072,\n",
       "        11073, 11074, 11115, 11116, 11117, 11118, 11119, 11120, 11184,\n",
       "        11185, 11186, 11187, 11188, 11189, 11190, 11205, 11206, 11207,\n",
       "        11208, 11209, 11217, 11218, 11220, 11221, 11222, 11223, 11249,\n",
       "        11250, 11251, 11252, 11253, 11254, 11255, 11270, 11271, 11272,\n",
       "        11273, 11274, 11282, 11283, 11285, 11286, 11287, 11288, 11337,\n",
       "        11338, 11339, 11340, 11341, 11342, 11496, 11497, 11498, 11499,\n",
       "        11500, 11502, 11503, 11504, 11505, 11506, 11507, 11510, 11511,\n",
       "        11517, 11518, 11519, 11520, 11521, 11522, 11548, 11549, 11550,\n",
       "        11551, 11552, 11554, 11555, 11556, 11557, 11558, 11559, 11562,\n",
       "        11563, 11569, 11570, 11571, 11572, 11573, 11574, 11596, 11597,\n",
       "        11598, 11599, 11600, 11602, 11603, 11604, 11605, 11606, 11607,\n",
       "        11610, 11611, 11617, 11618, 11619, 11620, 11621, 11622, 11624,\n",
       "        11625, 11626, 11627, 11628, 11629, 11651, 11652, 11653, 11654,\n",
       "        11655, 11657, 11658, 11659, 11660, 11661, 11662, 11665, 11666,\n",
       "        11672, 11673, 11674, 11675, 11676, 11677, 11730, 11731, 11732,\n",
       "        11733, 11734, 11736, 11737, 11738, 11739, 11740, 11741, 11744,\n",
       "        11745, 11751, 11752, 11753, 11754, 11755, 11756, 11910, 11911,\n",
       "        11912, 11913, 11914, 11919, 11920, 11921, 11931, 11932, 11933,\n",
       "        11934, 11935, 11936, 11963, 11964, 11965, 11966, 11967, 11972,\n",
       "        11973, 11974, 11984, 11985, 11986, 11987, 11988, 11989],\n",
       "       dtype=int64),\n",
       " array([1, 1, 1, 1, 1, 1, 1, 1, 1, 1, 1, 1, 1, 1, 1, 1, 1, 1, 1, 1, 1, 1,\n",
       "        1, 1, 1, 1, 1, 1, 1, 1, 1, 1, 1, 1, 1, 1, 1, 1, 1, 1, 1, 1, 1, 1,\n",
       "        1, 1, 1, 1, 1, 1, 1, 1, 1, 1, 1, 1, 1, 1, 1, 1, 1, 1, 1, 1, 1, 1,\n",
       "        1, 1, 1, 1, 1, 1, 1, 1, 1, 1, 1, 1, 1, 1, 1, 1, 1, 1, 1, 1, 1, 1,\n",
       "        1, 1, 1, 1, 1, 1, 1, 1, 1, 1, 1, 1, 1, 1, 1, 1, 1, 1, 1, 1, 1, 1,\n",
       "        1, 1, 1, 1, 1, 1, 1, 1, 1, 1, 1, 1, 1, 1, 1, 1, 1, 1, 1, 1, 1, 1,\n",
       "        1, 1, 1, 1, 1, 1, 1, 1, 1, 1, 1, 1, 1, 1, 1, 1, 1, 1, 1, 1, 1, 1,\n",
       "        1, 1, 1, 1, 1, 1, 1, 1, 1, 1, 1, 1, 1, 1, 1, 1, 1, 1, 1, 1, 1, 1,\n",
       "        1, 1, 1, 1, 1, 1, 1, 1, 1, 1, 1, 1], dtype=int64))"
      ]
     },
     "execution_count": 25,
     "metadata": {},
     "output_type": "execute_result"
    }
   ],
   "source": [
    "np.where(z>3)"
   ]
  },
  {
   "cell_type": "code",
   "execution_count": 26,
   "id": "8744fa61",
   "metadata": {},
   "outputs": [],
   "source": [
    "df1=df[(z<3).all(axis=1)]"
   ]
  },
  {
   "cell_type": "code",
   "execution_count": 27,
   "id": "8081c008",
   "metadata": {},
   "outputs": [
    {
     "data": {
      "text/plain": [
       "(11803, 10)"
      ]
     },
     "execution_count": 27,
     "metadata": {},
     "output_type": "execute_result"
    }
   ],
   "source": [
    "df1.shape"
   ]
  },
  {
   "cell_type": "markdown",
   "id": "34deece0",
   "metadata": {},
   "source": [
    "We can see that we have successfully removed outliers let's do further analysis of model."
   ]
  },
  {
   "cell_type": "code",
   "execution_count": 28,
   "id": "3c3e4683",
   "metadata": {},
   "outputs": [
    {
     "data": {
      "text/plain": [
       "satisfaction_level      -0.539144\n",
       "last_evaluation         -0.029756\n",
       "number_project           0.329085\n",
       "average_montly_hours     0.027665\n",
       "time_spend_company       0.978468\n",
       "Work_accident            1.930689\n",
       "left                     1.769714\n",
       "promotion_last_5years    7.691063\n",
       "dtype: float64"
      ]
     },
     "execution_count": 28,
     "metadata": {},
     "output_type": "execute_result"
    }
   ],
   "source": [
    "#let's check skewness of our data\n",
    "df1.skew()"
   ]
  },
  {
   "cell_type": "markdown",
   "id": "6ec462b4",
   "metadata": {},
   "source": [
    "we can see that some of our columns are skewed which are Work_accident, promotion_last_5years let's treat them accordingly."
   ]
  },
  {
   "cell_type": "code",
   "execution_count": 29,
   "id": "281636d4",
   "metadata": {},
   "outputs": [],
   "source": [
    "#first will use cuberoot method to remove skewness from these columns\n",
    "df1['Work_accident']=np.cbrt(df1['Work_accident'])\n",
    "df1['promotion_last_5years']=np.cbrt(df1['promotion_last_5years'])\n"
   ]
  },
  {
   "cell_type": "code",
   "execution_count": 30,
   "id": "b41cbdc5",
   "metadata": {},
   "outputs": [
    {
     "data": {
      "text/plain": [
       "satisfaction_level      -0.539144\n",
       "last_evaluation         -0.029756\n",
       "number_project           0.329085\n",
       "average_montly_hours     0.027665\n",
       "time_spend_company       0.978468\n",
       "Work_accident            1.930689\n",
       "left                     1.769714\n",
       "promotion_last_5years    7.691063\n",
       "dtype: float64"
      ]
     },
     "execution_count": 30,
     "metadata": {},
     "output_type": "execute_result"
    }
   ],
   "source": [
    "df1.skew()"
   ]
  },
  {
   "cell_type": "markdown",
   "id": "b287b75c",
   "metadata": {},
   "source": [
    "We can see skweness has not been removed via above method let's try square root method."
   ]
  },
  {
   "cell_type": "code",
   "execution_count": 31,
   "id": "3f20e4f8",
   "metadata": {},
   "outputs": [],
   "source": [
    "df1['Work_accident']=np.square(df1['Work_accident'])\n",
    "df1['promotion_last_5years']=np.square(df1['promotion_last_5years'])"
   ]
  },
  {
   "cell_type": "code",
   "execution_count": 32,
   "id": "e6e22a00",
   "metadata": {},
   "outputs": [
    {
     "data": {
      "text/plain": [
       "satisfaction_level      -0.539144\n",
       "last_evaluation         -0.029756\n",
       "number_project           0.329085\n",
       "average_montly_hours     0.027665\n",
       "time_spend_company       0.978468\n",
       "Work_accident            1.930689\n",
       "left                     1.769714\n",
       "promotion_last_5years    7.691063\n",
       "dtype: float64"
      ]
     },
     "execution_count": 32,
     "metadata": {},
     "output_type": "execute_result"
    }
   ],
   "source": [
    "df1.skew()"
   ]
  },
  {
   "cell_type": "markdown",
   "id": "8613927e",
   "metadata": {},
   "source": [
    "Let's remove promostion last year as it is not getting treated via any methos we have also checked for log method previously."
   ]
  },
  {
   "cell_type": "code",
   "execution_count": 34,
   "id": "a8e8e50d",
   "metadata": {},
   "outputs": [],
   "source": [
    "df1.drop(columns=['promotion_last_5years'], inplace=True)"
   ]
  },
  {
   "cell_type": "code",
   "execution_count": 42,
   "id": "012ee9f4",
   "metadata": {},
   "outputs": [],
   "source": [
    "df1['satisfaction_level'] = df1['satisfaction_level'].round().astype(int)\n",
    "df1['last_evaluation'] = df1['last_evaluation'].round().astype(int)\n",
    "df1['Work_accident'] = df1['Work_accident'].round().astype(int)"
   ]
  },
  {
   "cell_type": "code",
   "execution_count": 43,
   "id": "6fcf5dae",
   "metadata": {},
   "outputs": [],
   "source": [
    "from sklearn.preprocessing import LabelEncoder\n",
    "label_encoder = LabelEncoder()"
   ]
  },
  {
   "cell_type": "code",
   "execution_count": 46,
   "id": "25e17a5a",
   "metadata": {},
   "outputs": [],
   "source": [
    "df1['salary'] = label_encoder.fit_transform(df1['salary'])"
   ]
  },
  {
   "cell_type": "code",
   "execution_count": 52,
   "id": "1739c324",
   "metadata": {},
   "outputs": [],
   "source": [
    "# As now our data is ready to work let's divide it into dependent and target variable.\n",
    "features = ['satisfaction_level', 'last_evaluation', 'number_project',\n",
    "       'average_montly_hours', 'time_spend_company', 'Work_accident', 'salary']\n",
    "target = 'left'"
   ]
  },
  {
   "cell_type": "code",
   "execution_count": 53,
   "id": "578ac4bd",
   "metadata": {},
   "outputs": [],
   "source": [
    "x = df1[features]\n",
    "y = df1[target]"
   ]
  },
  {
   "cell_type": "code",
   "execution_count": 54,
   "id": "64d4a984",
   "metadata": {},
   "outputs": [
    {
     "name": "stdout",
     "output_type": "stream",
     "text": [
      "dimension of indendent variable: (11803, 7)\n",
      "dimension of dependent variable: (11803,)\n"
     ]
    }
   ],
   "source": [
    "print('dimension of indendent variable:',x.shape)\n",
    "print('dimension of dependent variable:',y.shape)"
   ]
  },
  {
   "cell_type": "markdown",
   "id": "2a13fc9d",
   "metadata": {},
   "source": [
    "We can see that we are having same number of rows that is 11803 rows and 7 columns in indpendent variable wich means we are going good and can perform tarining and prediction."
   ]
  },
  {
   "cell_type": "code",
   "execution_count": 55,
   "id": "18243a3e",
   "metadata": {},
   "outputs": [],
   "source": [
    "from sklearn.model_selection import train_test_split\n",
    "from sklearn.metrics import mean_absolute_error\n",
    "from sklearn.metrics import mean_squared_error\n",
    "from sklearn.metrics import r2_score\n",
    "from sklearn.linear_model import LinearRegression\n",
    "from sklearn.tree import DecisionTreeRegressor"
   ]
  },
  {
   "cell_type": "code",
   "execution_count": 56,
   "id": "dd4c385f",
   "metadata": {},
   "outputs": [
    {
     "name": "stdout",
     "output_type": "stream",
     "text": [
      "maximum r2 score is  0.2541035468925825 on Randome_state 0\n"
     ]
    }
   ],
   "source": [
    "#let's find best random state with maximum r2 score\n",
    "maxAccu=0\n",
    "maxRS=0\n",
    "for i in range(1,100):\n",
    "    x_train,x_test,y_train,y_test= train_test_split(x,y,test_size =0.30, random_state = i)\n",
    "    lr=LinearRegression()\n",
    "    lr.fit(x_train, y_train)\n",
    "    pred= lr.predict(x_test)\n",
    "    acc=r2_score(y_test, pred)\n",
    "    if acc>maxAccu:\n",
    "        maxAccu=acc\n",
    "        maxRs=i\n",
    "print(\"maximum r2 score is \", maxAccu,\"on Randome_state\",maxRS)        "
   ]
  },
  {
   "cell_type": "code",
   "execution_count": 57,
   "id": "1b2ac442",
   "metadata": {},
   "outputs": [
    {
     "name": "stdout",
     "output_type": "stream",
     "text": [
      "R2 score: 0.7750636698898179\n",
      "R2 score on training Data: 95.01607618148104\n",
      "Mean Absolute Error: 0.050508055485886605\n",
      "Mean Squared Error: 0.031191725459784537\n",
      "Root Mean Squared Error: 0.17661179309373579\n"
     ]
    }
   ],
   "source": [
    "    from sklearn.ensemble import RandomForestRegressor\n",
    "    rfr=RandomForestRegressor()\n",
    "    rfr.fit(x_train,y_train)\n",
    "    pred_RFR=rfr.predict (x_test)\n",
    "    pred_train=rfr.predict(x_train)\n",
    "    print ('R2 score:',r2_score(y_test,pred_RFR))\n",
    "    print ('R2 score on training Data:',r2_score(y_train,pred_train) *100)\n",
    "    print('Mean Absolute Error:',mean_absolute_error(y_test, pred_RFR))\n",
    "    print('Mean Squared Error:',mean_squared_error(y_test, pred_RFR))\n",
    "    print (\"Root Mean Squared Error:\",np.sqrt(mean_squared_error(y_test, pred_RFR)))"
   ]
  },
  {
   "cell_type": "code",
   "execution_count": 58,
   "id": "3cdc2132",
   "metadata": {},
   "outputs": [
    {
     "name": "stdout",
     "output_type": "stream",
     "text": [
      "R2 score: 0.6714389702944779\n",
      "R2 score on training Data: 97.02005383218238\n",
      "Mean Absolute Error: 0.049436532591008726\n",
      "Mean Squared Error: 0.04556127251804422\n",
      "Root Mean Squared Error: 0.21345086675402425\n"
     ]
    }
   ],
   "source": [
    "from sklearn.tree import DecisionTreeRegressor\n",
    "dtr=DecisionTreeRegressor()\n",
    "dtr.fit(x_train,y_train)\n",
    "pred_DTR=dtr.predict (x_test)\n",
    "pred_train=dtr.predict(x_train)\n",
    "print ('R2 score:',r2_score(y_test,pred_DTR))\n",
    "print ('R2 score on training Data:',r2_score(y_train,pred_train) *100)\n",
    "print('Mean Absolute Error:',mean_absolute_error(y_test, pred_DTR))\n",
    "print('Mean Squared Error:',mean_squared_error(y_test, pred_DTR))\n",
    "print (\"Root Mean Squared Error:\",np.sqrt(mean_squared_error(y_test, pred_DTR)))"
   ]
  },
  {
   "cell_type": "code",
   "execution_count": 59,
   "id": "22c6ec82",
   "metadata": {},
   "outputs": [
    {
     "name": "stdout",
     "output_type": "stream",
     "text": [
      "R2 score: 0.7270480300447988\n",
      "R2 score on training Data: 97.02005383218238\n",
      "Mean Absolute Error: 0.05162093705033552\n",
      "Mean Squared Error: 0.03785001251856292\n",
      "Root Mean Squared Error: 0.19455079675643305\n"
     ]
    }
   ],
   "source": [
    "from sklearn.ensemble import ExtraTreesRegressor\n",
    "etr=ExtraTreesRegressor()\n",
    "etr.fit(x_train,y_train)\n",
    "pred_ETR=etr.predict (x_test)\n",
    "pred_train=etr.predict(x_train)\n",
    "print ('R2 score:',r2_score(y_test,pred_ETR))\n",
    "print ('R2 score on training Data:',r2_score(y_train,pred_train) *100)\n",
    "print('Mean Absolute Error:',mean_absolute_error(y_test, pred_ETR))\n",
    "print('Mean Squared Error:',mean_squared_error(y_test, pred_ETR))\n",
    "print (\"Root Mean Squared Error:\",np.sqrt(mean_squared_error(y_test, pred_ETR)))"
   ]
  },
  {
   "cell_type": "code",
   "execution_count": 60,
   "id": "48a4be9c",
   "metadata": {},
   "outputs": [
    {
     "name": "stdout",
     "output_type": "stream",
     "text": [
      "R2 score: 0.7664682394422614\n",
      "R2 score on training Data: 80.06164451284502\n",
      "Mean Absolute Error: 0.08389617266656853\n",
      "Mean Squared Error: 0.032383646331782076\n",
      "Root Mean Squared Error: 0.17995456741017182\n"
     ]
    }
   ],
   "source": [
    "from sklearn.ensemble import GradientBoostingRegressor\n",
    "gbr=GradientBoostingRegressor()\n",
    "gbr.fit(x_train,y_train)\n",
    "pred_GBR=gbr.predict (x_test)\n",
    "pred_train=gbr.predict(x_train)\n",
    "print ('R2 score:',r2_score(y_test,pred_GBR))\n",
    "print ('R2 score on training Data:',r2_score(y_train,pred_train) *100)\n",
    "print('Mean Absolute Error:',mean_absolute_error(y_test, pred_GBR))\n",
    "print('Mean Squared Error:',mean_squared_error(y_test, pred_GBR))\n",
    "print (\"Root Mean Squared Error:\",np.sqrt(mean_squared_error(y_test, pred_GBR)))"
   ]
  },
  {
   "cell_type": "code",
   "execution_count": 61,
   "id": "ec584261",
   "metadata": {},
   "outputs": [
    {
     "name": "stdout",
     "output_type": "stream",
     "text": [
      "R2 score: 0.21249572551686335\n",
      "R2 score on training Data: 24.056169511252246\n",
      "Mean Absolute Error: 0.22783111263401737\n",
      "Mean Squared Error: 0.10920253351716303\n",
      "Root Mean Squared Error: 0.33045806620078594\n"
     ]
    }
   ],
   "source": [
    "from sklearn.linear_model import Ridge\n",
    "rd= Ridge()\n",
    "rd.fit(x_train,y_train)\n",
    "pred_RD=rd.predict (x_test)\n",
    "pred_train=rd.predict(x_train)\n",
    "print ('R2 score:',r2_score(y_test,pred_RD))\n",
    "print ('R2 score on training Data:',r2_score(y_train,pred_train) *100)\n",
    "print('Mean Absolute Error:',mean_absolute_error(y_test, pred_RD))\n",
    "print('Mean Squared Error:',mean_squared_error(y_test, pred_RD))\n",
    "print (\"Root Mean Squared Error:\",np.sqrt(mean_squared_error(y_test, pred_RD)))"
   ]
  },
  {
   "cell_type": "markdown",
   "id": "b7606d42",
   "metadata": {},
   "source": [
    "As now we've checked all the possible models we'll go forward and use cross validation method to finalize our the model."
   ]
  },
  {
   "cell_type": "code",
   "execution_count": 63,
   "id": "02b00a51",
   "metadata": {},
   "outputs": [],
   "source": [
    "from sklearn.model_selection import cross_val_score"
   ]
  },
  {
   "cell_type": "code",
   "execution_count": 64,
   "id": "65b6385f",
   "metadata": {},
   "outputs": [
    {
     "name": "stdout",
     "output_type": "stream",
     "text": [
      "[-5.38108108  0.          0.          0.          0.        ]\n",
      "-1.0762162162162165\n",
      "Difference between R2 score and cross validation score is : 108.29306059191613\n"
     ]
    }
   ],
   "source": [
    "score = cross_val_score(dtr,x,y, cv=5, scoring='r2')\n",
    "print(score)\n",
    "print(score.mean())\n",
    "print(\"Difference between R2 score and cross validation score is :\", (r2_score(y_test,pred_DTR)-score.mean()*100))"
   ]
  },
  {
   "cell_type": "code",
   "execution_count": 65,
   "id": "60f62475",
   "metadata": {},
   "outputs": [
    {
     "name": "stdout",
     "output_type": "stream",
     "text": [
      "[-5.38108108  0.          0.          0.          0.        ]\n",
      "-1.0762162162162165\n",
      "Difference between R2 score and cross validation score is : 108.39668529151147\n"
     ]
    }
   ],
   "source": [
    "score = cross_val_score(rfr,x,y)\n",
    "print(score)\n",
    "print(score.mean())\n",
    "print(\"Difference between R2 score and cross validation score is :\", (r2_score(y_test,pred_RFR)-score.mean()*100))"
   ]
  },
  {
   "cell_type": "code",
   "execution_count": 66,
   "id": "54fb498e",
   "metadata": {},
   "outputs": [
    {
     "name": "stdout",
     "output_type": "stream",
     "text": [
      "[-5.38108108  0.          0.          0.          0.        ]\n",
      "-1.0762162162162165\n",
      "Difference between R2 score and cross validation score is : 108.34866965166646\n"
     ]
    }
   ],
   "source": [
    "score = cross_val_score(etr,x,y)\n",
    "print(score)\n",
    "print(score.mean())\n",
    "print(\"Difference between R2 score and cross validation score is :\", (r2_score(y_test,pred_ETR)-score.mean()*100))"
   ]
  },
  {
   "cell_type": "code",
   "execution_count": 67,
   "id": "d04120a4",
   "metadata": {},
   "outputs": [
    {
     "name": "stdout",
     "output_type": "stream",
     "text": [
      "[-5.38108108  0.          0.          0.          0.        ]\n",
      "-1.0762162162162165\n",
      "Difference between R2 score and cross validation score is : 108.38808986106392\n"
     ]
    }
   ],
   "source": [
    "score = cross_val_score(gbr,x,y)\n",
    "print(score)\n",
    "print(score.mean())\n",
    "print(\"Difference between R2 score and cross validation score is :\", (r2_score(y_test,pred_GBR)-score.mean()*100))"
   ]
  },
  {
   "cell_type": "code",
   "execution_count": 68,
   "id": "f4f11344",
   "metadata": {},
   "outputs": [
    {
     "name": "stdout",
     "output_type": "stream",
     "text": [
      "[-5.38108108  0.          0.          0.          0.        ]\n",
      "-1.0762162162162165\n",
      "Difference between R2 score and cross validation score is : 107.83411734713852\n"
     ]
    }
   ],
   "source": [
    "score = cross_val_score(rd,x,y)\n",
    "print(score)\n",
    "print(score.mean())\n",
    "print(\"Difference between R2 score and cross validation score is :\", (r2_score(y_test,pred_RD)-score.mean()*100))"
   ]
  },
  {
   "cell_type": "markdown",
   "id": "03055907",
   "metadata": {},
   "source": [
    "With the above cross valiadation we can see that decision tree regressor is working  best with our data so let's select this model and perform hyperparameter tunning"
   ]
  },
  {
   "cell_type": "code",
   "execution_count": 69,
   "id": "514a1ea2",
   "metadata": {},
   "outputs": [],
   "source": [
    "#Lets test our data by grid search\n",
    "from sklearn.model_selection import RandomizedSearchCV"
   ]
  },
  {
   "cell_type": "code",
   "execution_count": 71,
   "id": "3c902484",
   "metadata": {},
   "outputs": [
    {
     "data": {
      "text/html": [
       "<style>#sk-container-id-1 {color: black;background-color: white;}#sk-container-id-1 pre{padding: 0;}#sk-container-id-1 div.sk-toggleable {background-color: white;}#sk-container-id-1 label.sk-toggleable__label {cursor: pointer;display: block;width: 100%;margin-bottom: 0;padding: 0.3em;box-sizing: border-box;text-align: center;}#sk-container-id-1 label.sk-toggleable__label-arrow:before {content: \"▸\";float: left;margin-right: 0.25em;color: #696969;}#sk-container-id-1 label.sk-toggleable__label-arrow:hover:before {color: black;}#sk-container-id-1 div.sk-estimator:hover label.sk-toggleable__label-arrow:before {color: black;}#sk-container-id-1 div.sk-toggleable__content {max-height: 0;max-width: 0;overflow: hidden;text-align: left;background-color: #f0f8ff;}#sk-container-id-1 div.sk-toggleable__content pre {margin: 0.2em;color: black;border-radius: 0.25em;background-color: #f0f8ff;}#sk-container-id-1 input.sk-toggleable__control:checked~div.sk-toggleable__content {max-height: 200px;max-width: 100%;overflow: auto;}#sk-container-id-1 input.sk-toggleable__control:checked~label.sk-toggleable__label-arrow:before {content: \"▾\";}#sk-container-id-1 div.sk-estimator input.sk-toggleable__control:checked~label.sk-toggleable__label {background-color: #d4ebff;}#sk-container-id-1 div.sk-label input.sk-toggleable__control:checked~label.sk-toggleable__label {background-color: #d4ebff;}#sk-container-id-1 input.sk-hidden--visually {border: 0;clip: rect(1px 1px 1px 1px);clip: rect(1px, 1px, 1px, 1px);height: 1px;margin: -1px;overflow: hidden;padding: 0;position: absolute;width: 1px;}#sk-container-id-1 div.sk-estimator {font-family: monospace;background-color: #f0f8ff;border: 1px dotted black;border-radius: 0.25em;box-sizing: border-box;margin-bottom: 0.5em;}#sk-container-id-1 div.sk-estimator:hover {background-color: #d4ebff;}#sk-container-id-1 div.sk-parallel-item::after {content: \"\";width: 100%;border-bottom: 1px solid gray;flex-grow: 1;}#sk-container-id-1 div.sk-label:hover label.sk-toggleable__label {background-color: #d4ebff;}#sk-container-id-1 div.sk-serial::before {content: \"\";position: absolute;border-left: 1px solid gray;box-sizing: border-box;top: 0;bottom: 0;left: 50%;z-index: 0;}#sk-container-id-1 div.sk-serial {display: flex;flex-direction: column;align-items: center;background-color: white;padding-right: 0.2em;padding-left: 0.2em;position: relative;}#sk-container-id-1 div.sk-item {position: relative;z-index: 1;}#sk-container-id-1 div.sk-parallel {display: flex;align-items: stretch;justify-content: center;background-color: white;position: relative;}#sk-container-id-1 div.sk-item::before, #sk-container-id-1 div.sk-parallel-item::before {content: \"\";position: absolute;border-left: 1px solid gray;box-sizing: border-box;top: 0;bottom: 0;left: 50%;z-index: -1;}#sk-container-id-1 div.sk-parallel-item {display: flex;flex-direction: column;z-index: 1;position: relative;background-color: white;}#sk-container-id-1 div.sk-parallel-item:first-child::after {align-self: flex-end;width: 50%;}#sk-container-id-1 div.sk-parallel-item:last-child::after {align-self: flex-start;width: 50%;}#sk-container-id-1 div.sk-parallel-item:only-child::after {width: 0;}#sk-container-id-1 div.sk-dashed-wrapped {border: 1px dashed gray;margin: 0 0.4em 0.5em 0.4em;box-sizing: border-box;padding-bottom: 0.4em;background-color: white;}#sk-container-id-1 div.sk-label label {font-family: monospace;font-weight: bold;display: inline-block;line-height: 1.2em;}#sk-container-id-1 div.sk-label-container {text-align: center;}#sk-container-id-1 div.sk-container {/* jupyter's `normalize.less` sets `[hidden] { display: none; }` but bootstrap.min.css set `[hidden] { display: none !important; }` so we also need the `!important` here to be able to override the default hidden behavior on the sphinx rendered scikit-learn.org. See: https://github.com/scikit-learn/scikit-learn/issues/21755 */display: inline-block !important;position: relative;}#sk-container-id-1 div.sk-text-repr-fallback {display: none;}</style><div id=\"sk-container-id-1\" class=\"sk-top-container\"><div class=\"sk-text-repr-fallback\"><pre>RandomizedSearchCV(cv=5, estimator=DecisionTreeRegressor(),\n",
       "                   param_distributions={&#x27;criterion&#x27;: [&#x27;mse&#x27;, &#x27;friedman_mse&#x27;,\n",
       "                                                      &#x27;mae&#x27;],\n",
       "                                        &#x27;max_depth&#x27;: [None, 5, 10, 15],\n",
       "                                        &#x27;min_samples_leaf&#x27;: [1, 2, 4],\n",
       "                                        &#x27;min_samples_split&#x27;: [2, 5, 10]})</pre><b>In a Jupyter environment, please rerun this cell to show the HTML representation or trust the notebook. <br />On GitHub, the HTML representation is unable to render, please try loading this page with nbviewer.org.</b></div><div class=\"sk-container\" hidden><div class=\"sk-item sk-dashed-wrapped\"><div class=\"sk-label-container\"><div class=\"sk-label sk-toggleable\"><input class=\"sk-toggleable__control sk-hidden--visually\" id=\"sk-estimator-id-1\" type=\"checkbox\" ><label for=\"sk-estimator-id-1\" class=\"sk-toggleable__label sk-toggleable__label-arrow\">RandomizedSearchCV</label><div class=\"sk-toggleable__content\"><pre>RandomizedSearchCV(cv=5, estimator=DecisionTreeRegressor(),\n",
       "                   param_distributions={&#x27;criterion&#x27;: [&#x27;mse&#x27;, &#x27;friedman_mse&#x27;,\n",
       "                                                      &#x27;mae&#x27;],\n",
       "                                        &#x27;max_depth&#x27;: [None, 5, 10, 15],\n",
       "                                        &#x27;min_samples_leaf&#x27;: [1, 2, 4],\n",
       "                                        &#x27;min_samples_split&#x27;: [2, 5, 10]})</pre></div></div></div><div class=\"sk-parallel\"><div class=\"sk-parallel-item\"><div class=\"sk-item\"><div class=\"sk-label-container\"><div class=\"sk-label sk-toggleable\"><input class=\"sk-toggleable__control sk-hidden--visually\" id=\"sk-estimator-id-2\" type=\"checkbox\" ><label for=\"sk-estimator-id-2\" class=\"sk-toggleable__label sk-toggleable__label-arrow\">estimator: DecisionTreeRegressor</label><div class=\"sk-toggleable__content\"><pre>DecisionTreeRegressor()</pre></div></div></div><div class=\"sk-serial\"><div class=\"sk-item\"><div class=\"sk-estimator sk-toggleable\"><input class=\"sk-toggleable__control sk-hidden--visually\" id=\"sk-estimator-id-3\" type=\"checkbox\" ><label for=\"sk-estimator-id-3\" class=\"sk-toggleable__label sk-toggleable__label-arrow\">DecisionTreeRegressor</label><div class=\"sk-toggleable__content\"><pre>DecisionTreeRegressor()</pre></div></div></div></div></div></div></div></div></div></div>"
      ],
      "text/plain": [
       "RandomizedSearchCV(cv=5, estimator=DecisionTreeRegressor(),\n",
       "                   param_distributions={'criterion': ['mse', 'friedman_mse',\n",
       "                                                      'mae'],\n",
       "                                        'max_depth': [None, 5, 10, 15],\n",
       "                                        'min_samples_leaf': [1, 2, 4],\n",
       "                                        'min_samples_split': [2, 5, 10]})"
      ]
     },
     "execution_count": 71,
     "metadata": {},
     "output_type": "execute_result"
    }
   ],
   "source": [
    "param={'criterion': ['mse', 'friedman_mse', 'mae'],\n",
    "    'max_depth': [None, 5, 10, 15],\n",
    "    'min_samples_split': [2, 5, 10],\n",
    "    'min_samples_leaf': [1, 2, 4],}\n",
    "Rscv=RandomizedSearchCV(DecisionTreeRegressor(),param,cv=5)\n",
    "Rscv.fit(x_train,y_train)"
   ]
  },
  {
   "cell_type": "code",
   "execution_count": 72,
   "id": "8c060649",
   "metadata": {},
   "outputs": [
    {
     "data": {
      "text/plain": [
       "{'min_samples_split': 2,\n",
       " 'min_samples_leaf': 2,\n",
       " 'max_depth': 10,\n",
       " 'criterion': 'friedman_mse'}"
      ]
     },
     "execution_count": 72,
     "metadata": {},
     "output_type": "execute_result"
    }
   ],
   "source": [
    "Rscv.best_params_"
   ]
  },
  {
   "cell_type": "code",
   "execution_count": 73,
   "id": "e6169702",
   "metadata": {},
   "outputs": [],
   "source": [
    "Model=ExtraTreesRegressor(min_samples_split= 2,min_samples_leaf= 2,max_depth= 10,criterion= 'friedman_mse')"
   ]
  },
  {
   "cell_type": "code",
   "execution_count": 74,
   "id": "7f5d8852",
   "metadata": {},
   "outputs": [
    {
     "name": "stdout",
     "output_type": "stream",
     "text": [
      "R2 score: 0.8089506826417932\n",
      "Mean Absolute Error: 0.05550985070551624\n",
      "Mean Squared Error: 0.02649264284429919\n",
      "Root Mean Squared Error: 0.16276560706825993\n"
     ]
    }
   ],
   "source": [
    "Model.fit(x_train,y_train)\n",
    "pred=Model.predict (x_test)\n",
    "print ('R2 score:',r2_score(y_test,pred))\n",
    "print('Mean Absolute Error:',mean_absolute_error(y_test, pred))\n",
    "print('Mean Squared Error:',mean_squared_error(y_test, pred))\n",
    "print (\"Root Mean Squared Error:\",np.sqrt(mean_squared_error(y_test, pred)))"
   ]
  },
  {
   "cell_type": "markdown",
   "id": "ae31b9bd",
   "metadata": {},
   "source": [
    "We can see that at the final stage ur model is giving r2 score of 80  which can be considered as good accuracy score.\n",
    "\n",
    "Now let's save our model by pickle method\n",
    "\n"
   ]
  },
  {
   "cell_type": "code",
   "execution_count": 76,
   "id": "62cfbc10",
   "metadata": {},
   "outputs": [],
   "source": [
    "import pickle\n",
    "filename='Hr_attrition.pkl'\n",
    "pickle.dump(Model,open(filename,'wb'))"
   ]
  },
  {
   "cell_type": "markdown",
   "id": "87b3567e",
   "metadata": {},
   "source": [
    "We've already saved our work with above code let's reopen the model and check r2 score"
   ]
  },
  {
   "cell_type": "code",
   "execution_count": 77,
   "id": "19b3bbc9",
   "metadata": {},
   "outputs": [
    {
     "name": "stdout",
     "output_type": "stream",
     "text": [
      "80.89506826417932\n"
     ]
    }
   ],
   "source": [
    "Load_model=pickle.load(open('Hr_attrition.pkl','rb'))\n",
    "result=Load_model.score(x_test,y_test)\n",
    "print(result*100)"
   ]
  },
  {
   "cell_type": "markdown",
   "id": "699e9ecd",
   "metadata": {},
   "source": [
    "We can see our accuracy score above, let's also check prediction of our model manually."
   ]
  },
  {
   "cell_type": "code",
   "execution_count": 79,
   "id": "baffd2ed",
   "metadata": {},
   "outputs": [],
   "source": [
    "Conclusion=pd.DataFrame([Load_model.predict(x_test)[:],y_test[:]],index=[\"Predicted\",\"Original\"])"
   ]
  },
  {
   "cell_type": "code",
   "execution_count": 80,
   "id": "6810c50d",
   "metadata": {},
   "outputs": [
    {
     "data": {
      "text/html": [
       "<div>\n",
       "<style scoped>\n",
       "    .dataframe tbody tr th:only-of-type {\n",
       "        vertical-align: middle;\n",
       "    }\n",
       "\n",
       "    .dataframe tbody tr th {\n",
       "        vertical-align: top;\n",
       "    }\n",
       "\n",
       "    .dataframe thead th {\n",
       "        text-align: right;\n",
       "    }\n",
       "</style>\n",
       "<table border=\"1\" class=\"dataframe\">\n",
       "  <thead>\n",
       "    <tr style=\"text-align: right;\">\n",
       "      <th></th>\n",
       "      <th>0</th>\n",
       "      <th>1</th>\n",
       "      <th>2</th>\n",
       "      <th>3</th>\n",
       "      <th>4</th>\n",
       "      <th>5</th>\n",
       "      <th>6</th>\n",
       "      <th>7</th>\n",
       "      <th>8</th>\n",
       "      <th>9</th>\n",
       "      <th>...</th>\n",
       "      <th>3531</th>\n",
       "      <th>3532</th>\n",
       "      <th>3533</th>\n",
       "      <th>3534</th>\n",
       "      <th>3535</th>\n",
       "      <th>3536</th>\n",
       "      <th>3537</th>\n",
       "      <th>3538</th>\n",
       "      <th>3539</th>\n",
       "      <th>3540</th>\n",
       "    </tr>\n",
       "  </thead>\n",
       "  <tbody>\n",
       "    <tr>\n",
       "      <th>Predicted</th>\n",
       "      <td>0.002322</td>\n",
       "      <td>0.990298</td>\n",
       "      <td>0.005097</td>\n",
       "      <td>0.007761</td>\n",
       "      <td>0.98013</td>\n",
       "      <td>0.000686</td>\n",
       "      <td>0.18249</td>\n",
       "      <td>0.886235</td>\n",
       "      <td>0.96864</td>\n",
       "      <td>0.004072</td>\n",
       "      <td>...</td>\n",
       "      <td>0.944493</td>\n",
       "      <td>0.022116</td>\n",
       "      <td>0.247232</td>\n",
       "      <td>0.042312</td>\n",
       "      <td>0.005414</td>\n",
       "      <td>0.995451</td>\n",
       "      <td>0.639993</td>\n",
       "      <td>0.001766</td>\n",
       "      <td>0.004486</td>\n",
       "      <td>0.001211</td>\n",
       "    </tr>\n",
       "    <tr>\n",
       "      <th>Original</th>\n",
       "      <td>0.000000</td>\n",
       "      <td>1.000000</td>\n",
       "      <td>0.000000</td>\n",
       "      <td>0.000000</td>\n",
       "      <td>1.00000</td>\n",
       "      <td>0.000000</td>\n",
       "      <td>0.00000</td>\n",
       "      <td>1.000000</td>\n",
       "      <td>1.00000</td>\n",
       "      <td>0.000000</td>\n",
       "      <td>...</td>\n",
       "      <td>1.000000</td>\n",
       "      <td>0.000000</td>\n",
       "      <td>0.000000</td>\n",
       "      <td>0.000000</td>\n",
       "      <td>0.000000</td>\n",
       "      <td>1.000000</td>\n",
       "      <td>0.000000</td>\n",
       "      <td>0.000000</td>\n",
       "      <td>0.000000</td>\n",
       "      <td>0.000000</td>\n",
       "    </tr>\n",
       "  </tbody>\n",
       "</table>\n",
       "<p>2 rows × 3541 columns</p>\n",
       "</div>"
      ],
      "text/plain": [
       "               0         1         2         3        4         5        6     \\\n",
       "Predicted  0.002322  0.990298  0.005097  0.007761  0.98013  0.000686  0.18249   \n",
       "Original   0.000000  1.000000  0.000000  0.000000  1.00000  0.000000  0.00000   \n",
       "\n",
       "               7        8         9     ...      3531      3532      3533  \\\n",
       "Predicted  0.886235  0.96864  0.004072  ...  0.944493  0.022116  0.247232   \n",
       "Original   1.000000  1.00000  0.000000  ...  1.000000  0.000000  0.000000   \n",
       "\n",
       "               3534      3535      3536      3537      3538      3539  \\\n",
       "Predicted  0.042312  0.005414  0.995451  0.639993  0.001766  0.004486   \n",
       "Original   0.000000  0.000000  1.000000  0.000000  0.000000  0.000000   \n",
       "\n",
       "               3540  \n",
       "Predicted  0.001211  \n",
       "Original   0.000000  \n",
       "\n",
       "[2 rows x 3541 columns]"
      ]
     },
     "execution_count": 80,
     "metadata": {},
     "output_type": "execute_result"
    }
   ],
   "source": [
    "Conclusion"
   ]
  },
  {
   "cell_type": "markdown",
   "id": "326cf6d2",
   "metadata": {},
   "source": [
    "# Thank you"
   ]
  },
  {
   "cell_type": "code",
   "execution_count": null,
   "id": "30c8d23b",
   "metadata": {},
   "outputs": [],
   "source": []
  },
  {
   "cell_type": "code",
   "execution_count": null,
   "id": "c60829e7",
   "metadata": {},
   "outputs": [],
   "source": []
  },
  {
   "cell_type": "code",
   "execution_count": null,
   "id": "80ce52bf",
   "metadata": {},
   "outputs": [],
   "source": []
  }
 ],
 "metadata": {
  "kernelspec": {
   "display_name": "Python 3 (ipykernel)",
   "language": "python",
   "name": "python3"
  },
  "language_info": {
   "codemirror_mode": {
    "name": "ipython",
    "version": 3
   },
   "file_extension": ".py",
   "mimetype": "text/x-python",
   "name": "python",
   "nbconvert_exporter": "python",
   "pygments_lexer": "ipython3",
   "version": "3.11.3"
  }
 },
 "nbformat": 4,
 "nbformat_minor": 5
}
